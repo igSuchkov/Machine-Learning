{
  "nbformat": 4,
  "nbformat_minor": 0,
  "metadata": {
    "colab": {
      "name": "Diploma.ipynb",
      "provenance": []
    },
    "kernelspec": {
      "name": "python3",
      "display_name": "Python 3"
    },
    "accelerator": "GPU"
  },
  "cells": [
    {
      "cell_type": "code",
      "metadata": {
        "id": "n4wlbimN1_z_",
        "colab_type": "code",
        "outputId": "f643ff0b-e037-4ace-d685-df8378a8c87f",
        "colab": {
          "base_uri": "https://localhost:8080/",
          "height": 122
        }
      },
      "source": [
        "from google.colab import drive\n",
        "drive.mount('/content/gdrive')"
      ],
      "execution_count": 1,
      "outputs": [
        {
          "output_type": "stream",
          "text": [
            "Go to this URL in a browser: https://accounts.google.com/o/oauth2/auth?client_id=947318989803-6bn6qk8qdgf4n4g3pfee6491hc0brc4i.apps.googleusercontent.com&redirect_uri=urn%3aietf%3awg%3aoauth%3a2.0%3aoob&response_type=code&scope=email%20https%3a%2f%2fwww.googleapis.com%2fauth%2fdocs.test%20https%3a%2f%2fwww.googleapis.com%2fauth%2fdrive%20https%3a%2f%2fwww.googleapis.com%2fauth%2fdrive.photos.readonly%20https%3a%2f%2fwww.googleapis.com%2fauth%2fpeopleapi.readonly\n",
            "\n",
            "Enter your authorization code:\n",
            "··········\n",
            "Mounted at /content/gdrive\n"
          ],
          "name": "stdout"
        }
      ]
    },
    {
      "cell_type": "code",
      "metadata": {
        "id": "9yYF3xH3fpl_",
        "colab_type": "code",
        "outputId": "b86e9403-1fe5-4ea1-eea4-62a7fb1caeb8",
        "colab": {
          "base_uri": "https://localhost:8080/",
          "height": 68
        }
      },
      "source": [
        "import nltk\n",
        "nltk.download('stopwords')"
      ],
      "execution_count": 2,
      "outputs": [
        {
          "output_type": "stream",
          "text": [
            "[nltk_data] Downloading package stopwords to /root/nltk_data...\n",
            "[nltk_data]   Unzipping corpora/stopwords.zip.\n"
          ],
          "name": "stdout"
        },
        {
          "output_type": "execute_result",
          "data": {
            "text/plain": [
              "True"
            ]
          },
          "metadata": {
            "tags": []
          },
          "execution_count": 2
        }
      ]
    },
    {
      "cell_type": "code",
      "metadata": {
        "id": "nxyn_4QvfgyA",
        "colab_type": "code",
        "outputId": "7d8874de-ef9e-4100-b7f4-f2f8e4d23015",
        "colab": {
          "base_uri": "https://localhost:8080/",
          "height": 68
        }
      },
      "source": [
        "import pandas as pd\n",
        "import numpy as np\n",
        "import os\n",
        "\n",
        "import matplotlib\n",
        "import matplotlib.pyplot as plt\n",
        "import matplotlib.patches as mpatches\n",
        "import seaborn as sns\n",
        "\n",
        "from nltk.corpus import stopwords\n",
        "from nltk.util import ngrams\n",
        "\n",
        "from wordcloud import WordCloud\n",
        "\n",
        "from sklearn.feature_extraction.text import CountVectorizer, TfidfVectorizer\n",
        "from sklearn.model_selection import train_test_split\n",
        "from sklearn.decomposition import PCA, TruncatedSVD\n",
        "from sklearn.metrics import classification_report,confusion_matrix\n",
        "\n",
        "from collections import defaultdict\n",
        "from collections import Counter\n",
        "plt.style.use('ggplot')\n",
        "stop=set(stopwords.words('english'))\n",
        "\n",
        "import re\n",
        "from nltk.tokenize import word_tokenize\n",
        "import gensim\n",
        "import string\n",
        "\n",
        "from tqdm import tqdm\n",
        "from keras.preprocessing.text import Tokenizer\n",
        "from keras.preprocessing.sequence import pad_sequences\n",
        "from keras.models import Sequential\n",
        "from keras.layers import Embedding, LSTM,Dense, SpatialDropout1D, Dropout\n",
        "from keras.initializers import Constant\n",
        "from keras.optimizers import Adam"
      ],
      "execution_count": 3,
      "outputs": [
        {
          "output_type": "stream",
          "text": [
            "/usr/local/lib/python3.6/dist-packages/statsmodels/tools/_testing.py:19: FutureWarning: pandas.util.testing is deprecated. Use the functions in the public API at pandas.testing instead.\n",
            "  import pandas.util.testing as tm\n",
            "Using TensorFlow backend.\n"
          ],
          "name": "stderr"
        }
      ]
    },
    {
      "cell_type": "code",
      "metadata": {
        "id": "qf9izp61eOxL",
        "colab_type": "code",
        "colab": {}
      },
      "source": [
        "with open('/content/gdrive/My Drive/test.csv', 'r') as f:\n",
        "   test = pd.read_csv(f)"
      ],
      "execution_count": 0,
      "outputs": []
    },
    {
      "cell_type": "code",
      "metadata": {
        "id": "PtnvMZM7d8Yi",
        "colab_type": "code",
        "colab": {}
      },
      "source": [
        "with open('/content/gdrive/My Drive/train.csv', 'r') as f:\n",
        "   train = pd.read_csv(f)"
      ],
      "execution_count": 0,
      "outputs": []
    },
    {
      "cell_type": "code",
      "metadata": {
        "id": "86-xmmoTmSs_",
        "colab_type": "code",
        "outputId": "e0a2069e-cbfb-4596-c18d-199af7c4ec27",
        "colab": {
          "base_uri": "https://localhost:8080/",
          "height": 204
        }
      },
      "source": [
        "train.head()"
      ],
      "execution_count": 6,
      "outputs": [
        {
          "output_type": "execute_result",
          "data": {
            "text/html": [
              "<div>\n",
              "<style scoped>\n",
              "    .dataframe tbody tr th:only-of-type {\n",
              "        vertical-align: middle;\n",
              "    }\n",
              "\n",
              "    .dataframe tbody tr th {\n",
              "        vertical-align: top;\n",
              "    }\n",
              "\n",
              "    .dataframe thead th {\n",
              "        text-align: right;\n",
              "    }\n",
              "</style>\n",
              "<table border=\"1\" class=\"dataframe\">\n",
              "  <thead>\n",
              "    <tr style=\"text-align: right;\">\n",
              "      <th></th>\n",
              "      <th>id</th>\n",
              "      <th>keyword</th>\n",
              "      <th>location</th>\n",
              "      <th>text</th>\n",
              "      <th>target</th>\n",
              "    </tr>\n",
              "  </thead>\n",
              "  <tbody>\n",
              "    <tr>\n",
              "      <th>0</th>\n",
              "      <td>1</td>\n",
              "      <td>NaN</td>\n",
              "      <td>NaN</td>\n",
              "      <td>Our Deeds are the Reason of this #earthquake M...</td>\n",
              "      <td>1</td>\n",
              "    </tr>\n",
              "    <tr>\n",
              "      <th>1</th>\n",
              "      <td>4</td>\n",
              "      <td>NaN</td>\n",
              "      <td>NaN</td>\n",
              "      <td>Forest fire near La Ronge Sask. Canada</td>\n",
              "      <td>1</td>\n",
              "    </tr>\n",
              "    <tr>\n",
              "      <th>2</th>\n",
              "      <td>5</td>\n",
              "      <td>NaN</td>\n",
              "      <td>NaN</td>\n",
              "      <td>All residents asked to 'shelter in place' are ...</td>\n",
              "      <td>1</td>\n",
              "    </tr>\n",
              "    <tr>\n",
              "      <th>3</th>\n",
              "      <td>6</td>\n",
              "      <td>NaN</td>\n",
              "      <td>NaN</td>\n",
              "      <td>13,000 people receive #wildfires evacuation or...</td>\n",
              "      <td>1</td>\n",
              "    </tr>\n",
              "    <tr>\n",
              "      <th>4</th>\n",
              "      <td>7</td>\n",
              "      <td>NaN</td>\n",
              "      <td>NaN</td>\n",
              "      <td>Just got sent this photo from Ruby #Alaska as ...</td>\n",
              "      <td>1</td>\n",
              "    </tr>\n",
              "  </tbody>\n",
              "</table>\n",
              "</div>"
            ],
            "text/plain": [
              "   id keyword  ...                                               text target\n",
              "0   1     NaN  ...  Our Deeds are the Reason of this #earthquake M...      1\n",
              "1   4     NaN  ...             Forest fire near La Ronge Sask. Canada      1\n",
              "2   5     NaN  ...  All residents asked to 'shelter in place' are ...      1\n",
              "3   6     NaN  ...  13,000 people receive #wildfires evacuation or...      1\n",
              "4   7     NaN  ...  Just got sent this photo from Ruby #Alaska as ...      1\n",
              "\n",
              "[5 rows x 5 columns]"
            ]
          },
          "metadata": {
            "tags": []
          },
          "execution_count": 6
        }
      ]
    },
    {
      "cell_type": "code",
      "metadata": {
        "id": "3hMAC5knbhur",
        "colab_type": "code",
        "colab": {
          "base_uri": "https://localhost:8080/",
          "height": 34
        },
        "outputId": "84b1c024-c9c0-496e-d073-8c7d72023fc7"
      },
      "source": [
        "train.text[500]"
      ],
      "execution_count": 14,
      "outputs": [
        {
          "output_type": "execute_result",
          "data": {
            "text/plain": [
              "'Christian Attacked by Muslims at the Temple Mount after Waving Israeli Flag via Pamela Geller - ... http://t.co/LHBZHWq4B9'"
            ]
          },
          "metadata": {
            "tags": []
          },
          "execution_count": 14
        }
      ]
    },
    {
      "cell_type": "code",
      "metadata": {
        "id": "qZAHRlxmeWsK",
        "colab_type": "code",
        "colab": {}
      },
      "source": [
        "ids_with_target_error = [328,443,513,2619,3640,3900,4342,5781,6552,6554,6570,6701,6702,6729,6861,7226]\n",
        "train.loc[train['id'].isin(ids_with_target_error),'target'] = 0"
      ],
      "execution_count": 0,
      "outputs": []
    },
    {
      "cell_type": "code",
      "metadata": {
        "id": "8oeIFBABfUCd",
        "colab_type": "code",
        "colab": {}
      },
      "source": [
        "Real_len = train[train['target'] == 1].shape[0]\n",
        "Not_len = train[train['target'] == 0].shape[0]"
      ],
      "execution_count": 0,
      "outputs": []
    },
    {
      "cell_type": "code",
      "metadata": {
        "id": "ecAWCwa-hGBI",
        "colab_type": "code",
        "outputId": "cf205939-65b8-49cc-d625-b9fbf256cbf9",
        "colab": {
          "base_uri": "https://localhost:8080/",
          "height": 337
        }
      },
      "source": [
        "plt.rcParams['figure.figsize'] = (7, 5)\n",
        "plt.bar(10,Real_len,3, label=\"True\", color='blue')\n",
        "plt.bar(15,Not_len,3, label=\"False\", color='red')\n",
        "plt.legend()\n",
        "plt.ylabel('Number of examples')\n",
        "plt.title('Propertion of examples')\n",
        "plt.show()"
      ],
      "execution_count": 16,
      "outputs": [
        {
          "output_type": "display_data",
          "data": {
            "image/png": "[encoded data removed]",
            "text/plain": [
              "<Figure size 504x360 with 1 Axes>"
            ]
          },
          "metadata": {
            "tags": []
          }
        }
      ]
    },
    {
      "cell_type": "code",
      "metadata": {
        "id": "OoH2dK3_kHTp",
        "colab_type": "code",
        "colab": {
          "base_uri": "https://localhost:8080/",
          "height": 51
        },
        "outputId": "0ea95aa0-bff7-47be-b09e-aa422d809ca4"
      },
      "source": [
        "print('Положительных объектов - ',len(train.loc[train.target == 1]))\n",
        "print('Отрицательных объектов - ', len(train.loc[train.target == 0]))"
      ],
      "execution_count": 41,
      "outputs": [
        {
          "output_type": "stream",
          "text": [
            "Положительных объектов -  3255\n",
            "Отрицательных объектов -  4358\n"
          ],
          "name": "stdout"
        }
      ]
    },
    {
      "cell_type": "code",
      "metadata": {
        "id": "wSJ1fYpYEgL5",
        "colab_type": "code",
        "colab": {}
      },
      "source": [
        "def length(text):    \n",
        "    return len(text)"
      ],
      "execution_count": 0,
      "outputs": []
    },
    {
      "cell_type": "code",
      "metadata": {
        "id": "kHWuRRDIEuMj",
        "colab_type": "code",
        "colab": {}
      },
      "source": [
        "train['length'] = train['text'].apply(length)"
      ],
      "execution_count": 0,
      "outputs": []
    },
    {
      "cell_type": "code",
      "metadata": {
        "id": "7an2CwL9ExpD",
        "colab_type": "code",
        "outputId": "aa08d75f-42fd-4d63-a20b-a418610760d4",
        "colab": {
          "base_uri": "https://localhost:8080/",
          "height": 391
        }
      },
      "source": [
        "plt.rcParams['figure.figsize'] = (18.0, 6.0)\n",
        "bins = 150\n",
        "plt.hist(train[train['target'] == 0]['length'], alpha = 0.6, bins=bins, label='False')\n",
        "plt.hist(train[train['target'] == 1]['length'], alpha = 0.8, bins=bins, label='True')\n",
        "plt.xlabel('length')\n",
        "plt.ylabel('numbers')\n",
        "plt.legend(loc='upper right')\n",
        "plt.xlim(0,150)\n",
        "plt.grid()\n",
        "plt.show()"
      ],
      "execution_count": 19,
      "outputs": [
        {
          "output_type": "display_data",
          "data": {
            "image/png": "[encoded data removed]",
            "text/plain": [
              "<Figure size 1296x432 with 1 Axes>"
            ]
          },
          "metadata": {
            "tags": []
          }
        }
      ]
    },
    {
      "cell_type": "code",
      "metadata": {
        "id": "-MGsdhvgPQpg",
        "colab_type": "code",
        "outputId": "32de88a4-280e-4043-fa7f-7fc4f814ef9a",
        "colab": {
          "base_uri": "https://localhost:8080/",
          "height": 356
        }
      },
      "source": [
        "fig,(ax1,ax2)=plt.subplots(1,2,figsize=(10,5))\n",
        "tweet_len=train[train['target']==1]['text'].str.split().map(lambda x: len(x))\n",
        "ax1.hist(tweet_len,color='blue')\n",
        "ax1.set_title('disaster tweets')\n",
        "tweet_len=train[train['target']==0]['text'].str.split().map(lambda x: len(x))\n",
        "ax2.hist(tweet_len,color='red')\n",
        "ax2.set_title('Not disaster tweets')\n",
        "fig.suptitle('Words in a tweet')\n",
        "plt.show()"
      ],
      "execution_count": 20,
      "outputs": [
        {
          "output_type": "display_data",
          "data": {
            "image/png": "[encoded data removed]",
            "text/plain": [
              "<Figure size 720x360 with 2 Axes>"
            ]
          },
          "metadata": {
            "tags": []
          }
        }
      ]
    },
    {
      "cell_type": "code",
      "metadata": {
        "id": "_d3hj8KqP6r1",
        "colab_type": "code",
        "outputId": "bfd70113-c298-4e13-f819-6e9a8c0b8354",
        "colab": {
          "base_uri": "https://localhost:8080/",
          "height": 390
        }
      },
      "source": [
        "fig,(ax1,ax2)=plt.subplots(1,2,figsize=(10,5))\n",
        "word=train[train['target']==1]['text'].str.split().apply(lambda x : [len(i) for i in x])\n",
        "sns.distplot(word.map(lambda x: np.mean(x)),ax=ax1,color='blue')\n",
        "ax1.set_title('disaster')\n",
        "word=train[train['target']==0]['text'].str.split().apply(lambda x : [len(i) for i in x])\n",
        "sns.distplot(word.map(lambda x: np.mean(x)),ax=ax2,color='red')\n",
        "ax2.set_title('Not disaster')\n",
        "fig.suptitle('Average word length in each tweet')"
      ],
      "execution_count": 21,
      "outputs": [
        {
          "output_type": "execute_result",
          "data": {
            "text/plain": [
              "Text(0.5, 0.98, 'Average word length in each tweet')"
            ]
          },
          "metadata": {
            "tags": []
          },
          "execution_count": 21
        },
        {
          "output_type": "display_data",
          "data": {
            "image/png": "[encoded data removed]",
            "text/plain": [
              "<Figure size 720x360 with 2 Axes>"
            ]
          },
          "metadata": {
            "tags": []
          }
        }
      ]
    },
    {
      "cell_type": "code",
      "metadata": {
        "id": "KizO6JqrRwCA",
        "colab_type": "code",
        "colab": {}
      },
      "source": [
        "def get_top_tweet_bigrams(corpus, n=None):\n",
        "    vec = CountVectorizer(ngram_range=(2, 2)).fit(corpus)\n",
        "    bag_of_words = vec.transform(corpus)\n",
        "    sum_words = bag_of_words.sum(axis=0) \n",
        "    words_freq = [(word, sum_words[0, idx]) for word, idx in vec.vocabulary_.items()]\n",
        "    words_freq =sorted(words_freq, key = lambda x: x[1], reverse=True)\n",
        "    return words_freq[:n]"
      ],
      "execution_count": 0,
      "outputs": []
    },
    {
      "cell_type": "code",
      "metadata": {
        "id": "tAXp-jPLRyy8",
        "colab_type": "code",
        "outputId": "3789671a-1708-4097-88d7-c74f343e4808",
        "colab": {
          "base_uri": "https://localhost:8080/",
          "height": 337
        }
      },
      "source": [
        "plt.figure(figsize=(16,5))\n",
        "top_tweet_bigrams=get_top_tweet_bigrams(df['text'])[:10]\n",
        "x,y=map(list,zip(*top_tweet_bigrams))\n",
        "sns.barplot(x=y,y=x)"
      ],
      "execution_count": 35,
      "outputs": [
        {
          "output_type": "execute_result",
          "data": {
            "text/plain": [
              "<matplotlib.axes._subplots.AxesSubplot at 0x7f022e114978>"
            ]
          },
          "metadata": {
            "tags": []
          },
          "execution_count": 35
        },
        {
          "output_type": "display_data",
          "data": {
            "image/png": "[encoded data removed]",
            "text/plain": [
              "<Figure size 1152x360 with 1 Axes>"
            ]
          },
          "metadata": {
            "tags": []
          }
        }
      ]
    },
    {
      "cell_type": "code",
      "metadata": {
        "id": "-apD-PPjSOH_",
        "colab_type": "code",
        "colab": {}
      },
      "source": [
        "def get_top_tweet_bigrams_3(corpus, n=None):\n",
        "    vec = CountVectorizer(ngram_range=(3, 3)).fit(corpus)\n",
        "    bag_of_words = vec.transform(corpus)\n",
        "    sum_words = bag_of_words.sum(axis=0) \n",
        "    words_freq = [(word, sum_words[0, idx]) for word, idx in vec.vocabulary_.items()]\n",
        "    words_freq =sorted(words_freq, key = lambda x: x[1], reverse=True)\n",
        "    return words_freq[:n]"
      ],
      "execution_count": 0,
      "outputs": []
    },
    {
      "cell_type": "code",
      "metadata": {
        "id": "86KqKehFSTG4",
        "colab_type": "code",
        "outputId": "fdf1fda9-ea2b-4717-f6a1-8a661773380b",
        "colab": {
          "base_uri": "https://localhost:8080/",
          "height": 337
        }
      },
      "source": [
        "plt.figure(figsize=(16,5))\n",
        "top_tweet_bigrams=get_top_tweet_bigrams_3(df['text'])[:10]\n",
        "x,y=map(list,zip(*top_tweet_bigrams))\n",
        "sns.barplot(x=y,y=x)"
      ],
      "execution_count": 37,
      "outputs": [
        {
          "output_type": "execute_result",
          "data": {
            "text/plain": [
              "<matplotlib.axes._subplots.AxesSubplot at 0x7f022e3bd898>"
            ]
          },
          "metadata": {
            "tags": []
          },
          "execution_count": 37
        },
        {
          "output_type": "display_data",
          "data": {
            "image/png": "[encoded data removed]",
            "text/plain": [
              "<Figure size 1152x360 with 1 Axes>"
            ]
          },
          "metadata": {
            "tags": []
          }
        }
      ]
    },
    {
      "cell_type": "markdown",
      "metadata": {
        "id": "eXPJHQeYYElT",
        "colab_type": "text"
      },
      "source": [
        "Cleaning"
      ]
    },
    {
      "cell_type": "code",
      "metadata": {
        "id": "IEdEDlMyYc_b",
        "colab_type": "code",
        "outputId": "770499ae-7f73-4f2f-d3f0-c064b4b3b2e7",
        "colab": {
          "base_uri": "https://localhost:8080/",
          "height": 34
        }
      },
      "source": [
        "df=pd.concat([train,test])\n",
        "df.shape"
      ],
      "execution_count": 26,
      "outputs": [
        {
          "output_type": "execute_result",
          "data": {
            "text/plain": [
              "(10876, 6)"
            ]
          },
          "metadata": {
            "tags": []
          },
          "execution_count": 26
        }
      ]
    },
    {
      "cell_type": "code",
      "metadata": {
        "id": "07Vg-dH8YDXz",
        "colab_type": "code",
        "colab": {}
      },
      "source": [
        "def remove_URL(text):\n",
        "    url = re.compile(r'https?://\\S+|www\\.\\S+')\n",
        "    return url.sub(r'',text)\n",
        "\n",
        "def remove_html(text):\n",
        "    html=re.compile(r'<.*?>')\n",
        "    return html.sub(r'',text)\n",
        "\n",
        "df['text']=df['text'].apply(lambda x : remove_URL(x))\n",
        "df['text']=df['text'].apply(lambda x : remove_html(x))"
      ],
      "execution_count": 0,
      "outputs": []
    },
    {
      "cell_type": "code",
      "metadata": {
        "id": "b-Kqw0n2Y5aw",
        "colab_type": "code",
        "colab": {}
      },
      "source": [
        "def remove_emoji(text):\n",
        "    emoji_pattern = re.compile(\"[\"\n",
        "                           u\"\\U0001F600-\\U0001F64F\"  # emoticons\n",
        "                           u\"\\U0001F300-\\U0001F5FF\"  # symbols & pictographs\n",
        "                           u\"\\U0001F680-\\U0001F6FF\"  # transport & map symbols\n",
        "                           u\"\\U0001F1E0-\\U0001F1FF\"  # flags (iOS)\n",
        "                           u\"\\U00002702-\\U000027B0\"\n",
        "                           u\"\\U000024C2-\\U0001F251\"\n",
        "                           \"]+\", flags=re.UNICODE)\n",
        "    return emoji_pattern.sub(r'', text)\n",
        "\n",
        "df['text']=df['text'].apply(lambda x: remove_emoji(x))"
      ],
      "execution_count": 0,
      "outputs": []
    },
    {
      "cell_type": "code",
      "metadata": {
        "id": "rkDhY7QbevTk",
        "colab_type": "code",
        "colab": {}
      },
      "source": [
        "def remove_punct(text):\n",
        "    table=str.maketrans('','',string.punctuation)\n",
        "    return text.translate(table)\n",
        "\n",
        "df['text']=df['text'].apply(lambda x : remove_punct(x))"
      ],
      "execution_count": 0,
      "outputs": []
    },
    {
      "cell_type": "code",
      "metadata": {
        "id": "e5pAj3OjfBi_",
        "colab_type": "code",
        "colab": {}
      },
      "source": [
        "def cv(data):\n",
        "    count_vectorizer = CountVectorizer()\n",
        "\n",
        "    emb = count_vectorizer.fit_transform(data)\n",
        "\n",
        "    return emb, count_vectorizer\n",
        "\n",
        "list_corpus = df[\"text\"].tolist()\n",
        "list_labels = df[\"target\"].tolist()\n",
        "\n",
        "X_train, X_test, y_train, y_test = train_test_split(list_corpus, list_labels, test_size=0.2, \n",
        "                                                                                random_state=17)\n",
        "\n",
        "X_train_counts, count_vectorizer = cv(X_train)\n",
        "X_test_counts = count_vectorizer.transform(X_test)"
      ],
      "execution_count": 0,
      "outputs": []
    },
    {
      "cell_type": "code",
      "metadata": {
        "id": "HiYujg7RkBaC",
        "colab_type": "code",
        "colab": {}
      },
      "source": [
        "TEXT_LENGTH = 1800\n",
        "VOCABULARY_SIZE = 250000\n",
        "EMBEDDING_DIM = 300\n",
        "DIMS = 250\n",
        "MAX_FEATURES = 5000\n",
        "batch_size = 32\n",
        "\n",
        "nb_filter = 250\n",
        "filter_length = 3\n",
        "hidden_dims = 250\n",
        "nb_epoch = 10"
      ],
      "execution_count": 0,
      "outputs": []
    },
    {
      "cell_type": "code",
      "metadata": {
        "id": "amEZqrDSCao1",
        "colab_type": "code",
        "outputId": "8b6ccdc6-18f6-44cd-bd01-ababf12af317",
        "colab": {
          "base_uri": "https://localhost:8080/",
          "height": 34
        }
      },
      "source": [
        "tokenizer = Tokenizer(num_words=MAX_FEATURES)\n",
        "tokenizer.fit_on_texts(train.text)\n",
        "tokenizer"
      ],
      "execution_count": 26,
      "outputs": [
        {
          "output_type": "execute_result",
          "data": {
            "text/plain": [
              "<keras_preprocessing.text.Tokenizer at 0x7fb79c0e80f0>"
            ]
          },
          "metadata": {
            "tags": []
          },
          "execution_count": 26
        }
      ]
    },
    {
      "cell_type": "code",
      "metadata": {
        "id": "t-P3ePq1Coz2",
        "colab_type": "code",
        "colab": {}
      },
      "source": [
        "sequences = tokenizer.texts_to_sequences(train.text)\n",
        "X_train = tokenizer.sequences_to_matrix(sequences, mode='count')\n",
        "sequences = tokenizer.texts_to_sequences(test.text)\n",
        "X_test = tokenizer.sequences_to_matrix(sequences, mode='count')"
      ],
      "execution_count": 0,
      "outputs": []
    },
    {
      "cell_type": "code",
      "metadata": {
        "id": "NMuZbikDC2SF",
        "colab_type": "code",
        "colab": {}
      },
      "source": [
        "from sklearn.model_selection import train_test_split\n",
        "X_train, X_test, y_train, y_test = train_test_split(X_train, train.target, test_size = 0.2, random_state = 42)"
      ],
      "execution_count": 0,
      "outputs": []
    },
    {
      "cell_type": "code",
      "metadata": {
        "id": "JAvnphXXo8vX",
        "colab_type": "code",
        "colab": {
          "base_uri": "https://localhost:8080/",
          "height": 34
        },
        "outputId": "f0a7ef6d-d500-43b3-87c8-0a8b48cba250"
      },
      "source": [
        "X_train[0]"
      ],
      "execution_count": 29,
      "outputs": [
        {
          "output_type": "execute_result",
          "data": {
            "text/plain": [
              "array([0., 1., 1., ..., 0., 0., 0.])"
            ]
          },
          "metadata": {
            "tags": []
          },
          "execution_count": 29
        }
      ]
    },
    {
      "cell_type": "code",
      "metadata": {
        "id": "IDChJmO1FATZ",
        "colab_type": "code",
        "outputId": "c6a17fc5-9faf-40dd-8e0d-cf087c562fa2",
        "colab": {
          "base_uri": "https://localhost:8080/",
          "height": 1000
        }
      },
      "source": [
        "model = Sequential()\n",
        "model.add(Dense(128, input_shape=(MAX_FEATURES,), activation = 'relu'))\n",
        "model.add(Dropout(0.1))\n",
        "model.add(Dense(128, activation = 'relu'))\n",
        "model.add(Dense(64, activation = 'relu'))\n",
        "model.add(Dense(64, activation = 'relu'))\n",
        "model.add(Dense(1, activation = 'sigmoid'))\n",
        "model.compile(loss='binary_crossentropy', optimizer='adam', metrics=['accuracy'])\n",
        "model.fit(X_train, y_train, epochs=30, batch_size=128,  validation_split=0.1)"
      ],
      "execution_count": 30,
      "outputs": [
        {
          "output_type": "stream",
          "text": [
            "Train on 5481 samples, validate on 609 samples\n",
            "Epoch 1/30\n",
            "5481/5481 [==============================] - 2s 387us/step - loss: 0.5844 - accuracy: 0.6948 - val_loss: 0.4238 - val_accuracy: 0.8210\n",
            "Epoch 2/30\n",
            "5481/5481 [==============================] - 0s 47us/step - loss: 0.3192 - accuracy: 0.8717 - val_loss: 0.4221 - val_accuracy: 0.8194\n",
            "Epoch 3/30\n",
            "5481/5481 [==============================] - 0s 44us/step - loss: 0.1805 - accuracy: 0.9358 - val_loss: 0.5425 - val_accuracy: 0.8342\n",
            "Epoch 4/30\n",
            "5481/5481 [==============================] - 0s 46us/step - loss: 0.1060 - accuracy: 0.9657 - val_loss: 0.5879 - val_accuracy: 0.8161\n",
            "Epoch 5/30\n",
            "5481/5481 [==============================] - 0s 49us/step - loss: 0.0734 - accuracy: 0.9734 - val_loss: 0.6993 - val_accuracy: 0.8128\n",
            "Epoch 6/30\n",
            "5481/5481 [==============================] - 0s 45us/step - loss: 0.0596 - accuracy: 0.9799 - val_loss: 0.7447 - val_accuracy: 0.8062\n",
            "Epoch 7/30\n",
            "5481/5481 [==============================] - 0s 47us/step - loss: 0.0533 - accuracy: 0.9796 - val_loss: 0.7915 - val_accuracy: 0.8177\n",
            "Epoch 8/30\n",
            "5481/5481 [==============================] - 0s 45us/step - loss: 0.0485 - accuracy: 0.9797 - val_loss: 0.7936 - val_accuracy: 0.8144\n",
            "Epoch 9/30\n",
            "5481/5481 [==============================] - 0s 46us/step - loss: 0.0407 - accuracy: 0.9808 - val_loss: 0.9083 - val_accuracy: 0.8177\n",
            "Epoch 10/30\n",
            "5481/5481 [==============================] - 0s 44us/step - loss: 0.0408 - accuracy: 0.9814 - val_loss: 0.9098 - val_accuracy: 0.7997\n",
            "Epoch 11/30\n",
            "5481/5481 [==============================] - 0s 44us/step - loss: 0.0360 - accuracy: 0.9830 - val_loss: 1.0168 - val_accuracy: 0.8112\n",
            "Epoch 12/30\n",
            "5481/5481 [==============================] - 0s 45us/step - loss: 0.0326 - accuracy: 0.9836 - val_loss: 1.0750 - val_accuracy: 0.7997\n",
            "Epoch 13/30\n",
            "5481/5481 [==============================] - 0s 47us/step - loss: 0.0321 - accuracy: 0.9856 - val_loss: 1.1217 - val_accuracy: 0.7997\n",
            "Epoch 14/30\n",
            "5481/5481 [==============================] - 0s 45us/step - loss: 0.0315 - accuracy: 0.9850 - val_loss: 1.1193 - val_accuracy: 0.8062\n",
            "Epoch 15/30\n",
            "5481/5481 [==============================] - 0s 43us/step - loss: 0.0308 - accuracy: 0.9843 - val_loss: 1.1962 - val_accuracy: 0.7980\n",
            "Epoch 16/30\n",
            "5481/5481 [==============================] - 0s 46us/step - loss: 0.0285 - accuracy: 0.9858 - val_loss: 1.3207 - val_accuracy: 0.8095\n",
            "Epoch 17/30\n",
            "5481/5481 [==============================] - 0s 47us/step - loss: 0.0315 - accuracy: 0.9843 - val_loss: 1.2531 - val_accuracy: 0.8030\n",
            "Epoch 18/30\n",
            "5481/5481 [==============================] - 0s 44us/step - loss: 0.0287 - accuracy: 0.9836 - val_loss: 1.3022 - val_accuracy: 0.8013\n",
            "Epoch 19/30\n",
            "5481/5481 [==============================] - 0s 44us/step - loss: 0.0294 - accuracy: 0.9854 - val_loss: 1.3390 - val_accuracy: 0.7980\n",
            "Epoch 20/30\n",
            "5481/5481 [==============================] - 0s 48us/step - loss: 0.0285 - accuracy: 0.9845 - val_loss: 1.3632 - val_accuracy: 0.8030\n",
            "Epoch 21/30\n",
            "5481/5481 [==============================] - 0s 47us/step - loss: 0.0277 - accuracy: 0.9843 - val_loss: 1.3623 - val_accuracy: 0.8062\n",
            "Epoch 22/30\n",
            "5481/5481 [==============================] - 0s 44us/step - loss: 0.0261 - accuracy: 0.9863 - val_loss: 1.4975 - val_accuracy: 0.8046\n",
            "Epoch 23/30\n",
            "5481/5481 [==============================] - 0s 46us/step - loss: 0.0292 - accuracy: 0.9847 - val_loss: 1.4077 - val_accuracy: 0.7980\n",
            "Epoch 24/30\n",
            "5481/5481 [==============================] - 0s 48us/step - loss: 0.0317 - accuracy: 0.9847 - val_loss: 1.3603 - val_accuracy: 0.7947\n",
            "Epoch 25/30\n",
            "5481/5481 [==============================] - 0s 46us/step - loss: 0.0321 - accuracy: 0.9847 - val_loss: 1.2250 - val_accuracy: 0.8095\n",
            "Epoch 26/30\n",
            "5481/5481 [==============================] - 0s 45us/step - loss: 0.0277 - accuracy: 0.9861 - val_loss: 1.2593 - val_accuracy: 0.8095\n",
            "Epoch 27/30\n",
            "5481/5481 [==============================] - 0s 44us/step - loss: 0.0265 - accuracy: 0.9850 - val_loss: 1.4535 - val_accuracy: 0.7980\n",
            "Epoch 28/30\n",
            "5481/5481 [==============================] - 0s 45us/step - loss: 0.0258 - accuracy: 0.9850 - val_loss: 1.5339 - val_accuracy: 0.7980\n",
            "Epoch 29/30\n",
            "5481/5481 [==============================] - 0s 47us/step - loss: 0.0266 - accuracy: 0.9856 - val_loss: 1.6771 - val_accuracy: 0.7997\n",
            "Epoch 30/30\n",
            "5481/5481 [==============================] - 0s 45us/step - loss: 0.0273 - accuracy: 0.9860 - val_loss: 1.4335 - val_accuracy: 0.8112\n"
          ],
          "name": "stdout"
        },
        {
          "output_type": "execute_result",
          "data": {
            "text/plain": [
              "<keras.callbacks.callbacks.History at 0x7fb79c9ff6d8>"
            ]
          },
          "metadata": {
            "tags": []
          },
          "execution_count": 30
        }
      ]
    },
    {
      "cell_type": "code",
      "metadata": {
        "id": "ASsHUQeYtSGl",
        "colab_type": "code",
        "colab": {}
      },
      "source": [
        ""
      ],
      "execution_count": 0,
      "outputs": []
    },
    {
      "cell_type": "markdown",
      "metadata": {
        "id": "FsLv13TjuNi9",
        "colab_type": "text"
      },
      "source": [
        "BERT"
      ]
    },
    {
      "cell_type": "code",
      "metadata": {
        "id": "xECB2MjMi5f4",
        "colab_type": "code",
        "colab": {}
      },
      "source": [
        "!wget --quiet https://raw.githubusercontent.com/tensorflow/models/master/official/nlp/bert/tokenization.py"
      ],
      "execution_count": 0,
      "outputs": []
    },
    {
      "cell_type": "code",
      "metadata": {
        "id": "tiVhNt5WtkUY",
        "colab_type": "code",
        "colab": {
          "base_uri": "https://localhost:8080/",
          "height": 187
        },
        "outputId": "b9d2b8be-913f-4133-80e7-d8afb807b597"
      },
      "source": [
        "!pip3 install sentencepiece\n",
        "!pip3 install tf_sentencepiece"
      ],
      "execution_count": 32,
      "outputs": [
        {
          "output_type": "stream",
          "text": [
            "Collecting sentencepiece\n",
            "\u001b[?25l  Downloading https://files.pythonhosted.org/packages/98/2c/8df20f3ac6c22ac224fff307ebc102818206c53fc454ecd37d8ac2060df5/sentencepiece-0.1.86-cp36-cp36m-manylinux1_x86_64.whl (1.0MB)\n",
            "\u001b[K     |████████████████████████████████| 1.0MB 4.9MB/s \n",
            "\u001b[?25hInstalling collected packages: sentencepiece\n",
            "Successfully installed sentencepiece-0.1.86\n",
            "Collecting tf_sentencepiece\n",
            "\u001b[?25l  Downloading https://files.pythonhosted.org/packages/42/08/6d97e0384ef6cbe7fb476fe3cac51bc2fe766ed626f504e31e788ea2c67d/tf_sentencepiece-0.1.86-py2.py3-none-manylinux1_x86_64.whl (2.1MB)\n",
            "\u001b[K     |████████████████████████████████| 2.1MB 4.8MB/s \n",
            "\u001b[?25hInstalling collected packages: tf-sentencepiece\n",
            "Successfully installed tf-sentencepiece-0.1.86\n"
          ],
          "name": "stdout"
        }
      ]
    },
    {
      "cell_type": "code",
      "metadata": {
        "id": "bL1ApFHnldxl",
        "colab_type": "code",
        "colab": {}
      },
      "source": [
        "import tensorflow as tf\n",
        "from tensorflow.keras.layers import Dense, Input\n",
        "from tensorflow.keras.optimizers import Adam\n",
        "from tensorflow.keras.models import Model\n",
        "from tensorflow.keras.callbacks import ModelCheckpoint\n",
        "import tensorflow_hub as hub\n",
        "\n",
        "import tokenization"
      ],
      "execution_count": 0,
      "outputs": []
    },
    {
      "cell_type": "code",
      "metadata": {
        "id": "jqLJ8LBPtTGn",
        "colab_type": "code",
        "colab": {}
      },
      "source": [
        "def bert_encode(texts, tokenizer, max_len=512):\n",
        "    all_tokens = []\n",
        "    all_masks = []\n",
        "    all_segments = []\n",
        "    \n",
        "    for text in texts:\n",
        "        text = tokenizer.tokenize(text)\n",
        "            \n",
        "        text = text[:max_len-2]\n",
        "        input_sequence = [\"[CLS]\"] + text + [\"[SEP]\"]\n",
        "        pad_len = max_len - len(input_sequence)\n",
        "        \n",
        "        tokens = tokenizer.convert_tokens_to_ids(input_sequence)\n",
        "        tokens += [0] * pad_len\n",
        "        pad_masks = [1] * len(input_sequence) + [0] * pad_len\n",
        "        segment_ids = [0] * max_len\n",
        "        \n",
        "        all_tokens.append(tokens)\n",
        "        all_masks.append(pad_masks)\n",
        "        all_segments.append(segment_ids)\n",
        "    \n",
        "    return np.array(all_tokens), np.array(all_masks), np.array(all_segments)"
      ],
      "execution_count": 0,
      "outputs": []
    },
    {
      "cell_type": "code",
      "metadata": {
        "id": "OBYQTTQDBGGs",
        "colab_type": "code",
        "colab": {}
      },
      "source": [
        "random_state_split = 10\n",
        "Dropout_num = 0\n",
        "learning_rate = 6e-6\n",
        "valid = 0.2\n",
        "epochs_num = 3\n",
        "batch_size_num = 16\n",
        "target_corrected = False\n",
        "target_big_corrected = False"
      ],
      "execution_count": 0,
      "outputs": []
    },
    {
      "cell_type": "code",
      "metadata": {
        "id": "JuFq3ZodttkS",
        "colab_type": "code",
        "colab": {}
      },
      "source": [
        "def build_model(bert_layer, max_len=512):\n",
        "    input_word_ids = Input(shape=(max_len,), dtype=tf.int32, name=\"input_word_ids\")\n",
        "    input_mask = Input(shape=(max_len,), dtype=tf.int32, name=\"input_mask\")\n",
        "    segment_ids = Input(shape=(max_len,), dtype=tf.int32, name=\"segment_ids\")\n",
        "\n",
        "    _, sequence_output = bert_layer([input_word_ids, input_mask, segment_ids])\n",
        "    clf_output = sequence_output[:, 0, :]\n",
        "    \n",
        "    if Dropout_num == 0:\n",
        "        # Without Dropout\n",
        "        out = Dense(1, activation='sigmoid')(clf_output)\n",
        "    else:\n",
        "        # With Dropout(Dropout_num), Dropout_num > 0\n",
        "        x = Dropout(Dropout_num)(clf_output)\n",
        "        out = Dense(1, activation='sigmoid')(x)\n",
        "\n",
        "    model = Model(inputs=[input_word_ids, input_mask, segment_ids], outputs=out)\n",
        "    model.compile(Adam(lr=learning_rate), loss='binary_crossentropy', metrics=['accuracy'])\n",
        "    \n",
        "    return model"
      ],
      "execution_count": 0,
      "outputs": []
    },
    {
      "cell_type": "code",
      "metadata": {
        "id": "pPrVBHg38Nyg",
        "colab_type": "code",
        "colab": {}
      },
      "source": [
        "stops = set(stopwords.words('english'))"
      ],
      "execution_count": 0,
      "outputs": []
    },
    {
      "cell_type": "code",
      "metadata": {
        "id": "K5Lj97G99iop",
        "colab_type": "code",
        "colab": {}
      },
      "source": [
        "def no_stops(text):\n",
        "    STOPWORDS = set(stopwords.words('english'))\n",
        "    return ' '.join([word for word in text.split() if word not in STOPWORDS])\n",
        "\n",
        "df['text']=df['text'].apply(lambda x : no_stops(x))"
      ],
      "execution_count": 0,
      "outputs": []
    },
    {
      "cell_type": "code",
      "metadata": {
        "id": "SCQIIuEq_X9F",
        "colab_type": "code",
        "colab": {
          "base_uri": "https://localhost:8080/",
          "height": 34
        },
        "outputId": "238d1eff-e2da-4461-c334-7bbfcbfc3975"
      },
      "source": [
        ""
      ],
      "execution_count": 43,
      "outputs": [
        {
          "output_type": "execute_result",
          "data": {
            "text/plain": [
              "'Our Deeds Reason earthquake May ALLAH Forgive us'"
            ]
          },
          "metadata": {
            "tags": []
          },
          "execution_count": 43
        }
      ]
    },
    {
      "cell_type": "code",
      "metadata": {
        "id": "4Qg1jb9pty_N",
        "colab_type": "code",
        "colab": {}
      },
      "source": [
        "train[\"text\"] = train[\"text\"].apply(lambda x: remove_emoji(x))\n",
        "train[\"text\"] = train[\"text\"].apply(lambda x: remove_html(x))\n",
        "train[\"text\"] = train[\"text\"].apply(lambda x: remove_punct(x))\n",
        "train[\"text\"] = train[\"text\"].apply(lambda x: remove_URL(x))"
      ],
      "execution_count": 0,
      "outputs": []
    },
    {
      "cell_type": "code",
      "metadata": {
        "id": "cpLcy9bQ7mix",
        "colab_type": "code",
        "colab": {}
      },
      "source": [
        "module_url = \"https://tfhub.dev/tensorflow/bert_en_uncased_L-24_H-1024_A-16/1\"\n",
        "bert_layer = hub.KerasLayer(module_url, trainable=True)"
      ],
      "execution_count": 0,
      "outputs": []
    },
    {
      "cell_type": "code",
      "metadata": {
        "id": "UAIDPfoD7RGt",
        "colab_type": "code",
        "colab": {}
      },
      "source": [
        "vocab_file = bert_layer.resolved_object.vocab_file.asset_path.numpy()\n",
        "do_lower_case = bert_layer.resolved_object.do_lower_case.numpy()\n",
        "tokenizer = tokenization.FullTokenizer(vocab_file, do_lower_case)"
      ],
      "execution_count": 0,
      "outputs": []
    },
    {
      "cell_type": "code",
      "metadata": {
        "id": "Pfvq0Ero7w0i",
        "colab_type": "code",
        "colab": {}
      },
      "source": [
        "train_input = bert_encode(train.text.values, tokenizer, max_len=160)\n",
        "test_input = bert_encode(test.text.values, tokenizer, max_len=160)\n",
        "train_labels = train.target.values"
      ],
      "execution_count": 0,
      "outputs": []
    },
    {
      "cell_type": "code",
      "metadata": {
        "id": "3tHRWgQ4_1Sy",
        "colab_type": "code",
        "colab": {
          "base_uri": "https://localhost:8080/",
          "height": 391
        },
        "outputId": "b9e24458-d2fc-4a82-8543-a109b316e70f"
      },
      "source": [
        "model_BERT = build_model(bert_layer, max_len=160)\n",
        "model_BERT.summary()"
      ],
      "execution_count": 56,
      "outputs": [
        {
          "output_type": "stream",
          "text": [
            "Model: \"model_1\"\n",
            "__________________________________________________________________________________________________\n",
            "Layer (type)                    Output Shape         Param #     Connected to                     \n",
            "==================================================================================================\n",
            "input_word_ids (InputLayer)     [(None, 160)]        0                                            \n",
            "__________________________________________________________________________________________________\n",
            "input_mask (InputLayer)         [(None, 160)]        0                                            \n",
            "__________________________________________________________________________________________________\n",
            "segment_ids (InputLayer)        [(None, 160)]        0                                            \n",
            "__________________________________________________________________________________________________\n",
            "keras_layer_1 (KerasLayer)      [(None, 1024), (None 335141889   input_word_ids[0][0]             \n",
            "                                                                 input_mask[0][0]                 \n",
            "                                                                 segment_ids[0][0]                \n",
            "__________________________________________________________________________________________________\n",
            "tf_op_layer_strided_slice_2 (Te [(None, 1024)]       0           keras_layer_1[1][1]              \n",
            "__________________________________________________________________________________________________\n",
            "dense_1 (Dense)                 (None, 1)            1025        tf_op_layer_strided_slice_2[0][0]\n",
            "==================================================================================================\n",
            "Total params: 335,142,914\n",
            "Trainable params: 335,142,913\n",
            "Non-trainable params: 1\n",
            "__________________________________________________________________________________________________\n"
          ],
          "name": "stdout"
        }
      ]
    },
    {
      "cell_type": "code",
      "metadata": {
        "id": "wU0OUP1cD9ED",
        "colab_type": "code",
        "colab": {
          "base_uri": "https://localhost:8080/",
          "height": 119
        },
        "outputId": "6ed62d7a-4dae-4bc2-f721-262d3aa67c20"
      },
      "source": [
        "checkpoint = ModelCheckpoint('model_BERT.h5', monitor='val_loss', save_best_only=True)\n",
        "\n",
        "train_history = model_BERT.fit(\n",
        "    train_input, train_labels,\n",
        "    validation_split = 0.2,\n",
        "    epochs = 3, \n",
        "    callbacks=[checkpoint],\n",
        "    batch_size = 32\n",
        ")"
      ],
      "execution_count": 57,
      "outputs": [
        {
          "output_type": "stream",
          "text": [
            "Epoch 1/3\n",
            "381/381 [==============================] - 453s 1s/step - loss: 0.4401 - accuracy: 0.8072 - val_loss: 0.3888 - val_accuracy: 0.8293\n",
            "Epoch 2/3\n",
            "381/381 [==============================] - 378s 992ms/step - loss: 0.2890 - accuracy: 0.8839 - val_loss: 0.4652 - val_accuracy: 0.8253\n",
            "Epoch 3/3\n",
            "381/381 [==============================] - 378s 993ms/step - loss: 0.1673 - accuracy: 0.9365 - val_loss: 0.4623 - val_accuracy: 0.8234\n"
          ],
          "name": "stdout"
        }
      ]
    }
  ]
}