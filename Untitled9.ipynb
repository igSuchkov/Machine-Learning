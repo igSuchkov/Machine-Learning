{
 "cells": [
  {
   "cell_type": "code",
   "execution_count": 122,
   "metadata": {},
   "outputs": [
    {
     "data": {
      "text/html": [
       "<div>\n",
       "<style scoped>\n",
       "    .dataframe tbody tr th:only-of-type {\n",
       "        vertical-align: middle;\n",
       "    }\n",
       "\n",
       "    .dataframe tbody tr th {\n",
       "        vertical-align: top;\n",
       "    }\n",
       "\n",
       "    .dataframe thead th {\n",
       "        text-align: right;\n",
       "    }\n",
       "</style>\n",
       "<table border=\"1\" class=\"dataframe\">\n",
       "  <thead>\n",
       "    <tr style=\"text-align: right;\">\n",
       "      <th></th>\n",
       "      <th>stMRN</th>\n",
       "      <th>dtArrive</th>\n",
       "      <th>dtBegin</th>\n",
       "      <th>dtCompleted</th>\n",
       "    </tr>\n",
       "  </thead>\n",
       "  <tbody>\n",
       "    <tr>\n",
       "      <th>0</th>\n",
       "      <td>12222732</td>\n",
       "      <td>2016-04-04 08:00:21</td>\n",
       "      <td>2016-04-04 08:04:56</td>\n",
       "      <td>2016-04-04 08:11:52</td>\n",
       "    </tr>\n",
       "    <tr>\n",
       "      <th>1</th>\n",
       "      <td>13510077</td>\n",
       "      <td>2016-04-04 08:21:54</td>\n",
       "      <td>2016-04-04 08:26:40</td>\n",
       "      <td>2016-04-04 08:39:12</td>\n",
       "    </tr>\n",
       "    <tr>\n",
       "      <th>2</th>\n",
       "      <td>11183882</td>\n",
       "      <td>2016-04-04 08:33:38</td>\n",
       "      <td>2016-04-04 08:44:53</td>\n",
       "      <td>2016-04-04 08:44:58</td>\n",
       "    </tr>\n",
       "    <tr>\n",
       "      <th>3</th>\n",
       "      <td>12949996</td>\n",
       "      <td>2016-04-04 08:38:16</td>\n",
       "      <td>2016-04-04 08:41:27</td>\n",
       "      <td>2016-04-04 08:47:34</td>\n",
       "    </tr>\n",
       "    <tr>\n",
       "      <th>4</th>\n",
       "      <td>11566221</td>\n",
       "      <td>2016-04-04 08:26:10</td>\n",
       "      <td>2016-04-04 08:33:21</td>\n",
       "      <td>2016-04-04 08:53:06</td>\n",
       "    </tr>\n",
       "  </tbody>\n",
       "</table>\n",
       "</div>"
      ],
      "text/plain": [
       "      stMRN            dtArrive             dtBegin         dtCompleted\n",
       "0  12222732 2016-04-04 08:00:21 2016-04-04 08:04:56 2016-04-04 08:11:52\n",
       "1  13510077 2016-04-04 08:21:54 2016-04-04 08:26:40 2016-04-04 08:39:12\n",
       "2  11183882 2016-04-04 08:33:38 2016-04-04 08:44:53 2016-04-04 08:44:58\n",
       "3  12949996 2016-04-04 08:38:16 2016-04-04 08:41:27 2016-04-04 08:47:34\n",
       "4  11566221 2016-04-04 08:26:10 2016-04-04 08:33:21 2016-04-04 08:53:06"
      ]
     },
     "execution_count": 122,
     "metadata": {},
     "output_type": "execute_result"
    }
   ],
   "source": [
    "import pandas as pd\n",
    "import numpy as np\n",
    "df = pd.read_excel('C:/Users/lenovo/Desktop/XRays.xlsx')\n",
    "df.head()"
   ]
  },
  {
   "cell_type": "code",
   "execution_count": 123,
   "metadata": {},
   "outputs": [],
   "source": [
    "df['begin_time'] = df.dtBegin.apply(lambda x: x.time())\n",
    "df['complete_time'] = df.dtCompleted.apply(lambda x: x.time())\n",
    "df['date'] = df.dtBegin.apply(lambda x: x.date())"
   ]
  },
  {
   "cell_type": "code",
   "execution_count": 124,
   "metadata": {},
   "outputs": [
    {
     "data": {
      "text/html": [
       "<div>\n",
       "<style scoped>\n",
       "    .dataframe tbody tr th:only-of-type {\n",
       "        vertical-align: middle;\n",
       "    }\n",
       "\n",
       "    .dataframe tbody tr th {\n",
       "        vertical-align: top;\n",
       "    }\n",
       "\n",
       "    .dataframe thead th {\n",
       "        text-align: right;\n",
       "    }\n",
       "</style>\n",
       "<table border=\"1\" class=\"dataframe\">\n",
       "  <thead>\n",
       "    <tr style=\"text-align: right;\">\n",
       "      <th></th>\n",
       "      <th>stMRN</th>\n",
       "      <th>dtArrive</th>\n",
       "      <th>dtBegin</th>\n",
       "      <th>dtCompleted</th>\n",
       "      <th>begin_time</th>\n",
       "      <th>complete_time</th>\n",
       "      <th>date</th>\n",
       "    </tr>\n",
       "  </thead>\n",
       "  <tbody>\n",
       "    <tr>\n",
       "      <th>0</th>\n",
       "      <td>12222732</td>\n",
       "      <td>2016-04-04 08:00:21</td>\n",
       "      <td>2016-04-04 08:04:56</td>\n",
       "      <td>2016-04-04 08:11:52</td>\n",
       "      <td>08:04:56</td>\n",
       "      <td>08:11:52</td>\n",
       "      <td>2016-04-04</td>\n",
       "    </tr>\n",
       "    <tr>\n",
       "      <th>1</th>\n",
       "      <td>13510077</td>\n",
       "      <td>2016-04-04 08:21:54</td>\n",
       "      <td>2016-04-04 08:26:40</td>\n",
       "      <td>2016-04-04 08:39:12</td>\n",
       "      <td>08:26:40</td>\n",
       "      <td>08:39:12</td>\n",
       "      <td>2016-04-04</td>\n",
       "    </tr>\n",
       "    <tr>\n",
       "      <th>2</th>\n",
       "      <td>11183882</td>\n",
       "      <td>2016-04-04 08:33:38</td>\n",
       "      <td>2016-04-04 08:44:53</td>\n",
       "      <td>2016-04-04 08:44:58</td>\n",
       "      <td>08:44:53</td>\n",
       "      <td>08:44:58</td>\n",
       "      <td>2016-04-04</td>\n",
       "    </tr>\n",
       "    <tr>\n",
       "      <th>3</th>\n",
       "      <td>12949996</td>\n",
       "      <td>2016-04-04 08:38:16</td>\n",
       "      <td>2016-04-04 08:41:27</td>\n",
       "      <td>2016-04-04 08:47:34</td>\n",
       "      <td>08:41:27</td>\n",
       "      <td>08:47:34</td>\n",
       "      <td>2016-04-04</td>\n",
       "    </tr>\n",
       "    <tr>\n",
       "      <th>4</th>\n",
       "      <td>11566221</td>\n",
       "      <td>2016-04-04 08:26:10</td>\n",
       "      <td>2016-04-04 08:33:21</td>\n",
       "      <td>2016-04-04 08:53:06</td>\n",
       "      <td>08:33:21</td>\n",
       "      <td>08:53:06</td>\n",
       "      <td>2016-04-04</td>\n",
       "    </tr>\n",
       "  </tbody>\n",
       "</table>\n",
       "</div>"
      ],
      "text/plain": [
       "      stMRN            dtArrive             dtBegin         dtCompleted  \\\n",
       "0  12222732 2016-04-04 08:00:21 2016-04-04 08:04:56 2016-04-04 08:11:52   \n",
       "1  13510077 2016-04-04 08:21:54 2016-04-04 08:26:40 2016-04-04 08:39:12   \n",
       "2  11183882 2016-04-04 08:33:38 2016-04-04 08:44:53 2016-04-04 08:44:58   \n",
       "3  12949996 2016-04-04 08:38:16 2016-04-04 08:41:27 2016-04-04 08:47:34   \n",
       "4  11566221 2016-04-04 08:26:10 2016-04-04 08:33:21 2016-04-04 08:53:06   \n",
       "\n",
       "  begin_time complete_time        date  \n",
       "0   08:04:56      08:11:52  2016-04-04  \n",
       "1   08:26:40      08:39:12  2016-04-04  \n",
       "2   08:44:53      08:44:58  2016-04-04  \n",
       "3   08:41:27      08:47:34  2016-04-04  \n",
       "4   08:33:21      08:53:06  2016-04-04  "
      ]
     },
     "execution_count": 124,
     "metadata": {},
     "output_type": "execute_result"
    }
   ],
   "source": [
    "df.head()"
   ]
  },
  {
   "cell_type": "code",
   "execution_count": 156,
   "metadata": {},
   "outputs": [],
   "source": [
    "from datetime import datetime, timedelta\n",
    "t = np.arange(datetime(2016,4,4), datetime(2016,11,16), timedelta(days=1)).astype(datetime)"
   ]
  },
  {
   "cell_type": "code",
   "execution_count": 155,
   "metadata": {},
   "outputs": [],
   "source": [
    "import time\n",
    "t = np.arange(datetime(20,1,1,7,0,0), datetime(20,1,1,20,30,0), timedelta(minutes=30)).astype(datetime)\n",
    "times = []\n",
    "for i in range(len(t)):\n",
    "    times.append(t[i].time()) "
   ]
  },
  {
   "cell_type": "code",
   "execution_count": 200,
   "metadata": {},
   "outputs": [
    {
     "name": "stderr",
     "output_type": "stream",
     "text": [
      "C:\\Anaconda3\\lib\\site-packages\\ipykernel_launcher.py:8: UserWarning: Boolean Series key will be reindexed to match DataFrame index.\n",
      "  \n",
      "C:\\Anaconda3\\lib\\site-packages\\ipykernel_launcher.py:9: UserWarning: Boolean Series key will be reindexed to match DataFrame index.\n",
      "  if __name__ == '__main__':\n"
     ]
    },
    {
     "name": "stdout",
     "output_type": "stream",
     "text": [
      "10\n"
     ]
    }
   ],
   "source": [
    "top = 0\n",
    "for day in t:\n",
    "    z = 0\n",
    "    tmp = df.loc[df.date==day.date()]\n",
    "    \n",
    "    \n",
    "    for i in range(len(times)-1):\n",
    "        begin = list(tmp.loc[tmp.begin_time>=times[i]][tmp.begin_time<=times[i+1]].begin_time.values)\n",
    "        complete = list(tmp.loc[tmp.complete_time>=times[i]][tmp.complete_time<=times[i+1]].complete_time.values)\n",
    "        \n",
    "        res = list()\n",
    "        for j in range(len(begin)):\n",
    "            res.append([begin[j],'b'])\n",
    "        for j in range(len(complete)):\n",
    "            res.append([complete[j],'c'])\n",
    "        \n",
    "        a = sorted(res, key=lambda time: time[0])\n",
    "        \n",
    "        for i in a:\n",
    "            if i[1] == 'b': z+=1\n",
    "            if i[1] == 'c': z-=1\n",
    "            if z > top: top = z"
   ]
  }
 ],
 "metadata": {
  "kernelspec": {
   "display_name": "Python 3",
   "language": "python",
   "name": "python3"
  },
  "language_info": {
   "codemirror_mode": {
    "name": "ipython",
    "version": 3
   },
   "file_extension": ".py",
   "mimetype": "text/x-python",
   "name": "python",
   "nbconvert_exporter": "python",
   "pygments_lexer": "ipython3",
   "version": "3.7.1"
  }
 },
 "nbformat": 4,
 "nbformat_minor": 2
}
