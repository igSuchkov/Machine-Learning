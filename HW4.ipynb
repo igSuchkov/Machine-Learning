{
 "cells": [
  {
   "cell_type": "code",
   "execution_count": 1,
   "metadata": {},
   "outputs": [],
   "source": [
    "import pandas as pd\n",
    "import numpy as np"
   ]
  },
  {
   "cell_type": "code",
   "execution_count": 4,
   "metadata": {},
   "outputs": [],
   "source": [
    "df = pd.read_excel('C:/Users/lenovo/Desktop/WaitData.Published.xlsx')"
   ]
  },
  {
   "cell_type": "code",
   "execution_count": 5,
   "metadata": {},
   "outputs": [
    {
     "data": {
      "text/html": [
       "<div>\n",
       "<style scoped>\n",
       "    .dataframe tbody tr th:only-of-type {\n",
       "        vertical-align: middle;\n",
       "    }\n",
       "\n",
       "    .dataframe tbody tr th {\n",
       "        vertical-align: top;\n",
       "    }\n",
       "\n",
       "    .dataframe thead th {\n",
       "        text-align: right;\n",
       "    }\n",
       "</style>\n",
       "<table border=\"1\" class=\"dataframe\">\n",
       "  <thead>\n",
       "    <tr style=\"text-align: right;\">\n",
       "      <th></th>\n",
       "      <th>Wait</th>\n",
       "      <th>SumHowEarlyWaiting</th>\n",
       "      <th>AvgHowEarlyWaiting</th>\n",
       "      <th>LineCount0Strict</th>\n",
       "      <th>SumWaits</th>\n",
       "      <th>LineCount0</th>\n",
       "      <th>LineCount1</th>\n",
       "      <th>LineCount2</th>\n",
       "      <th>LineCount3</th>\n",
       "      <th>LineCount4</th>\n",
       "      <th>...</th>\n",
       "      <th>NumAddOnsToday</th>\n",
       "      <th>NumAddOnsLastW2</th>\n",
       "      <th>NumScheduledNextSlot</th>\n",
       "      <th>NumScheduledNextW2</th>\n",
       "      <th>SumTimeToCompleteNextSlot</th>\n",
       "      <th>SumTimeToCompleteNextW2</th>\n",
       "      <th>WithContrastCountWaiting</th>\n",
       "      <th>WithAndWithoutContrastCountWaiting</th>\n",
       "      <th>WithContrastCountInProgress</th>\n",
       "      <th>WithAndWithoutContrastCountInProgress</th>\n",
       "    </tr>\n",
       "  </thead>\n",
       "  <tbody>\n",
       "    <tr>\n",
       "      <th>0</th>\n",
       "      <td>0</td>\n",
       "      <td>372</td>\n",
       "      <td>62</td>\n",
       "      <td>6</td>\n",
       "      <td>249</td>\n",
       "      <td>6</td>\n",
       "      <td>5</td>\n",
       "      <td>6</td>\n",
       "      <td>6</td>\n",
       "      <td>4</td>\n",
       "      <td>...</td>\n",
       "      <td>4</td>\n",
       "      <td>2</td>\n",
       "      <td>0</td>\n",
       "      <td>0</td>\n",
       "      <td>0</td>\n",
       "      <td>0</td>\n",
       "      <td>3</td>\n",
       "      <td>1</td>\n",
       "      <td>1</td>\n",
       "      <td>0</td>\n",
       "    </tr>\n",
       "    <tr>\n",
       "      <th>1</th>\n",
       "      <td>-3</td>\n",
       "      <td>335</td>\n",
       "      <td>67</td>\n",
       "      <td>3</td>\n",
       "      <td>195</td>\n",
       "      <td>5</td>\n",
       "      <td>4</td>\n",
       "      <td>6</td>\n",
       "      <td>6</td>\n",
       "      <td>5</td>\n",
       "      <td>...</td>\n",
       "      <td>4</td>\n",
       "      <td>1</td>\n",
       "      <td>2</td>\n",
       "      <td>0</td>\n",
       "      <td>32</td>\n",
       "      <td>0</td>\n",
       "      <td>2</td>\n",
       "      <td>1</td>\n",
       "      <td>2</td>\n",
       "      <td>0</td>\n",
       "    </tr>\n",
       "    <tr>\n",
       "      <th>2</th>\n",
       "      <td>-25</td>\n",
       "      <td>274</td>\n",
       "      <td>68</td>\n",
       "      <td>4</td>\n",
       "      <td>150</td>\n",
       "      <td>4</td>\n",
       "      <td>5</td>\n",
       "      <td>6</td>\n",
       "      <td>4</td>\n",
       "      <td>6</td>\n",
       "      <td>...</td>\n",
       "      <td>4</td>\n",
       "      <td>1</td>\n",
       "      <td>1</td>\n",
       "      <td>1</td>\n",
       "      <td>13</td>\n",
       "      <td>16</td>\n",
       "      <td>1</td>\n",
       "      <td>1</td>\n",
       "      <td>3</td>\n",
       "      <td>0</td>\n",
       "    </tr>\n",
       "    <tr>\n",
       "      <th>3</th>\n",
       "      <td>36</td>\n",
       "      <td>369</td>\n",
       "      <td>73</td>\n",
       "      <td>2</td>\n",
       "      <td>179</td>\n",
       "      <td>5</td>\n",
       "      <td>6</td>\n",
       "      <td>4</td>\n",
       "      <td>5</td>\n",
       "      <td>5</td>\n",
       "      <td>...</td>\n",
       "      <td>3</td>\n",
       "      <td>1</td>\n",
       "      <td>2</td>\n",
       "      <td>1</td>\n",
       "      <td>45</td>\n",
       "      <td>16</td>\n",
       "      <td>3</td>\n",
       "      <td>1</td>\n",
       "      <td>1</td>\n",
       "      <td>0</td>\n",
       "    </tr>\n",
       "    <tr>\n",
       "      <th>4</th>\n",
       "      <td>-21</td>\n",
       "      <td>438</td>\n",
       "      <td>73</td>\n",
       "      <td>5</td>\n",
       "      <td>192</td>\n",
       "      <td>6</td>\n",
       "      <td>5</td>\n",
       "      <td>5</td>\n",
       "      <td>6</td>\n",
       "      <td>5</td>\n",
       "      <td>...</td>\n",
       "      <td>3</td>\n",
       "      <td>0</td>\n",
       "      <td>2</td>\n",
       "      <td>1</td>\n",
       "      <td>32</td>\n",
       "      <td>15</td>\n",
       "      <td>4</td>\n",
       "      <td>0</td>\n",
       "      <td>0</td>\n",
       "      <td>1</td>\n",
       "    </tr>\n",
       "  </tbody>\n",
       "</table>\n",
       "<p>5 rows × 86 columns</p>\n",
       "</div>"
      ],
      "text/plain": [
       "   Wait  SumHowEarlyWaiting  AvgHowEarlyWaiting  LineCount0Strict  SumWaits  \\\n",
       "0     0                 372                  62                 6       249   \n",
       "1    -3                 335                  67                 3       195   \n",
       "2   -25                 274                  68                 4       150   \n",
       "3    36                 369                  73                 2       179   \n",
       "4   -21                 438                  73                 5       192   \n",
       "\n",
       "   LineCount0  LineCount1  LineCount2  LineCount3  LineCount4  ...  \\\n",
       "0           6           5           6           6           4  ...   \n",
       "1           5           4           6           6           5  ...   \n",
       "2           4           5           6           4           6  ...   \n",
       "3           5           6           4           5           5  ...   \n",
       "4           6           5           5           6           5  ...   \n",
       "\n",
       "   NumAddOnsToday  NumAddOnsLastW2  NumScheduledNextSlot  NumScheduledNextW2  \\\n",
       "0               4                2                     0                   0   \n",
       "1               4                1                     2                   0   \n",
       "2               4                1                     1                   1   \n",
       "3               3                1                     2                   1   \n",
       "4               3                0                     2                   1   \n",
       "\n",
       "   SumTimeToCompleteNextSlot  SumTimeToCompleteNextW2  \\\n",
       "0                          0                        0   \n",
       "1                         32                        0   \n",
       "2                         13                       16   \n",
       "3                         45                       16   \n",
       "4                         32                       15   \n",
       "\n",
       "   WithContrastCountWaiting  WithAndWithoutContrastCountWaiting  \\\n",
       "0                         3                                   1   \n",
       "1                         2                                   1   \n",
       "2                         1                                   1   \n",
       "3                         3                                   1   \n",
       "4                         4                                   0   \n",
       "\n",
       "   WithContrastCountInProgress  WithAndWithoutContrastCountInProgress  \n",
       "0                            1                                      0  \n",
       "1                            2                                      0  \n",
       "2                            3                                      0  \n",
       "3                            1                                      0  \n",
       "4                            0                                      1  \n",
       "\n",
       "[5 rows x 86 columns]"
      ]
     },
     "execution_count": 5,
     "metadata": {},
     "output_type": "execute_result"
    }
   ],
   "source": [
    "df.head()"
   ]
  },
  {
   "cell_type": "code",
   "execution_count": 12,
   "metadata": {},
   "outputs": [],
   "source": [
    "Y = df.Wait\n",
    "X = df.iloc[:,1:]"
   ]
  },
  {
   "cell_type": "code",
   "execution_count": 13,
   "metadata": {},
   "outputs": [],
   "source": [
    "from sklearn import linear_model\n",
    "model = linear_model.LinearRegression()\n",
    "model.fit(X, Y)\n",
    "Ypred = model.predict(X) # use trained regression model to predict\n",
    "r = Y-Ypred # compute prediction error (residual)\n",
    "e = abs(r).mean() #"
   ]
  },
  {
   "cell_type": "code",
   "execution_count": 14,
   "metadata": {},
   "outputs": [
    {
     "name": "stdout",
     "output_type": "stream",
     "text": [
      "23.16628893634698\n"
     ]
    }
   ],
   "source": [
    "print(e)"
   ]
  },
  {
   "cell_type": "code",
   "execution_count": 15,
   "metadata": {},
   "outputs": [
    {
     "name": "stdout",
     "output_type": "stream",
     "text": [
      "Python feature selection\n",
      "32.50541172120526 ['CardiacCount']\n",
      "31.22493770698257 ['CardiacCount', 'DelayedInLine']\n",
      "31.257528948688933 ['CardiacCount', 'StartTime', 'DelayedInLine']\n"
     ]
    }
   ],
   "source": [
    "print('Python feature selection')\n",
    "from sklearn.feature_selection import RFE\n",
    "from itertools import compress\n",
    "for nFeatures in range(1,4):\n",
    "    rfe = RFE(model, n_features_to_select=nFeatures)\n",
    "    X_rfe = rfe.fit_transform(X,Y) #transforming data using RFE\n",
    "#Fitting the data to model\n",
    "    model.fit(X_rfe,Y)\n",
    "#print(rfe.support_)\n",
    "#print(rfe.ranking_)\n",
    "    cols = list(compress( X.columns, rfe.support_))\n",
    "    model.fit(X[cols],Y)\n",
    "    e = abs(Y-model.predict(X[cols])).mean()\n",
    "    print(e, cols)"
   ]
  },
  {
   "cell_type": "code",
   "execution_count": 37,
   "metadata": {},
   "outputs": [],
   "source": [
    "res = []\n",
    "for i in df.columns[1:]:\n",
    "    X = df[i].values\n",
    "    X = X.reshape(-1, 1)\n",
    "    model = linear_model.LinearRegression()\n",
    "    model.fit(X, Y)\n",
    "    Ypred = model.predict(X) # use trained regression model to predict\n",
    "    r = Y-Ypred # compute prediction error (residual)\n",
    "    e = abs(r).mean() #\n",
    "    res.append([e, i])"
   ]
  },
  {
   "cell_type": "code",
   "execution_count": 40,
   "metadata": {},
   "outputs": [
    {
     "data": {
      "text/plain": [
       "[[31.227057699733514, 'DelayedInLine'],\n",
       " [31.433388967178413, 'SumDelayWaitingByExamCode'],\n",
       " [31.697820074414665, 'SumWaits'],\n",
       " [31.720854563821888, 'SumWaitByTaskTypeLine'],\n",
       " [31.772908569526187, 'LineCount0'],\n",
       " [31.77522181615531, 'OutpatientWaitingCount'],\n",
       " [31.895537140472605, 'LineCount1'],\n",
       " [31.9024281006663, 'WithContrastCountWaiting'],\n",
       " [32.031862906748074, 'LineCount2'],\n",
       " [32.122164391075835, 'AvgDelayForDay'],\n",
       " [32.15088720346392, 'LineCount3'],\n",
       " [32.167137418323854, 'FutFlowCount2'],\n",
       " [32.168505599933646, 'ThoracicCount'],\n",
       " [32.18894396116345, 'MalesWaitingCount'],\n",
       " [32.19301247694888, 'Median5'],\n",
       " [32.19915231456987, 'SchFlowCount2'],\n",
       " [32.20866318273657, 'AvgWaitLastK1Customers'],\n",
       " [32.229478237689456, 'AvgWaitLastK2Customers'],\n",
       " [32.244068672214624, 'AvgWaitLastW2'],\n",
       " [32.247744401326884, 'SumHowEarlyWaiting'],\n",
       " [32.25418121110645, 'SchFlowCount4'],\n",
       " [32.26801326703429, 'AvgWaitLastW1'],\n",
       " [32.270282972452115, 'LineCount4'],\n",
       " [32.271787425955786, 'AvgWaitLastW3'],\n",
       " [32.28855191781114, 'DelayCountLastHour'],\n",
       " [32.29640343868561, 'AvgWaitLastK3Customers'],\n",
       " [32.3015061329357, 'WithAndWithoutContrastCountWaiting'],\n",
       " [32.30164893451634, 'AvgAgePeopleWaiting'],\n",
       " [32.30970271602592, 'AfterSlot'],\n",
       " [32.31418618466717, 'ExpectedDelayNextExam'],\n",
       " [32.31439640927221, 'NumCustomersInLastW2'],\n",
       " [32.324889455964346, 'FutFlowCount4'],\n",
       " [32.32539867256849, 'SumDelayInProgress'],\n",
       " [32.334461211602914, 'NumCustomersInLastW3'],\n",
       " [32.38852051854594, 'AbdominalCount'],\n",
       " [32.396400147953045, 'MostRecent4'],\n",
       " [32.40379252274368, 'MostRecent1'],\n",
       " [32.4070264195041, 'MostRecent3'],\n",
       " [32.41188017992455, 'MostRecent2'],\n",
       " [32.41291721922756, 'VascularCount'],\n",
       " [32.419084226514364, 'NumCustomersInLastW1'],\n",
       " [32.431818176603166, 'NeuroCount'],\n",
       " [32.44861146530437, 'DayOfYear'],\n",
       " [32.44869117166766, 'NoneCompleted'],\n",
       " [32.44934890634492, 'Month'],\n",
       " [32.44945885562205, 'AvgWaitByTaskTypeLine'],\n",
       " [32.45776643904932, 'MostRecent5'],\n",
       " [32.465348087681306, 'IsLast'],\n",
       " [32.46879787211307, 'NumScannersUsedToday'],\n",
       " [32.47061130679976, 'AvgHowEarlyWaiting'],\n",
       " [32.477261298430506, 'SumTimeToCompleteNextW2'],\n",
       " [32.480047426089946, 'NumScheduledNextW2'],\n",
       " [32.48532802873621, 'AheadCount'],\n",
       " [32.486810729963246, 'NoneInProgress'],\n",
       " [32.4883199053969, 'SumInProgress'],\n",
       " [32.48858044110527, 'NoneInLine'],\n",
       " [32.49024346751159, 'SumTimeToCompleteInProgress'],\n",
       " [32.49037750890244, 'maxtime'],\n",
       " [32.49888328240728, 'MSKCount'],\n",
       " [32.499568231193855, 'WithAndWithoutContrastCountInProgress'],\n",
       " [32.501507658332024, 'NumCompletedInLastW1'],\n",
       " [32.502010989572874, 'FlowCount2'],\n",
       " [32.50262965302515, 'SumDelayWaitingInLine'],\n",
       " [32.503344189534474, 'InProgressSize'],\n",
       " [32.50499315892519, 'BeforeSlot'],\n",
       " [32.50541172120526, 'CardiacCount'],\n",
       " [32.505654533894266, 'NumCompletedInLastW2'],\n",
       " [32.505782451404436, 'FlowCount4'],\n",
       " [32.50941467733334, 'DayOfWeek'],\n",
       " [32.51070480602187, 'NumAddOnsLastW2'],\n",
       " [32.51116672870275, 'NumScheduledNextSlot'],\n",
       " [32.5112784434475, 'WithContrastCountInProgress'],\n",
       " [32.51230958285843, 'mintime'],\n",
       " [32.51383132160875, 'NumCompletedInLastW3'],\n",
       " [32.513928714983166, 'NumCompletedToday'],\n",
       " [32.51417309751252, 'SumTimeToCompleteNextSlot'],\n",
       " [32.51611963382488, 'PediatricCount'],\n",
       " [32.51728945459471, 'IsFirst'],\n",
       " [32.52376624467904, 'NumAddOnsToday'],\n",
       " [32.52452095204222, 'DelayCount'],\n",
       " [32.54371962827243, 'StartTime'],\n",
       " [32.55104437372272, 'StartTime2'],\n",
       " [32.557217035434135, 'StartTime3'],\n",
       " [32.56283493184376, 'StartTime4'],\n",
       " [32.643003209725805, 'LineCount0Strict']]"
      ]
     },
     "execution_count": 40,
     "metadata": {},
     "output_type": "execute_result"
    }
   ],
   "source": [
    "res.sort(key = lambda x:x[0])\n",
    "res"
   ]
  },
  {
   "cell_type": "code",
   "execution_count": 43,
   "metadata": {},
   "outputs": [],
   "source": [
    "res = []\n",
    "for i in df.columns[1:]:\n",
    "    X = df[['DelayedInLine',i]]\n",
    "    \n",
    "    model = linear_model.LinearRegression()\n",
    "    model.fit(X, Y)\n",
    "    Ypred = model.predict(X) # use trained regression model to predict\n",
    "    r = Y-Ypred # compute prediction error (residual)\n",
    "    e = abs(r).mean() #\n",
    "    res.append([e, i])"
   ]
  },
  {
   "cell_type": "code",
   "execution_count": 47,
   "metadata": {},
   "outputs": [
    {
     "data": {
      "text/plain": [
       "[30.13796586346829, 'LineCount0Strict']"
      ]
     },
     "execution_count": 47,
     "metadata": {},
     "output_type": "execute_result"
    }
   ],
   "source": [
    "res.sort(key = lambda x:x[0])\n",
    "res[0]"
   ]
  },
  {
   "cell_type": "code",
   "execution_count": 48,
   "metadata": {},
   "outputs": [],
   "source": [
    "res = []\n",
    "for i in df.columns[1:]:\n",
    "    X = df[['DelayedInLine','LineCount0Strict',i]]\n",
    "    \n",
    "    model = linear_model.LinearRegression()\n",
    "    model.fit(X, Y)\n",
    "    Ypred = model.predict(X) # use trained regression model to predict\n",
    "    r = Y-Ypred # compute prediction error (residual)\n",
    "    e = abs(r).mean() #\n",
    "    res.append([e, i])"
   ]
  },
  {
   "cell_type": "code",
   "execution_count": 49,
   "metadata": {},
   "outputs": [
    {
     "data": {
      "text/plain": [
       "[28.696490632253468, 'LineCount0']"
      ]
     },
     "execution_count": 49,
     "metadata": {},
     "output_type": "execute_result"
    }
   ],
   "source": [
    "res.sort(key = lambda x:x[0])\n",
    "res[0]"
   ]
  },
  {
   "cell_type": "code",
   "execution_count": 50,
   "metadata": {},
   "outputs": [],
   "source": [
    "model = linear_model.LinearRegression()\n",
    "X = df[['DelayedInLine','LineCount0Strict','LineCount0']]\n",
    "model.fit(X, Y)\n",
    "Ypred = model.predict(X) # use trained regression model to predict\n",
    "r = Y-Ypred # compute prediction error (residual)\n",
    "e = abs(r).mean() #"
   ]
  },
  {
   "cell_type": "code",
   "execution_count": 51,
   "metadata": {},
   "outputs": [
    {
     "name": "stdout",
     "output_type": "stream",
     "text": [
      "28.696490632253468\n"
     ]
    }
   ],
   "source": [
    "print(e)"
   ]
  }
 ],
 "metadata": {
  "kernelspec": {
   "display_name": "Python 3",
   "language": "python",
   "name": "python3"
  },
  "language_info": {
   "codemirror_mode": {
    "name": "ipython",
    "version": 3
   },
   "file_extension": ".py",
   "mimetype": "text/x-python",
   "name": "python",
   "nbconvert_exporter": "python",
   "pygments_lexer": "ipython3",
   "version": "3.7.1"
  }
 },
 "nbformat": 4,
 "nbformat_minor": 4
}
