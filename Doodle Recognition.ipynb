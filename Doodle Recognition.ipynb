{
  "nbformat": 4,
  "nbformat_minor": 0,
  "metadata": {
    "colab": {
      "name": "Сучков_Иван_Геннадьевич(ИАД-1).ipynb",
      "version": "0.3.2",
      "provenance": [],
      "collapsed_sections": []
    },
    "kernelspec": {
      "name": "python2",
      "display_name": "Python 2"
    },
    "accelerator": "GPU"
  },
  "cells": [
    {
      "metadata": {
        "id": "cuIZv7tNMrpY",
        "colab_type": "text"
      },
      "cell_type": "markdown",
      "source": [
        "#Imports\n"
      ]
    },
    {
      "metadata": {
        "id": "xaos-1xIMn35",
        "colab_type": "code",
        "colab": {}
      },
      "cell_type": "code",
      "source": [
        "import zipfile\n",
        "import numpy as np\n",
        "import pandas as pd\n",
        "import os\n",
        "import tqdm\n",
        "import matplotlib \n",
        "%matplotlib inline\n",
        "import matplotlib.pyplot as plt\n",
        "import csv"
      ],
      "execution_count": 0,
      "outputs": []
    },
    {
      "metadata": {
        "id": "wtvgMkp05fMk",
        "colab_type": "text"
      },
      "cell_type": "markdown",
      "source": [
        "#Prepare Google Drive"
      ]
    },
    {
      "metadata": {
        "id": "-YWTFZ5-KjXc",
        "colab_type": "code",
        "outputId": "c9269c3c-8430-44ee-b7e5-1d0dd42b84d0",
        "colab": {
          "base_uri": "https://localhost:8080/",
          "height": 35
        }
      },
      "cell_type": "code",
      "source": [
        "from google.colab import drive\n",
        "GOOGLE_DRIVE_MOUNT = \"/content/gdrive\"\n",
        "drive.mount(GOOGLE_DRIVE_MOUNT)"
      ],
      "execution_count": 0,
      "outputs": [
        {
          "output_type": "stream",
          "text": [
            "Drive already mounted at /content/gdrive; to attempt to forcibly remount, call drive.mount(\"/content/gdrive\", force_remount=True).\n"
          ],
          "name": "stdout"
        }
      ]
    },
    {
      "metadata": {
        "id": "4mujOhMH5n_O",
        "colab_type": "text"
      },
      "cell_type": "markdown",
      "source": [
        "#Download Data From Kaggle"
      ]
    },
    {
      "metadata": {
        "id": "0xHmOfaeK4rs",
        "colab_type": "code",
        "outputId": "bc2358ab-a481-4800-bb4e-f4dd8225ec31",
        "colab": {
          "base_uri": "https://localhost:8080/",
          "height": 454
        }
      },
      "cell_type": "code",
      "source": [
        "# we need to use python 3 version of Kaggle!\n",
        "# remove python 2 version with `pip uninstall kaggle`\n",
        "! pip3 install kaggle --upgrade"
      ],
      "execution_count": 0,
      "outputs": [
        {
          "output_type": "stream",
          "text": [
            "Collecting kaggle\n",
            "\u001b[?25l  Downloading https://files.pythonhosted.org/packages/83/9b/ac57e15fbb239c6793c8d0b7dfd1a4c4a025eaa9f791b5388a7afb515aed/kaggle-1.5.0.tar.gz (53kB)\n",
            "\u001b[K    100% |████████████████████████████████| 61kB 2.9MB/s \n",
            "\u001b[?25hRequirement already satisfied, skipping upgrade: urllib3<1.23.0,>=1.15 in /usr/local/lib/python3.6/dist-packages (from kaggle) (1.22)\n",
            "Requirement already satisfied, skipping upgrade: six>=1.10 in /usr/local/lib/python3.6/dist-packages (from kaggle) (1.11.0)\n",
            "Requirement already satisfied, skipping upgrade: certifi in /usr/local/lib/python3.6/dist-packages (from kaggle) (2018.10.15)\n",
            "Requirement already satisfied, skipping upgrade: python-dateutil in /usr/local/lib/python3.6/dist-packages (from kaggle) (2.5.3)\n",
            "Requirement already satisfied, skipping upgrade: requests in /usr/local/lib/python3.6/dist-packages (from kaggle) (2.18.4)\n",
            "Requirement already satisfied, skipping upgrade: tqdm in /usr/local/lib/python3.6/dist-packages (from kaggle) (4.28.1)\n",
            "Collecting python-slugify (from kaggle)\n",
            "  Downloading https://files.pythonhosted.org/packages/00/ad/c778a6df614b6217c30fe80045b365bfa08b5dd3cb02e8b37a6d25126781/python-slugify-1.2.6.tar.gz\n",
            "Requirement already satisfied, skipping upgrade: chardet<3.1.0,>=3.0.2 in /usr/local/lib/python3.6/dist-packages (from requests->kaggle) (3.0.4)\n",
            "Requirement already satisfied, skipping upgrade: idna<2.7,>=2.5 in /usr/local/lib/python3.6/dist-packages (from requests->kaggle) (2.6)\n",
            "Collecting Unidecode>=0.04.16 (from python-slugify->kaggle)\n",
            "\u001b[?25l  Downloading https://files.pythonhosted.org/packages/31/39/53096f9217b057cb049fe872b7fc7ce799a1a89b76cf917d9639e7a558b5/Unidecode-1.0.23-py2.py3-none-any.whl (237kB)\n",
            "\u001b[K    100% |████████████████████████████████| 245kB 5.2MB/s \n",
            "\u001b[?25hBuilding wheels for collected packages: kaggle, python-slugify\n",
            "  Running setup.py bdist_wheel for kaggle ... \u001b[?25l-\b \b\\\b \bdone\n",
            "\u001b[?25h  Stored in directory: /root/.cache/pip/wheels/8b/21/3b/a0076243c6ae12a6215b2da515fe06b539aee7217b406e510e\n",
            "  Running setup.py bdist_wheel for python-slugify ... \u001b[?25l-\b \bdone\n",
            "\u001b[?25h  Stored in directory: /root/.cache/pip/wheels/e3/65/da/2045deea3098ed7471eca0e2460cfbd3fdfe8c1d6fa6fcac92\n",
            "Successfully built kaggle python-slugify\n",
            "Installing collected packages: Unidecode, python-slugify, kaggle\n",
            "Successfully installed Unidecode-1.0.23 kaggle-1.5.0 python-slugify-1.2.6\n"
          ],
          "name": "stdout"
        }
      ]
    },
    {
      "metadata": {
        "id": "y_kZk1r6LLuz",
        "colab_type": "code",
        "outputId": "43593d05-2d5b-4433-f32d-1ca36a7073fe",
        "colab": {
          "base_uri": "https://localhost:8080/",
          "height": 72
        }
      },
      "cell_type": "code",
      "source": [
        "# get <token> from https://www.kaggle.com/<user>/account, click \"Create New API Token\", open json file\n",
        "! KAGGLE_USERNAME='vano1771' KAGGLE_KEY='3a91d649007203585f4c9fbbcc3dd362' kaggle competitions download -c quickdraw-doodle-recognition -f train_simplified.zip "
      ],
      "execution_count": 0,
      "outputs": [
        {
          "output_type": "stream",
          "text": [
            "Downloading train_simplified.zip to /content\n",
            "100% 7.36G/7.37G [01:00<00:00, 106MB/s]\n",
            "100% 7.37G/7.37G [01:00<00:00, 130MB/s]\n"
          ],
          "name": "stdout"
        }
      ]
    },
    {
      "metadata": {
        "id": "0Ctt2-VhLn16",
        "colab_type": "code",
        "colab": {}
      },
      "cell_type": "code",
      "source": [
        "# open zip file, will read everything from it\n",
        "zf = zipfile.ZipFile(\"train_simplified.zip\")"
      ],
      "execution_count": 0,
      "outputs": []
    },
    {
      "metadata": {
        "id": "cxx5hPYx5ydi",
        "colab_type": "text"
      },
      "cell_type": "markdown",
      "source": [
        "# Data generators from disk (no need to store in RAM)"
      ]
    },
    {
      "metadata": {
        "id": "ymoZb0LzMe-V",
        "colab_type": "code",
        "outputId": "5aad2ca2-2ed5-412c-af16-465d96113782",
        "colab": {
          "base_uri": "https://localhost:8080/",
          "height": 35
        }
      },
      "cell_type": "code",
      "source": [
        "class_labels = map(lambda x: x.replace(\".csv\", \"\"), zf.namelist())\n",
        "class_labels[:5]"
      ],
      "execution_count": 0,
      "outputs": [
        {
          "output_type": "execute_result",
          "data": {
            "text/plain": [
              "['fence', 'yoga', 'horse', 'sandwich', 'cat']"
            ]
          },
          "metadata": {
            "tags": []
          },
          "execution_count": 7
        }
      ]
    },
    {
      "metadata": {
        "id": "CQDrlPGoMkhE",
        "colab_type": "code",
        "colab": {}
      },
      "cell_type": "code",
      "source": [
        "# loop through file eternally\n",
        "def get_eternal_csv_generator(fn, debug=False):\n",
        "    while True:\n",
        "        with zf.open(fn) as f:\n",
        "            f.readline()  # skip header\n",
        "            for line in csv.reader(f, delimiter=',', quotechar='\"'):\n",
        "                yield line[1], line[5]\n",
        "            if debug:\n",
        "                print fn, \"is done, starting from the beginning...\""
      ],
      "execution_count": 0,
      "outputs": []
    },
    {
      "metadata": {
        "id": "x1vxI294MkoN",
        "colab_type": "code",
        "colab": {}
      },
      "cell_type": "code",
      "source": [
        "def raw_batch_generator(batch_size, debug=False):\n",
        "    generators = np.array([get_eternal_csv_generator(fn, debug) for fn in zf.namelist()])\n",
        "    while True:\n",
        "        random_indices = np.random.randint(0, len(generators), size=batch_size)\n",
        "        yield [gen.next() for gen in generators[random_indices]]"
      ],
      "execution_count": 0,
      "outputs": []
    },
    {
      "metadata": {
        "id": "hv5c_nka58Lz",
        "colab_type": "text"
      },
      "cell_type": "markdown",
      "source": [
        "#Image generator"
      ]
    },
    {
      "metadata": {
        "id": "J7vZqQM-MksH",
        "colab_type": "code",
        "colab": {}
      },
      "cell_type": "code",
      "source": [
        "# copy-paste from https://www.kaggle.com/jpmiller/image-based-cnn\n",
        "\n",
        "import ast\n",
        "from PIL import Image, ImageDraw\n",
        "import cv2\n",
        "\n",
        "IMG_SIZE = 128\n",
        "\n",
        "# faster conversion function\n",
        "def draw_it(strokes):\n",
        "    img = 255 * np.ones((256, 256), np.uint8)\n",
        "    for stroke in ast.literal_eval(strokes):\n",
        "        for i in range(len(stroke[0]) - 1):\n",
        "            _ = cv2.line(img, (stroke[0][i], stroke[1][i]), (stroke[0][i + 1], stroke[1][i + 1]), 0, 3)\n",
        "    return cv2.resize(img, (IMG_SIZE, IMG_SIZE))"
      ],
      "execution_count": 0,
      "outputs": []
    },
    {
      "metadata": {
        "id": "3QgDOZ4kMkwx",
        "colab_type": "code",
        "colab": {}
      },
      "cell_type": "code",
      "source": [
        "def images_and_labels_generator(batch_size):\n",
        "    for batch in raw_batch_generator(batch_size):\n",
        "        batch_images = []\n",
        "        batch_labels = []\n",
        "        for e in batch:\n",
        "            batch_images.append(draw_it(e[0]))\n",
        "            batch_labels.append(e[1])\n",
        "        batch_images = np.stack(batch_images, axis=0)\n",
        "        yield batch_images, batch_labels"
      ],
      "execution_count": 0,
      "outputs": []
    },
    {
      "metadata": {
        "id": "GEJASfvAJQ8T",
        "colab_type": "code",
        "colab": {}
      },
      "cell_type": "code",
      "source": [
        "# Генератор с добавленной аугментацией\n",
        "def images_and_labels_generator(batch_size, num):\n",
        "    for batch in raw_batch_generator(batch_size):\n",
        "        batch_images = []\n",
        "        batch_labels = []\n",
        "        for e in batch:\n",
        "            batch_images.append(draw_it(e[0]))\n",
        "            batch_labels.append(e[1])\n",
        "        # Добавленная аугментация,качество стало немного хуже, оставлен генератор без аугментации(Предыдущая ячейка)\n",
        "        image = batch_images[-1]\n",
        "        for i in range(num):\n",
        "            image = np.tile(np.expand_dims(image, axis=2), (1, 1, 3))\n",
        "            image = image_gen.random_transform(image)[:, :, 0]\n",
        "            batch_images.append(image)\n",
        "            batch_labels.append(e[1])\n",
        "            \n",
        "        batch_images = np.stack(batch_images, axis=0)\n",
        "        yield batch_images, batch_labels"
      ],
      "execution_count": 0,
      "outputs": []
    },
    {
      "metadata": {
        "id": "F6_r_kHG6HZ_",
        "colab_type": "text"
      },
      "cell_type": "markdown",
      "source": [
        "#Augmentation example"
      ]
    },
    {
      "metadata": {
        "id": "2qme4iBmMk2x",
        "colab_type": "code",
        "outputId": "df29b673-8978-4317-b79f-a7716d3ecafb",
        "colab": {
          "base_uri": "https://localhost:8080/",
          "height": 280
        }
      },
      "cell_type": "code",
      "source": [
        "b = images_and_labels_generator(32).next()\n",
        "plt.imshow(b[0][10, :, :])\n",
        "plt.title(b[1][10])\n",
        "plt.show()"
      ],
      "execution_count": 0,
      "outputs": [
        {
          "output_type": "display_data",
          "data": {
            "image/png": "[encoded data removed]",
            "text/plain": [
              "<matplotlib.figure.Figure at 0x7f4d2040f390>"
            ]
          },
          "metadata": {
            "tags": []
          }
        }
      ]
    },
    {
      "metadata": {
        "id": "lkzTIeVMNRyA",
        "colab_type": "code",
        "outputId": "4d959eff-9f67-4d67-98d7-e20e5a587692",
        "colab": {
          "base_uri": "https://localhost:8080/",
          "height": 1290
        }
      },
      "cell_type": "code",
      "source": [
        "from keras.preprocessing.image import ImageDataGenerator\n",
        "\n",
        "image_gen = ImageDataGenerator(\n",
        "    rotation_range=40,\n",
        "    shear_range=0.2,\n",
        "    zoom_range=0.2,\n",
        "    fill_mode='constant',\n",
        "    cval=255\n",
        ")\n",
        "\n",
        "image = b[0][10, :, :]\n",
        "\n",
        "# add 3 channels to image\n",
        "image = np.tile(np.expand_dims(image, axis=2), (1, 1, 3))\n",
        "\n",
        "# 5 random augmentations\n",
        "for _ in range(5):\n",
        "    plt.imshow(image_gen.random_transform(image)[:, :, 0])\n",
        "    plt.show()"
      ],
      "execution_count": 0,
      "outputs": [
        {
          "output_type": "stream",
          "text": [
            "Using TensorFlow backend.\n"
          ],
          "name": "stderr"
        },
        {
          "output_type": "display_data",
          "data": {
            "image/png": "[encoded data removed]",
            "text/plain": [
              "<matplotlib.figure.Figure at 0x7f4cd959f990>"
            ]
          },
          "metadata": {
            "tags": []
          }
        },
        {
          "output_type": "display_data",
          "data": {
            "image/png": "[encoded data removed]",
            "text/plain": [
              "<matplotlib.figure.Figure at 0x7f4cd952dfd0>"
            ]
          },
          "metadata": {
            "tags": []
          }
        },
        {
          "output_type": "display_data",
          "data": {
            "image/png": "[encoded data removed]",
            "text/plain": [
              "<matplotlib.figure.Figure at 0x7f4cd94ec610>"
            ]
          },
          "metadata": {
            "tags": []
          }
        },
        {
          "output_type": "display_data",
          "data": {
            "image/png": "[encoded data removed]",
            "text/plain": [
              "<matplotlib.figure.Figure at 0x7f4cd9537f90>"
            ]
          },
          "metadata": {
            "tags": []
          }
        },
        {
          "output_type": "display_data",
          "data": {
            "image/png": "[encoded data removed]",
            "text/plain": [
              "<matplotlib.figure.Figure at 0x7f4cd93a6ed0>"
            ]
          },
          "metadata": {
            "tags": []
          }
        }
      ]
    },
    {
      "metadata": {
        "id": "Siuo1KKx6fDV",
        "colab_type": "text"
      },
      "cell_type": "markdown",
      "source": [
        "#Train simple network"
      ]
    },
    {
      "metadata": {
        "id": "ZapdJsXwNR05",
        "colab_type": "code",
        "colab": {}
      },
      "cell_type": "code",
      "source": [
        "import tensorflow as tf\n",
        "import keras\n",
        "from keras import backend as K"
      ],
      "execution_count": 0,
      "outputs": []
    },
    {
      "metadata": {
        "id": "CapRwEqoNR3y",
        "colab_type": "code",
        "colab": {}
      },
      "cell_type": "code",
      "source": [
        "# reset graph when you change architecture!\n",
        "def reset_tf_session():\n",
        "    curr_session = tf.get_default_session()\n",
        "    # close current session\n",
        "    if curr_session is not None:\n",
        "        curr_session.close()\n",
        "    # reset graph\n",
        "    K.clear_session()\n",
        "    # create new session\n",
        "    config = tf.ConfigProto()\n",
        "    config.gpu_options.allow_growth = True\n",
        "    s = tf.InteractiveSession(config=config)\n",
        "    K.set_session(s)\n",
        "    return s"
      ],
      "execution_count": 0,
      "outputs": []
    },
    {
      "metadata": {
        "id": "c7O-7EiFNR6e",
        "colab_type": "code",
        "outputId": "3b208968-0cc8-442c-bf5d-0690b7f1171c",
        "colab": {
          "base_uri": "https://localhost:8080/",
          "height": 108
        }
      },
      "cell_type": "code",
      "source": [
        "NUM_CLASSES = len(class_labels)\n",
        "class_to_idx = {c: idx for idx, c in enumerate(class_labels)}\n",
        "class_to_idx.items()[:5]"
      ],
      "execution_count": 0,
      "outputs": [
        {
          "output_type": "execute_result",
          "data": {
            "text/plain": [
              "[('snowman', 134),\n",
              " ('eyeglasses', 254),\n",
              " ('ceiling fan', 18),\n",
              " ('camel', 90),\n",
              " ('stove', 119)]"
            ]
          },
          "metadata": {
            "tags": []
          },
          "execution_count": 17
        }
      ]
    },
    {
      "metadata": {
        "id": "hNZzNt7TNq1L",
        "colab_type": "code",
        "colab": {}
      },
      "cell_type": "code",
      "source": [
        "def train_iterator(batch_size):\n",
        "    for batch in images_and_labels_generator(batch_size):\n",
        "        images = batch[0].astype('float32')\n",
        "        ### YOUR CODE HERE: normalize images!\n",
        "        images = images/255 - 0.5\n",
        "        images = np.expand_dims(images, -1)\n",
        "        labels = keras.utils.to_categorical(map(class_to_idx.get, batch[1]), NUM_CLASSES)\n",
        "        yield images, labels"
      ],
      "execution_count": 0,
      "outputs": []
    },
    {
      "metadata": {
        "id": "AycRMWZ2Nq7Y",
        "colab_type": "code",
        "outputId": "c7ab8a91-178a-4e9c-e33d-bf6ad7168b76",
        "colab": {
          "base_uri": "https://localhost:8080/",
          "height": 54
        }
      },
      "cell_type": "code",
      "source": [
        "sample = train_iterator(32).next()\n",
        "print sample[0].shape\n",
        "print sample[1].shape"
      ],
      "execution_count": 0,
      "outputs": [
        {
          "output_type": "stream",
          "text": [
            "(32, 128, 128, 1)\n",
            "(32, 340)\n"
          ],
          "name": "stdout"
        }
      ]
    },
    {
      "metadata": {
        "id": "AYQU4QIqNq_O",
        "colab_type": "code",
        "colab": {}
      },
      "cell_type": "code",
      "source": [
        "# import necessary building blocks\n",
        "from keras.models import Sequential\n",
        "from keras.layers import Conv2D, MaxPooling2D, Flatten, Dense, Activation, Dropout, GlobalAveragePooling2D, \\\n",
        "    BatchNormalization, LeakyReLU"
      ],
      "execution_count": 0,
      "outputs": []
    },
    {
      "metadata": {
        "id": "Paxwpy0ANrEn",
        "colab_type": "code",
        "colab": {}
      },
      "cell_type": "code",
      "source": [
        "# Эксперимент 1: Данная модель показывает качество 0.721 на Public Leaderboard\n",
        "\n",
        "def make_model():\n",
        "    \"\"\"\n",
        "    Define your model architecture here.\n",
        "    Returns `Sequential` model.\n",
        "    \"\"\"\n",
        "    model = Sequential()\n",
        "\n",
        "    ### YOUR CODE HERE: replace with a better model! Batch normalization really helps!\n",
        "    \n",
        "    model.add(Conv2D(32, (3, 3), padding='same', activation='elu', input_shape=(IMG_SIZE, IMG_SIZE, 1)))\n",
        "    model.add(BatchNormalization())\n",
        "    model.add(MaxPooling2D(pool_size=(2, 2)))\n",
        "    model.add(Conv2D(64, (3, 3), padding='same', activation='elu'))\n",
        "    model.add(BatchNormalization())\n",
        "    model.add(MaxPooling2D(pool_size=(2, 2)))\n",
        "    model.add(Conv2D(64, (3, 3), padding='same', activation='elu'))\n",
        "    model.add(BatchNormalization())\n",
        "    model.add(MaxPooling2D(pool_size=(2, 2)))\n",
        "    model.add(Conv2D(128, (3, 3), padding='same', activation='elu'))\n",
        "    model.add(BatchNormalization())\n",
        "    model.add(MaxPooling2D(pool_size=(2, 2)))\n",
        "    \n",
        "    model.add(Flatten())\n",
        "    model.add(Dense(256, activation='elu'))\n",
        "    model.add(Dropout(0.5))\n",
        "    model.add(Dense(NUM_CLASSES, activation=\"softmax\"))\n",
        "    \n",
        "    return model"
      ],
      "execution_count": 0,
      "outputs": []
    },
    {
      "metadata": {
        "id": "jF_hzFWKsrV6",
        "colab_type": "code",
        "colab": {}
      },
      "cell_type": "code",
      "source": [
        "# Эксперимент 2\n",
        "# Изменена функия активации, добавлен слой, качество 0.745\n",
        "def make_model():\n",
        "  \n",
        "    model = Sequential()\n",
        "    \n",
        "    model.add(Conv2D(64, (3, 3), padding='same', activation = 'relu', input_shape=(IMG_SIZE, IMG_SIZE, 1)))\n",
        "    model.add(BatchNormalization())\n",
        "    model.add(MaxPooling2D(pool_size=(2, 2)))  \n",
        "    model.add(Conv2D(128, (3, 3), padding = 'same', activation = 'relu'))\n",
        "    model.add(BatchNormalization())\n",
        "    model.add(MaxPooling2D(pool_size=(2, 2)))\n",
        "    model.add(Conv2D(128, (3, 3), padding='same', activation = 'relu'))\n",
        "    model.add(BatchNormalization())\n",
        "    model.add(MaxPooling2D(pool_size=(2, 2)))\n",
        "    model.add(Conv2D(256, (3, 3), padding='same', activation = 'relu'))\n",
        "    model.add(BatchNormalization())\n",
        "    model.add(MaxPooling2D(pool_size=(2, 2)))\n",
        "    model.add(Conv2D(256, (3, 3), padding='same', activation = 'relu'))\n",
        "    model.add(BatchNormalization())\n",
        "    model.add(MaxPooling2D(pool_size=(2, 2)))\n",
        "    \n",
        "    model.add(Flatten())\n",
        "    model.add(Dense(256, activation = 'relu'))\n",
        "    model.add(Dropout(0.5))\n",
        "    model.add(Dense(680, activation = 'relu'))\n",
        "    model.add(Dense(NUM_CLASSES, activation=\"softmax\"))\n",
        "    \n",
        "    return model"
      ],
      "execution_count": 0,
      "outputs": []
    },
    {
      "metadata": {
        "id": "qqcNmQ-1ehUj",
        "colab_type": "code",
        "colab": {}
      },
      "cell_type": "code",
      "source": [
        "# Эксперимент 3\n",
        "# Изменена функия активации, фильтр, качество 0.719\n",
        "def make_model():\n",
        "  \n",
        "    model = Sequential()\n",
        "    \n",
        "    model.add(Conv2D(64, (3, 3), padding='same', input_shape=(IMG_SIZE, IMG_SIZE, 1)))\n",
        "    model.add(LeakyReLU(alpha=0.1))\n",
        "    model.add(BatchNormalization())\n",
        "    model.add(MaxPooling2D(pool_size=(2, 2)))\n",
        "    model.add(Conv2D(128, (3, 3), padding = 'same'))\n",
        "    model.add(LeakyReLU(alpha=0.1))\n",
        "    model.add(BatchNormalization())\n",
        "    model.add(MaxPooling2D(pool_size=(2, 2)))\n",
        "    model.add(Conv2D(128, (3, 3), padding='same'))\n",
        "    model.add(LeakyReLU(alpha=0.1))\n",
        "    model.add(BatchNormalization())\n",
        "    model.add(MaxPooling2D(pool_size=(2, 2)))\n",
        "    model.add(Conv2D(256, (3, 3), padding='same'))\n",
        "    model.add(LeakyReLU(alpha=0.1))\n",
        "    model.add(BatchNormalization())\n",
        "    model.add(MaxPooling2D(pool_size=(2, 2)))\n",
        "    \n",
        "    model.add(Flatten())\n",
        "    model.add(Dense(256))\n",
        "    model.add(LeakyReLU(alpha=0.1))\n",
        "    model.add(Dropout(0.5))\n",
        "    model.add(Dense(NUM_CLASSES, activation=\"softmax\"))\n",
        "    \n",
        "    return model"
      ],
      "execution_count": 0,
      "outputs": []
    },
    {
      "metadata": {
        "id": "yzxNYvQEen0J",
        "colab_type": "code",
        "colab": {}
      },
      "cell_type": "code",
      "source": [
        "# Эксперимент 4\n",
        "def make_model():\n",
        "  \n",
        "    model = Sequential()\n",
        "    \n",
        "    model.add(Conv2D(64, (3, 3), padding='same', input_shape=(IMG_SIZE, IMG_SIZE, 1)))\n",
        "    model.add(LeakyReLU(alpha=0.1))\n",
        "    model.add(BatchNormalization())\n",
        "    model.add(MaxPooling2D(pool_size=(2, 2)))\n",
        "    \n",
        "    model.add(Conv2D(128, (3, 3), padding = 'same'))\n",
        "    model.add(LeakyReLU(alpha=0.1))\n",
        "    model.add(BatchNormalization())\n",
        "    model.add(MaxPooling2D(pool_size=(2, 2)))\n",
        "    \n",
        "    model.add(Conv2D(128, (3, 3), padding='same'))\n",
        "    model.add(LeakyReLU(alpha=0.1))\n",
        "    model.add(BatchNormalization())\n",
        "    model.add(MaxPooling2D(pool_size=(2, 2)))\n",
        "    \n",
        "    model.add(Conv2D(256, (3, 3), padding='same'))\n",
        "    model.add(LeakyReLU(alpha=0.1))\n",
        "    model.add(BatchNormalization())\n",
        "    model.add(MaxPooling2D(pool_size=(2, 2)))\n",
        "    \n",
        "    model.add(Conv2D(256, (3, 3), padding='same'))\n",
        "    model.add(LeakyReLU(alpha=0.1))\n",
        "    model.add(BatchNormalization())\n",
        "    model.add(MaxPooling2D(pool_size=(2, 2)))\n",
        "    \n",
        "    model.add(Flatten())\n",
        "    model.add(Dense(256))\n",
        "    model.add(LeakyReLU(alpha=0.1))\n",
        "    model.add(Dropout(0.5))\n",
        "    model.add(Dense(NUM_CLASSES, activation=\"softmax\"))\n",
        "    \n",
        "    return model"
      ],
      "execution_count": 0,
      "outputs": []
    },
    {
      "metadata": {
        "id": "bBbr6wzBNrI4",
        "colab_type": "code",
        "outputId": "802a616b-d888-4fc6-dcac-491a9c81ad3f",
        "colab": {
          "base_uri": "https://localhost:8080/",
          "height": 1054
        }
      },
      "cell_type": "code",
      "source": [
        "# describe model\n",
        "s = reset_tf_session()  # clear default graph\n",
        "model = make_model()\n",
        "model.summary()"
      ],
      "execution_count": 0,
      "outputs": [
        {
          "output_type": "stream",
          "text": [
            "_________________________________________________________________\n",
            "Layer (type)                 Output Shape              Param #   \n",
            "=================================================================\n",
            "conv2d_1 (Conv2D)            (None, 128, 128, 64)      640       \n",
            "_________________________________________________________________\n",
            "leaky_re_lu_1 (LeakyReLU)    (None, 128, 128, 64)      0         \n",
            "_________________________________________________________________\n",
            "batch_normalization_1 (Batch (None, 128, 128, 64)      256       \n",
            "_________________________________________________________________\n",
            "max_pooling2d_1 (MaxPooling2 (None, 64, 64, 64)        0         \n",
            "_________________________________________________________________\n",
            "conv2d_2 (Conv2D)            (None, 64, 64, 128)       73856     \n",
            "_________________________________________________________________\n",
            "leaky_re_lu_2 (LeakyReLU)    (None, 64, 64, 128)       0         \n",
            "_________________________________________________________________\n",
            "batch_normalization_2 (Batch (None, 64, 64, 128)       512       \n",
            "_________________________________________________________________\n",
            "max_pooling2d_2 (MaxPooling2 (None, 32, 32, 128)       0         \n",
            "_________________________________________________________________\n",
            "conv2d_3 (Conv2D)            (None, 32, 32, 128)       147584    \n",
            "_________________________________________________________________\n",
            "leaky_re_lu_3 (LeakyReLU)    (None, 32, 32, 128)       0         \n",
            "_________________________________________________________________\n",
            "batch_normalization_3 (Batch (None, 32, 32, 128)       512       \n",
            "_________________________________________________________________\n",
            "max_pooling2d_3 (MaxPooling2 (None, 16, 16, 128)       0         \n",
            "_________________________________________________________________\n",
            "conv2d_4 (Conv2D)            (None, 16, 16, 256)       295168    \n",
            "_________________________________________________________________\n",
            "leaky_re_lu_4 (LeakyReLU)    (None, 16, 16, 256)       0         \n",
            "_________________________________________________________________\n",
            "batch_normalization_4 (Batch (None, 16, 16, 256)       1024      \n",
            "_________________________________________________________________\n",
            "max_pooling2d_4 (MaxPooling2 (None, 8, 8, 256)         0         \n",
            "_________________________________________________________________\n",
            "conv2d_5 (Conv2D)            (None, 8, 8, 256)         590080    \n",
            "_________________________________________________________________\n",
            "leaky_re_lu_5 (LeakyReLU)    (None, 8, 8, 256)         0         \n",
            "_________________________________________________________________\n",
            "batch_normalization_5 (Batch (None, 8, 8, 256)         1024      \n",
            "_________________________________________________________________\n",
            "max_pooling2d_5 (MaxPooling2 (None, 4, 4, 256)         0         \n",
            "_________________________________________________________________\n",
            "flatten_1 (Flatten)          (None, 4096)              0         \n",
            "_________________________________________________________________\n",
            "dense_1 (Dense)              (None, 256)               1048832   \n",
            "_________________________________________________________________\n",
            "leaky_re_lu_6 (LeakyReLU)    (None, 256)               0         \n",
            "_________________________________________________________________\n",
            "dropout_1 (Dropout)          (None, 256)               0         \n",
            "_________________________________________________________________\n",
            "dense_2 (Dense)              (None, 340)               87380     \n",
            "=================================================================\n",
            "Total params: 2,246,868\n",
            "Trainable params: 2,245,204\n",
            "Non-trainable params: 1,664\n",
            "_________________________________________________________________\n"
          ],
          "name": "stdout"
        }
      ]
    },
    {
      "metadata": {
        "id": "aogd-mUhQHwY",
        "colab_type": "code",
        "colab": {}
      },
      "cell_type": "code",
      "source": [
        "# custom metrics we need\n",
        "from keras.metrics import categorical_accuracy, top_k_categorical_accuracy\n",
        "\n",
        "def top_3_accuracy(y_true, y_pred):\n",
        "    return top_k_categorical_accuracy(y_true, y_pred, k=3)"
      ],
      "execution_count": 0,
      "outputs": []
    },
    {
      "metadata": {
        "id": "pAofCk17QHzR",
        "colab_type": "code",
        "colab": {}
      },
      "cell_type": "code",
      "source": [
        "BATCH_SIZE = 256\n",
        "STEPS_PER_EPOCH = 150\n",
        "EPOCHS = 60\n",
        "\n",
        "s = reset_tf_session()  # clear default graph\n",
        "model = make_model()  # define our model\n",
        "\n",
        "# prepare model for fitting (loss, optimizer, etc)\n",
        "model.compile(\n",
        "    loss='categorical_crossentropy',\n",
        "    optimizer=keras.optimizers.adam(clipnorm=5.),  # gradient clipping just in case\n",
        "    metrics=[categorical_accuracy, top_3_accuracy]  # report top 3 accuracy, correlates with MAP@3!\n",
        ")"
      ],
      "execution_count": 0,
      "outputs": []
    },
    {
      "metadata": {
        "id": "DQLOQP0xQH3V",
        "colab_type": "code",
        "colab": {}
      },
      "cell_type": "code",
      "source": [
        "# for saving the model after every epoch\n",
        "from keras.models import save_model\n",
        "\n",
        "class ModelSaveCallback(keras.callbacks.Callback):\n",
        "    def __init__(self, file_name):\n",
        "        super(ModelSaveCallback, self).__init__()\n",
        "        self.file_name = file_name\n",
        "\n",
        "    def on_epoch_end(self, epoch, logs=None):\n",
        "        model_filename = self.file_name.format(epoch)\n",
        "        save_model(self.model, model_filename)\n",
        "        print(\"Model saved in {}\".format(model_filename))"
      ],
      "execution_count": 0,
      "outputs": []
    },
    {
      "metadata": {
        "id": "YlSteddQQH95",
        "colab_type": "code",
        "outputId": "92e7a7d4-8855-4275-b85f-520083a4254d",
        "colab": {
          "base_uri": "https://localhost:8080/",
          "height": 54
        }
      },
      "cell_type": "code",
      "source": [
        "import os\n",
        "GOOGLE_DRIVE_ROOT = GOOGLE_DRIVE_MOUNT + \"/\" + filter(lambda x: x[0] != '.', os.listdir(GOOGLE_DRIVE_MOUNT))[0]\n",
        "print GOOGLE_DRIVE_ROOT\n",
        "\n",
        "# will save checkpoints to Google Drive\n",
        "CHECKPOINT_TEMPLATE = GOOGLE_DRIVE_ROOT + \"/model_{}\"\n",
        "print CHECKPOINT_TEMPLATE"
      ],
      "execution_count": 0,
      "outputs": [
        {
          "output_type": "stream",
          "text": [
            "/content/gdrive/My Drive\n",
            "/content/gdrive/My Drive/model_{}\n"
          ],
          "name": "stdout"
        }
      ]
    },
    {
      "metadata": {
        "id": "VnaeVrTJQXY2",
        "colab_type": "code",
        "colab": {}
      },
      "cell_type": "code",
      "source": [
        "last_finished_epoch = 0\n",
        "\n",
        "# you can continue from snapshot!!!\n",
        "# from keras.models import load_model\n",
        "# s = reset_tf_session()\n",
        "# last_finished_epoch = 2\n",
        "# model = load_model(CHECKPOINT_TEMPLATE.format(last_finished_epoch), \n",
        "#                    custom_objects={\"top_3_accuracy\": top_3_accuracy})"
      ],
      "execution_count": 0,
      "outputs": []
    },
    {
      "metadata": {
        "id": "Z5-Vbi0xQXbt",
        "colab_type": "code",
        "outputId": "f5b28af8-335d-471d-b810-655717e1c731",
        "colab": {
          "base_uri": "https://localhost:8080/",
          "height": 3346
        }
      },
      "cell_type": "code",
      "source": [
        "# fit the model with our eternal generator!\n",
        "model.fit_generator(\n",
        "    train_iterator(BATCH_SIZE), \n",
        "    steps_per_epoch=STEPS_PER_EPOCH,\n",
        "    epochs=EPOCHS,\n",
        "    callbacks=[ModelSaveCallback(CHECKPOINT_TEMPLATE)],\n",
        "    verbose=1,\n",
        "    initial_epoch=last_finished_epoch\n",
        ")"
      ],
      "execution_count": 0,
      "outputs": [
        {
          "output_type": "stream",
          "text": [
            "Exception tensorflow.python.framework.errors_impl.CancelledError: CancelledError() in <bound method _Callable.__del__ of <tensorflow.python.client.session._Callable object at 0x7f4cd968dad0>> ignored\n"
          ],
          "name": "stderr"
        },
        {
          "output_type": "stream",
          "text": [
            "Epoch 1/60\n",
            "150/150 [==============================] - 170s 1s/step - loss: 5.3269 - categorical_accuracy: 0.0533 - top_3_accuracy: 0.1080\n",
            "Model saved in /content/gdrive/My Drive/model_0\n",
            "Epoch 2/60\n",
            "150/150 [==============================] - 170s 1s/step - loss: 4.0747 - categorical_accuracy: 0.1833 - top_3_accuracy: 0.3237\n",
            "Model saved in /content/gdrive/My Drive/model_1\n",
            "Epoch 3/60\n",
            "150/150 [==============================] - 170s 1s/step - loss: 3.4411 - categorical_accuracy: 0.2703 - top_3_accuracy: 0.4471\n",
            "Model saved in /content/gdrive/My Drive/model_2\n",
            "Epoch 4/60\n",
            "150/150 [==============================] - 170s 1s/step - loss: 3.0736 - categorical_accuracy: 0.3300 - top_3_accuracy: 0.5239\n",
            "Model saved in /content/gdrive/My Drive/model_3\n",
            "Epoch 5/60\n",
            "150/150 [==============================] - 169s 1s/step - loss: 2.8162 - categorical_accuracy: 0.3793 - top_3_accuracy: 0.5734\n",
            "Model saved in /content/gdrive/My Drive/model_4\n",
            "Epoch 6/60\n",
            "150/150 [==============================] - 169s 1s/step - loss: 2.6547 - categorical_accuracy: 0.4118 - top_3_accuracy: 0.6093\n",
            "Model saved in /content/gdrive/My Drive/model_5\n",
            "Epoch 7/60\n",
            "150/150 [==============================] - 169s 1s/step - loss: 2.4863 - categorical_accuracy: 0.4359 - top_3_accuracy: 0.6416\n",
            "Model saved in /content/gdrive/My Drive/model_6\n",
            "Epoch 8/60\n",
            "150/150 [==============================] - 169s 1s/step - loss: 2.4032 - categorical_accuracy: 0.4550 - top_3_accuracy: 0.6560\n",
            "Model saved in /content/gdrive/My Drive/model_7\n",
            "Epoch 9/60\n",
            "150/150 [==============================] - 169s 1s/step - loss: 2.3173 - categorical_accuracy: 0.4684 - top_3_accuracy: 0.6713\n",
            "Model saved in /content/gdrive/My Drive/model_8\n",
            "Epoch 10/60\n",
            "150/150 [==============================] - 169s 1s/step - loss: 2.2360 - categorical_accuracy: 0.4903 - top_3_accuracy: 0.6914\n",
            "Model saved in /content/gdrive/My Drive/model_9\n",
            "Epoch 11/60\n",
            "150/150 [==============================] - 169s 1s/step - loss: 2.1708 - categorical_accuracy: 0.4938 - top_3_accuracy: 0.7007\n",
            "Model saved in /content/gdrive/My Drive/model_10\n",
            "Epoch 12/60\n",
            "150/150 [==============================] - 169s 1s/step - loss: 2.1215 - categorical_accuracy: 0.5071 - top_3_accuracy: 0.7105\n",
            "Model saved in /content/gdrive/My Drive/model_11\n",
            "Epoch 13/60\n",
            "150/150 [==============================] - 169s 1s/step - loss: 2.0921 - categorical_accuracy: 0.5155 - top_3_accuracy: 0.7158\n",
            "Model saved in /content/gdrive/My Drive/model_12\n",
            "Epoch 14/60\n",
            "150/150 [==============================] - 169s 1s/step - loss: 2.0530 - categorical_accuracy: 0.5237 - top_3_accuracy: 0.7224\n",
            "Model saved in /content/gdrive/My Drive/model_13\n",
            "Epoch 15/60\n",
            "150/150 [==============================] - 169s 1s/step - loss: 2.0056 - categorical_accuracy: 0.5324 - top_3_accuracy: 0.7313\n",
            "Model saved in /content/gdrive/My Drive/model_14\n",
            "Epoch 16/60\n",
            "150/150 [==============================] - 169s 1s/step - loss: 1.9868 - categorical_accuracy: 0.5364 - top_3_accuracy: 0.7365\n",
            "Model saved in /content/gdrive/My Drive/model_15\n",
            "Epoch 17/60\n",
            "150/150 [==============================] - 170s 1s/step - loss: 1.9672 - categorical_accuracy: 0.5434 - top_3_accuracy: 0.7390\n",
            "Model saved in /content/gdrive/My Drive/model_16\n",
            "Epoch 18/60\n",
            "150/150 [==============================] - 169s 1s/step - loss: 1.9407 - categorical_accuracy: 0.5448 - top_3_accuracy: 0.7421\n",
            "Model saved in /content/gdrive/My Drive/model_17\n",
            "Epoch 19/60\n",
            "150/150 [==============================] - 169s 1s/step - loss: 1.9426 - categorical_accuracy: 0.5480 - top_3_accuracy: 0.7434\n",
            "Model saved in /content/gdrive/My Drive/model_18\n",
            "Epoch 20/60\n",
            "150/150 [==============================] - 169s 1s/step - loss: 1.9111 - categorical_accuracy: 0.5544 - top_3_accuracy: 0.7496\n",
            "Model saved in /content/gdrive/My Drive/model_19\n",
            "Epoch 21/60\n",
            "150/150 [==============================] - 169s 1s/step - loss: 1.8951 - categorical_accuracy: 0.5535 - top_3_accuracy: 0.7502\n",
            "Model saved in /content/gdrive/My Drive/model_20\n",
            "Epoch 22/60\n",
            "150/150 [==============================] - 169s 1s/step - loss: 1.8743 - categorical_accuracy: 0.5591 - top_3_accuracy: 0.7548\n",
            "Model saved in /content/gdrive/My Drive/model_21\n",
            "Epoch 23/60\n",
            "150/150 [==============================] - 169s 1s/step - loss: 1.8550 - categorical_accuracy: 0.5642 - top_3_accuracy: 0.7568\n",
            "Model saved in /content/gdrive/My Drive/model_22\n",
            "Epoch 24/60\n",
            "150/150 [==============================] - 169s 1s/step - loss: 1.8322 - categorical_accuracy: 0.5699 - top_3_accuracy: 0.7622\n",
            "Model saved in /content/gdrive/My Drive/model_23\n",
            "Epoch 25/60\n",
            "150/150 [==============================] - 169s 1s/step - loss: 1.8369 - categorical_accuracy: 0.5675 - top_3_accuracy: 0.7627\n",
            "Model saved in /content/gdrive/My Drive/model_24\n",
            "Epoch 26/60\n",
            "150/150 [==============================] - 169s 1s/step - loss: 1.8184 - categorical_accuracy: 0.5740 - top_3_accuracy: 0.7634\n",
            "Model saved in /content/gdrive/My Drive/model_25\n",
            "Epoch 27/60\n",
            "150/150 [==============================] - 169s 1s/step - loss: 1.7983 - categorical_accuracy: 0.5726 - top_3_accuracy: 0.7675\n",
            "Model saved in /content/gdrive/My Drive/model_26\n",
            "Epoch 28/60\n",
            "150/150 [==============================] - 169s 1s/step - loss: 1.7781 - categorical_accuracy: 0.5791 - top_3_accuracy: 0.7726\n",
            "Model saved in /content/gdrive/My Drive/model_27\n",
            "Epoch 29/60\n",
            "150/150 [==============================] - 169s 1s/step - loss: 1.7639 - categorical_accuracy: 0.5795 - top_3_accuracy: 0.7724\n",
            "Model saved in /content/gdrive/My Drive/model_28\n",
            "Epoch 30/60\n",
            "150/150 [==============================] - 169s 1s/step - loss: 1.7785 - categorical_accuracy: 0.5778 - top_3_accuracy: 0.7709\n",
            "Model saved in /content/gdrive/My Drive/model_29\n",
            "Epoch 31/60\n",
            "150/150 [==============================] - 169s 1s/step - loss: 1.7713 - categorical_accuracy: 0.5846 - top_3_accuracy: 0.7720\n",
            "Model saved in /content/gdrive/My Drive/model_30\n",
            "Epoch 32/60\n",
            "150/150 [==============================] - 169s 1s/step - loss: 1.7484 - categorical_accuracy: 0.5878 - top_3_accuracy: 0.7752\n",
            "Model saved in /content/gdrive/My Drive/model_31\n",
            "Epoch 33/60\n",
            "150/150 [==============================] - 169s 1s/step - loss: 1.7390 - categorical_accuracy: 0.5906 - top_3_accuracy: 0.7808\n",
            "Model saved in /content/gdrive/My Drive/model_32\n",
            "Epoch 34/60\n",
            "150/150 [==============================] - 169s 1s/step - loss: 1.7141 - categorical_accuracy: 0.5900 - top_3_accuracy: 0.7824\n",
            "Model saved in /content/gdrive/My Drive/model_33\n",
            "Epoch 35/60\n",
            "150/150 [==============================] - 169s 1s/step - loss: 1.7095 - categorical_accuracy: 0.5955 - top_3_accuracy: 0.7851\n",
            "Model saved in /content/gdrive/My Drive/model_34\n",
            "Epoch 36/60\n",
            "150/150 [==============================] - 169s 1s/step - loss: 1.7250 - categorical_accuracy: 0.5923 - top_3_accuracy: 0.7802\n",
            "Model saved in /content/gdrive/My Drive/model_35\n",
            "Epoch 37/60\n",
            "150/150 [==============================] - 169s 1s/step - loss: 1.7129 - categorical_accuracy: 0.5924 - top_3_accuracy: 0.7799\n",
            "Model saved in /content/gdrive/My Drive/model_36\n",
            "Epoch 38/60\n",
            "150/150 [==============================] - 169s 1s/step - loss: 1.7123 - categorical_accuracy: 0.5947 - top_3_accuracy: 0.7829\n",
            "Model saved in /content/gdrive/My Drive/model_37\n",
            "Epoch 39/60\n",
            "150/150 [==============================] - 169s 1s/step - loss: 1.6952 - categorical_accuracy: 0.5986 - top_3_accuracy: 0.7866\n",
            "Model saved in /content/gdrive/My Drive/model_38\n",
            "Epoch 40/60\n",
            "150/150 [==============================] - 169s 1s/step - loss: 1.6896 - categorical_accuracy: 0.5958 - top_3_accuracy: 0.7871\n",
            "Model saved in /content/gdrive/My Drive/model_39\n",
            "Epoch 41/60\n",
            "150/150 [==============================] - 169s 1s/step - loss: 1.6640 - categorical_accuracy: 0.6025 - top_3_accuracy: 0.7893\n",
            "Model saved in /content/gdrive/My Drive/model_40\n",
            "Epoch 42/60\n",
            "150/150 [==============================] - 169s 1s/step - loss: 1.6731 - categorical_accuracy: 0.5984 - top_3_accuracy: 0.7897\n",
            "Model saved in /content/gdrive/My Drive/model_41\n",
            "Epoch 43/60\n",
            "150/150 [==============================] - 169s 1s/step - loss: 1.6621 - categorical_accuracy: 0.6041 - top_3_accuracy: 0.7903\n",
            "Model saved in /content/gdrive/My Drive/model_42\n",
            "Epoch 44/60\n",
            "150/150 [==============================] - 169s 1s/step - loss: 1.6481 - categorical_accuracy: 0.6081 - top_3_accuracy: 0.7944\n",
            "Model saved in /content/gdrive/My Drive/model_43\n",
            "Epoch 45/60\n",
            "150/150 [==============================] - 169s 1s/step - loss: 1.6649 - categorical_accuracy: 0.6038 - top_3_accuracy: 0.7915\n",
            "Model saved in /content/gdrive/My Drive/model_44\n",
            "Epoch 46/60\n",
            "150/150 [==============================] - 169s 1s/step - loss: 1.6541 - categorical_accuracy: 0.6080 - top_3_accuracy: 0.7938\n",
            "Model saved in /content/gdrive/My Drive/model_45\n",
            "Epoch 47/60\n",
            "150/150 [==============================] - 169s 1s/step - loss: 1.6210 - categorical_accuracy: 0.6122 - top_3_accuracy: 0.7978\n",
            "Model saved in /content/gdrive/My Drive/model_46\n",
            "Epoch 48/60\n",
            "150/150 [==============================] - 169s 1s/step - loss: 1.6392 - categorical_accuracy: 0.6091 - top_3_accuracy: 0.7952\n",
            "Model saved in /content/gdrive/My Drive/model_47\n",
            "Epoch 49/60\n",
            "150/150 [==============================] - 169s 1s/step - loss: 1.6381 - categorical_accuracy: 0.6102 - top_3_accuracy: 0.7968\n",
            "Model saved in /content/gdrive/My Drive/model_48\n",
            "Epoch 50/60\n",
            "150/150 [==============================] - 169s 1s/step - loss: 1.6349 - categorical_accuracy: 0.6101 - top_3_accuracy: 0.7968\n",
            "Model saved in /content/gdrive/My Drive/model_49\n",
            "Epoch 51/60\n",
            "150/150 [==============================] - 169s 1s/step - loss: 1.6211 - categorical_accuracy: 0.6124 - top_3_accuracy: 0.7960\n",
            "Model saved in /content/gdrive/My Drive/model_50\n",
            "Epoch 52/60\n",
            "150/150 [==============================] - 169s 1s/step - loss: 1.6386 - categorical_accuracy: 0.6106 - top_3_accuracy: 0.7953\n",
            "Model saved in /content/gdrive/My Drive/model_51\n",
            "Epoch 53/60\n",
            "150/150 [==============================] - 169s 1s/step - loss: 1.6176 - categorical_accuracy: 0.6148 - top_3_accuracy: 0.7991\n",
            "Model saved in /content/gdrive/My Drive/model_52\n",
            "Epoch 54/60\n",
            "150/150 [==============================] - 169s 1s/step - loss: 1.6210 - categorical_accuracy: 0.6140 - top_3_accuracy: 0.7972\n",
            "Model saved in /content/gdrive/My Drive/model_53\n",
            "Epoch 55/60\n",
            "150/150 [==============================] - 168s 1s/step - loss: 1.6100 - categorical_accuracy: 0.6168 - top_3_accuracy: 0.8023\n",
            "Model saved in /content/gdrive/My Drive/model_54\n",
            "Epoch 56/60\n",
            "150/150 [==============================] - 169s 1s/step - loss: 1.6161 - categorical_accuracy: 0.6142 - top_3_accuracy: 0.8011\n",
            "Model saved in /content/gdrive/My Drive/model_55\n",
            "Epoch 57/60\n",
            "150/150 [==============================] - 169s 1s/step - loss: 1.5976 - categorical_accuracy: 0.6194 - top_3_accuracy: 0.8011\n",
            "Model saved in /content/gdrive/My Drive/model_56\n",
            "Epoch 58/60\n",
            "150/150 [==============================] - 169s 1s/step - loss: 1.5945 - categorical_accuracy: 0.6173 - top_3_accuracy: 0.8013\n",
            "Model saved in /content/gdrive/My Drive/model_57\n",
            "Epoch 59/60\n",
            "150/150 [==============================] - 169s 1s/step - loss: 1.6025 - categorical_accuracy: 0.6155 - top_3_accuracy: 0.8009\n",
            "Model saved in /content/gdrive/My Drive/model_58\n",
            "Epoch 60/60\n",
            "150/150 [==============================] - 169s 1s/step - loss: 1.5995 - categorical_accuracy: 0.6203 - top_3_accuracy: 0.8035\n",
            "Model saved in /content/gdrive/My Drive/model_59\n"
          ],
          "name": "stdout"
        },
        {
          "output_type": "execute_result",
          "data": {
            "text/plain": [
              "<keras.callbacks.History at 0x7f4cd04018d0>"
            ]
          },
          "metadata": {
            "tags": []
          },
          "execution_count": 68
        }
      ]
    },
    {
      "metadata": {
        "id": "xjGusC3W6qSg",
        "colab_type": "text"
      },
      "cell_type": "markdown",
      "source": [
        "#Score test set"
      ]
    },
    {
      "metadata": {
        "id": "dwiByo0kQXey",
        "colab_type": "code",
        "outputId": "77ad547a-89fa-4d8b-8136-8d73600ade99",
        "colab": {
          "base_uri": "https://localhost:8080/",
          "height": 72
        }
      },
      "cell_type": "code",
      "source": [
        "# download test set\n",
        "! KAGGLE_USERNAME='vano1771' KAGGLE_KEY='3a91d649007203585f4c9fbbcc3dd362' kaggle competitions download -c quickdraw-doodle-recognition -f test_simplified.csv"
      ],
      "execution_count": 0,
      "outputs": [
        {
          "output_type": "stream",
          "text": [
            "Downloading test_simplified.csv to /content\n",
            " 81% 48.0M/59.0M [00:00<00:00, 60.1MB/s]\n",
            "100% 59.0M/59.0M [00:00<00:00, 149MB/s] \n"
          ],
          "name": "stdout"
        }
      ]
    },
    {
      "metadata": {
        "id": "Zru1WhGyoSaT",
        "colab_type": "code",
        "colab": {}
      },
      "cell_type": "code",
      "source": [
        "def test_csv_iterator(batch_size):\n",
        "    with open(\"test_simplified.csv\", \"r\") as f:\n",
        "        batch_keys = []\n",
        "        batch_images = []\n",
        "        f.readline()  # skip header\n",
        "        for line in csv.reader(f, delimiter=',', quotechar='\"'):\n",
        "            batch_keys.append(line[0])\n",
        "            batch_images.append(draw_it(line[2]))\n",
        "            if len(batch_images) == batch_size:\n",
        "                batch_images = np.stack(batch_images, axis=0)\n",
        "                batch_images = np.expand_dims(batch_images, -1)\n",
        "                batch_images = batch_images.astype('float32')\n",
        "                ### YOUR CODE HERE: normalize batch_images the same way as during training!\n",
        "                batch_images = batch_images/255 - 0.5\n",
        "                yield batch_keys, batch_images\n",
        "                batch_keys = []\n",
        "                batch_images = []\n",
        "        if batch_images:  # last batch\n",
        "            batch_images = np.stack(batch_images, axis=0)\n",
        "            batch_images = np.expand_dims(batch_images, -1)\n",
        "            batch_images = batch_images.astype('float32')\n",
        "            ### YOUR CODE HERE: normalize batch_images the same way as during training!\n",
        "            batch_images = batch_images/255 - 0.5\n",
        "            yield batch_keys, batch_images"
      ],
      "execution_count": 0,
      "outputs": []
    },
    {
      "metadata": {
        "id": "6Fm2ecNloSgU",
        "colab_type": "code",
        "outputId": "cb5e7598-bfe8-43d1-b01b-bf8fa622aa6c",
        "colab": {
          "base_uri": "https://localhost:8080/",
          "height": 35
        }
      },
      "cell_type": "code",
      "source": [
        "! wc -l test_simplified.csv"
      ],
      "execution_count": 0,
      "outputs": [
        {
          "output_type": "stream",
          "text": [
            "112200 test_simplified.csv\n"
          ],
          "name": "stdout"
        }
      ]
    },
    {
      "metadata": {
        "id": "3nPhQLYqoSjN",
        "colab_type": "code",
        "outputId": "37fb3baf-fe3f-4a59-de33-77bee01e5cf5",
        "colab": {
          "base_uri": "https://localhost:8080/",
          "height": 35
        }
      },
      "cell_type": "code",
      "source": [
        "with open(\"submission.csv\", \"w\", buffering=1*1024*1024) as f:\n",
        "    f.write(\"key_id,word\\n\")\n",
        "    for batch_keys, batch_images in tqdm.tqdm(test_csv_iterator(BATCH_SIZE), total=np.ceil(112200./BATCH_SIZE)):\n",
        "        probas = model.predict_proba(batch_images, BATCH_SIZE)\n",
        "        top_3_classes = np.argsort(probas, axis=1)[:, [-1, -2, -3]]\n",
        "        labels = map(lambda x: \" \".join(\"_\".join(class_labels[idx].split()) for idx in x), top_3_classes)\n",
        "        for key, labels in zip(batch_keys, labels):\n",
        "            f.write(key + \",\" + labels + \"\\n\")"
      ],
      "execution_count": 0,
      "outputs": [
        {
          "output_type": "stream",
          "text": [
            "100%|██████████| 439/439.0 [04:04<00:00,  1.61it/s]\n"
          ],
          "name": "stderr"
        }
      ]
    },
    {
      "metadata": {
        "id": "w2RWihAcoSmk",
        "colab_type": "code",
        "outputId": "e97e5920-f9e4-4ae0-809f-f762bdf4376c",
        "colab": {
          "base_uri": "https://localhost:8080/",
          "height": 35
        }
      },
      "cell_type": "code",
      "source": [
        "! wc -l submission.csv"
      ],
      "execution_count": 0,
      "outputs": [
        {
          "output_type": "stream",
          "text": [
            "112200 submission.csv\n"
          ],
          "name": "stdout"
        }
      ]
    },
    {
      "metadata": {
        "id": "vp26O40UoSpn",
        "colab_type": "code",
        "outputId": "2ca9de3f-f715-4db7-8e47-ee06537dd5f9",
        "colab": {
          "base_uri": "https://localhost:8080/",
          "height": 54
        }
      },
      "cell_type": "code",
      "source": [
        "# submit to kaggle\n",
        "! KAGGLE_USERNAME='vano1771' KAGGLE_KEY='3a91d649007203585f4c9fbbcc3dd362' kaggle competitions submit quickdraw-doodle-recognition -f submission.csv -m \"New\""
      ],
      "execution_count": 0,
      "outputs": [
        {
          "output_type": "stream",
          "text": [
            "100% 4.40M/4.40M [00:00<00:00, 13.8MB/s]\n",
            "Successfully submitted to Quick, Draw! Doodle Recognition Challenge"
          ],
          "name": "stdout"
        }
      ]
    }
  ]
}