{
  "nbformat": 4,
  "nbformat_minor": 0,
  "metadata": {
    "colab": {
      "name": "HW_HSE.ipynb",
      "version": "0.3.2",
      "provenance": [],
      "collapsed_sections": [
        "E7ME-ag0hoDA",
        "e2EnN-U7MemU",
        "9yCVYfbpNhXd",
        "22tJKQnaOjie",
        "uyVQ5Gm7Qzcz",
        "4FkOuR_NiXeT"
      ]
    },
    "language_info": {
      "codemirror_mode": {
        "name": "ipython",
        "version": 3
      },
      "file_extension": ".py",
      "mimetype": "text/x-python",
      "name": "python",
      "nbconvert_exporter": "python",
      "pygments_lexer": "ipython3",
      "version": "3.6.5"
    },
    "kernelspec": {
      "name": "python3",
      "display_name": "Python 3"
    },
    "accelerator": "GPU"
  },
  "cells": [
    {
      "cell_type": "markdown",
      "metadata": {
        "colab_type": "text",
        "id": "E7ME-ag0hoDA"
      },
      "source": [
        "# Данные"
      ]
    },
    {
      "cell_type": "code",
      "metadata": {
        "colab_type": "code",
        "id": "eVLBU4s9fF-q",
        "outputId": "06da3e57-839a-4438-ea50-d4a714862a78",
        "colab": {
          "base_uri": "https://localhost:8080/",
          "height": 392
        }
      },
      "source": [
        "!wget https://www.dropbox.com/s/nd7v1fod89xla6j/vk_texts_with_sources.csv"
      ],
      "execution_count": 0,
      "outputs": [
        {
          "output_type": "stream",
          "text": [
            "--2019-06-10 02:44:38--  https://www.dropbox.com/s/nd7v1fod89xla6j/vk_texts_with_sources.csv\n",
            "Resolving www.dropbox.com (www.dropbox.com)... 162.125.8.1, 2620:100:6018:1::a27d:301\n",
            "Connecting to www.dropbox.com (www.dropbox.com)|162.125.8.1|:443... connected.\n",
            "HTTP request sent, awaiting response... 301 Moved Permanently\n",
            "Location: /s/raw/nd7v1fod89xla6j/vk_texts_with_sources.csv [following]\n",
            "--2019-06-10 02:44:43--  https://www.dropbox.com/s/raw/nd7v1fod89xla6j/vk_texts_with_sources.csv\n",
            "Reusing existing connection to www.dropbox.com:443.\n",
            "HTTP request sent, awaiting response... 302 Found\n",
            "Location: https://uc682136f147effb6cd4fe7828ba.dl.dropboxusercontent.com/cd/0/inline/AiiWo2q3JVQJUde4P9YXoEKJpNEOydVX9oBWPfs8jrPGeTZPjTI_uAqHHfT4puX37JxkDcQVyzspXgLQjoIc4kdmYuoTU-3S6nJEeiOtOdN6vQ/file# [following]\n",
            "--2019-06-10 02:44:43--  https://uc682136f147effb6cd4fe7828ba.dl.dropboxusercontent.com/cd/0/inline/AiiWo2q3JVQJUde4P9YXoEKJpNEOydVX9oBWPfs8jrPGeTZPjTI_uAqHHfT4puX37JxkDcQVyzspXgLQjoIc4kdmYuoTU-3S6nJEeiOtOdN6vQ/file\n",
            "Resolving uc682136f147effb6cd4fe7828ba.dl.dropboxusercontent.com (uc682136f147effb6cd4fe7828ba.dl.dropboxusercontent.com)... 162.125.3.6, 2620:100:601b:6::a27d:806\n",
            "Connecting to uc682136f147effb6cd4fe7828ba.dl.dropboxusercontent.com (uc682136f147effb6cd4fe7828ba.dl.dropboxusercontent.com)|162.125.3.6|:443... connected.\n",
            "HTTP request sent, awaiting response... 200 OK\n",
            "Length: 14406837 (14M) [text/plain]\n",
            "Saving to: ‘vk_texts_with_sources.csv’\n",
            "\n",
            "vk_texts_with_sourc 100%[===================>]  13.74M  62.9MB/s    in 0.2s    \n",
            "\n",
            "2019-06-10 02:44:44 (62.9 MB/s) - ‘vk_texts_with_sources.csv’ saved [14406837/14406837]\n",
            "\n"
          ],
          "name": "stdout"
        }
      ]
    },
    {
      "cell_type": "code",
      "metadata": {
        "colab_type": "code",
        "id": "qxZMU8CBK664",
        "outputId": "b275b5d8-65cd-4951-a03f-6bfd8237f329",
        "colab": {
          "base_uri": "https://localhost:8080/",
          "height": 197
        }
      },
      "source": [
        "import pandas as pd\n",
        "df = pd.read_csv('vk_texts_with_sources.csv', usecols = ['text', 'source'])\n",
        "df.head(5)"
      ],
      "execution_count": 0,
      "outputs": [
        {
          "output_type": "execute_result",
          "data": {
            "text/html": [
              "<div>\n",
              "<style scoped>\n",
              "    .dataframe tbody tr th:only-of-type {\n",
              "        vertical-align: middle;\n",
              "    }\n",
              "\n",
              "    .dataframe tbody tr th {\n",
              "        vertical-align: top;\n",
              "    }\n",
              "\n",
              "    .dataframe thead th {\n",
              "        text-align: right;\n",
              "    }\n",
              "</style>\n",
              "<table border=\"1\" class=\"dataframe\">\n",
              "  <thead>\n",
              "    <tr style=\"text-align: right;\">\n",
              "      <th></th>\n",
              "      <th>text</th>\n",
              "      <th>source</th>\n",
              "    </tr>\n",
              "  </thead>\n",
              "  <tbody>\n",
              "    <tr>\n",
              "      <th>0</th>\n",
              "      <td>Начальник Главного оперативного управления Ген...</td>\n",
              "      <td>mil</td>\n",
              "    </tr>\n",
              "    <tr>\n",
              "      <th>1</th>\n",
              "      <td>Артиллерийские подразделения общевойскового об...</td>\n",
              "      <td>mil</td>\n",
              "    </tr>\n",
              "    <tr>\n",
              "      <th>2</th>\n",
              "      <td>Подразделения морской пехоты Каспийской флотил...</td>\n",
              "      <td>mil</td>\n",
              "    </tr>\n",
              "    <tr>\n",
              "      <th>3</th>\n",
              "      <td>Команды на всеармейских этапах конкурсов АрМИ-...</td>\n",
              "      <td>mil</td>\n",
              "    </tr>\n",
              "    <tr>\n",
              "      <th>4</th>\n",
              "      <td>На большом учебно-методическом командирском сб...</td>\n",
              "      <td>mil</td>\n",
              "    </tr>\n",
              "  </tbody>\n",
              "</table>\n",
              "</div>"
            ],
            "text/plain": [
              "                                                text source\n",
              "0  Начальник Главного оперативного управления Ген...    mil\n",
              "1  Артиллерийские подразделения общевойскового об...    mil\n",
              "2  Подразделения морской пехоты Каспийской флотил...    mil\n",
              "3  Команды на всеармейских этапах конкурсов АрМИ-...    mil\n",
              "4  На большом учебно-методическом командирском сб...    mil"
            ]
          },
          "metadata": {
            "tags": []
          },
          "execution_count": 95
        }
      ]
    },
    {
      "cell_type": "markdown",
      "metadata": {
        "colab_type": "text",
        "id": "dYNCAr17MFA3"
      },
      "source": [
        "# Домашнее задание\n",
        "\n",
        "В этом домашнем задании вы будете решать задачу тематической классификации. Даны тексты, опубликованные в нескольких пабликах VK.com, посвященных государственным и муниципальным службам. Формально задача заключается в том, чтобы по тексту ($d$) определить в каком паблике он опубликован, то есть, к какому классу $c$ он принадлежит. "
      ]
    },
    {
      "cell_type": "markdown",
      "metadata": {
        "colab_type": "text",
        "id": "e2EnN-U7MemU"
      },
      "source": [
        "## Задание 1 [1 балл]. Описательные статистики\n",
        "Посчитайте:\n",
        "* количество текстов и количество классов\n",
        "* количество слов (без лемматизации и с лемматизацией) в коллекции\n",
        "* среднюю длину текста в словах и символах\n",
        "* найдите 5 самых частых существительных в текстах каждого паблика \n",
        "\n",
        "*Рекомендуем использовать pandas для расчета описательных статистик.*"
      ]
    },
    {
      "cell_type": "code",
      "metadata": {
        "id": "YRcPpObHNaiM",
        "colab_type": "code",
        "outputId": "8ff3ecaf-cabf-4a15-b24a-09eb7cf9ae6f",
        "colab": {
          "base_uri": "https://localhost:8080/",
          "height": 265
        }
      },
      "source": [
        "import pandas as pd\n",
        "import pymystem3\n",
        "import re\n",
        "from nltk.corpus import stopwords\n",
        "from string import punctuation\n",
        "!pip install pymorphy2\n",
        "from pymorphy2 import MorphAnalyzer\n",
        "import collections\n",
        "from sklearn.utils import shuffle\n",
        "from sklearn.model_selection import train_test_split\n",
        "from sklearn.decomposition import TruncatedSVD\n",
        "from sklearn.decomposition import PCA\n",
        "from sklearn.preprocessing import Normalizer\n",
        "from sklearn.feature_extraction.text import *\n",
        "from sklearn.metrics import *\n",
        "from sklearn.pipeline import Pipeline\n",
        "from sklearn.naive_bayes import MultinomialNB\n",
        "from sklearn.linear_model import SGDClassifier, LogisticRegression\n",
        "from sklearn.ensemble import RandomForestClassifier\n",
        "\n",
        "\n",
        "morph = MorphAnalyzer()\n",
        "m = pymystem3.Mystem()\n",
        "morph = MorphAnalyzer()\n",
        "import nltk\n",
        "nltk.download('stopwords')\n",
        "stops = set(stopwords.words('russian'))\n",
        "punct = punctuation+'«»—…“”*№–'"
      ],
      "execution_count": 0,
      "outputs": [
        {
          "output_type": "stream",
          "text": [
            "Collecting pymorphy2\n",
            "\u001b[?25l  Downloading https://files.pythonhosted.org/packages/a3/33/fff9675c68b5f6c63ec8c6e6ff57827dda28a1fa5b2c2d727dffff92dd47/pymorphy2-0.8-py2.py3-none-any.whl (46kB)\n",
            "\u001b[K     |████████████████████████████████| 51kB 2.4MB/s \n",
            "\u001b[?25hCollecting dawg-python>=0.7 (from pymorphy2)\n",
            "  Downloading https://files.pythonhosted.org/packages/6a/84/ff1ce2071d4c650ec85745766c0047ccc3b5036f1d03559fd46bb38b5eeb/DAWG_Python-0.7.2-py2.py3-none-any.whl\n",
            "Requirement already satisfied: docopt>=0.6 in /usr/local/lib/python3.6/dist-packages (from pymorphy2) (0.6.2)\n",
            "Collecting pymorphy2-dicts<3.0,>=2.4 (from pymorphy2)\n",
            "\u001b[?25l  Downloading https://files.pythonhosted.org/packages/02/51/2465fd4f72328ab50877b54777764d928da8cb15b74e2680fc1bd8cb3173/pymorphy2_dicts-2.4.393442.3710985-py2.py3-none-any.whl (7.1MB)\n",
            "\u001b[K     |████████████████████████████████| 7.1MB 487kB/s \n",
            "\u001b[?25hInstalling collected packages: dawg-python, pymorphy2-dicts, pymorphy2\n",
            "Successfully installed dawg-python-0.7.2 pymorphy2-0.8 pymorphy2-dicts-2.4.393442.3710985\n"
          ],
          "name": "stdout"
        },
        {
          "output_type": "stream",
          "text": [
            "Installing mystem to /root/.local/bin/mystem from http://download.cdn.yandex.net/mystem/mystem-3.1-linux-64bit.tar.gz\n"
          ],
          "name": "stderr"
        },
        {
          "output_type": "stream",
          "text": [
            "[nltk_data] Downloading package stopwords to /root/nltk_data...\n",
            "[nltk_data]   Unzipping corpora/stopwords.zip.\n"
          ],
          "name": "stdout"
        }
      ]
    },
    {
      "cell_type": "code",
      "metadata": {
        "id": "4SOBGp1MORH1",
        "colab_type": "code",
        "colab": {}
      },
      "source": [
        "df.dropna(inplace=True)\n",
        "df.reset_index(drop=True, inplace=True)"
      ],
      "execution_count": 0,
      "outputs": []
    },
    {
      "cell_type": "code",
      "metadata": {
        "id": "BJEHDR3a7LN6",
        "colab_type": "code",
        "outputId": "e5619eec-40fe-4d64-a948-ad37fef845b1",
        "colab": {
          "base_uri": "https://localhost:8080/",
          "height": 52
        }
      },
      "source": [
        "print('количество текстов - ', len(df))\n",
        "print('количество классов - ',len(df.source.unique()))"
      ],
      "execution_count": 0,
      "outputs": [
        {
          "output_type": "stream",
          "text": [
            "количество текстов -  11526\n",
            "количество классов -  4\n"
          ],
          "name": "stdout"
        }
      ]
    },
    {
      "cell_type": "code",
      "metadata": {
        "id": "sacba1VDO3vs",
        "colab_type": "code",
        "colab": {}
      },
      "source": [
        "def norm(text):    \n",
        "    \n",
        "    words = [word.strip(punct) for word in text.split()]\n",
        "    return words\n",
        "\n",
        "def stops(text):\n",
        "    \n",
        "    words = [morph.parse(word)[0].normal_form for word in text]\n",
        "    return words\n",
        "  \n",
        "df['text'] = df['text'].apply(lambda x: re.sub('<br>', '', x))"
      ],
      "execution_count": 0,
      "outputs": []
    },
    {
      "cell_type": "code",
      "metadata": {
        "id": "qizU-MRCRdRY",
        "colab_type": "code",
        "colab": {}
      },
      "source": [
        "df['text'] = df['text'].apply(lambda x: norm(x))\n",
        "df['count'] = df['text'].apply(lambda x: len(x))\n",
        "df['lemmatized'] = df['text'].apply(lambda x: stops(x))"
      ],
      "execution_count": 0,
      "outputs": []
    },
    {
      "cell_type": "code",
      "metadata": {
        "id": "gMO8LvVFRs1V",
        "colab_type": "code",
        "outputId": "69adafcd-338c-4e7a-f7fa-d2fea3b200f0",
        "colab": {
          "base_uri": "https://localhost:8080/",
          "height": 52
        }
      },
      "source": [
        "lem = set()\n",
        "for i in df['lemmatized']:\n",
        "    lem.update(i)\n",
        "print('количесвто слов в лемматизированном тексте - ',len(lem))\n",
        "\n",
        "obj = set()\n",
        "for i in df['text']:\n",
        "    obj.update(i)\n",
        "print('количество слов в имходном тексте - ',len(obj))"
      ],
      "execution_count": 0,
      "outputs": [
        {
          "output_type": "stream",
          "text": [
            "количесвто слов в лемматизированном тексте -  48245\n",
            "количество слов в имходном тексте -  101500\n"
          ],
          "name": "stdout"
        }
      ]
    },
    {
      "cell_type": "code",
      "metadata": {
        "id": "k76MoK-HTJFr",
        "colab_type": "code",
        "outputId": "f29e788e-be93-490a-de57-cc391a680eb1",
        "colab": {
          "base_uri": "https://localhost:8080/",
          "height": 52
        }
      },
      "source": [
        "print('средняя длина текста - ',df['count'].mean())\n",
        "df['symbols'] = df['text'].apply(lambda x: len(' '.join(x)))\n",
        "print('средняя длина в символах - ',df['symbols'].mean())"
      ],
      "execution_count": 0,
      "outputs": [
        {
          "output_type": "stream",
          "text": [
            "средняя длина текста -  84.09682457053619\n",
            "средняя длина в символах -  649.9982647926428\n"
          ],
          "name": "stdout"
        }
      ]
    },
    {
      "cell_type": "code",
      "metadata": {
        "id": "bJ_0Wr3ZRs5M",
        "colab_type": "code",
        "outputId": "15717734-2d4a-4445-f6ff-fbf8caaa888b",
        "colab": {
          "base_uri": "https://localhost:8080/",
          "height": 105
        }
      },
      "source": [
        "from collections import Counter \n",
        "mchs = []\n",
        "for text in df[df['source'] == 'mchsgov']['lemmatized']:\n",
        "    for word in text:\n",
        "        w = morph.parse(word)[0]\n",
        "        if w.tag.POS == 'NOUN':\n",
        "            mchs.append(word)\n",
        "\n",
        "c = Counter(mchs)\n",
        "c.most_common(5)"
      ],
      "execution_count": 0,
      "outputs": [
        {
          "output_type": "execute_result",
          "data": {
            "text/plain": [
              "[('мчс', 3489),\n",
              " ('россия', 1598),\n",
              " ('мчсроссия', 1218),\n",
              " ('спасатель', 613),\n",
              " ('год', 508)]"
            ]
          },
          "metadata": {
            "tags": []
          },
          "execution_count": 161
        }
      ]
    },
    {
      "cell_type": "code",
      "metadata": {
        "id": "Fc6H_5gAbFTD",
        "colab_type": "code",
        "outputId": "05dc4710-f9ec-47c7-8c9e-e5c4569e9476",
        "colab": {
          "base_uri": "https://localhost:8080/",
          "height": 105
        }
      },
      "source": [
        "mil = []\n",
        "for text in df[df['source'] == 'mil']['lemmatized']:\n",
        "    for word in text:\n",
        "        w = morph.parse(word)[0]\n",
        "        if w.tag.POS == 'NOUN':\n",
        "            mil.append(word)\n",
        "\n",
        "c = Counter(mil)\n",
        "c.most_common(5)"
      ],
      "execution_count": 0,
      "outputs": [
        {
          "output_type": "execute_result",
          "data": {
            "text/plain": [
              "[('военный', 2029),\n",
              " ('минобороны', 1354),\n",
              " ('россия', 1289),\n",
              " ('год', 1273),\n",
              " ('оборона', 914)]"
            ]
          },
          "metadata": {
            "tags": []
          },
          "execution_count": 162
        }
      ]
    },
    {
      "cell_type": "code",
      "metadata": {
        "id": "PYGfCGnwbfJx",
        "colab_type": "code",
        "outputId": "0bf0a0cb-c2ba-41a4-a486-6fddd516d41a",
        "colab": {
          "base_uri": "https://localhost:8080/",
          "height": 105
        }
      },
      "source": [
        "mospolice = []\n",
        "for text in df[df['source'] == 'mospolice']['lemmatized']:\n",
        "    for word in text:\n",
        "        w = morph.parse(word)[0]\n",
        "        if w.tag.POS == 'NOUN':\n",
        "            mospolice.append(word)\n",
        "\n",
        "c = Counter(mospolice)\n",
        "c.most_common(5)"
      ],
      "execution_count": 0,
      "outputs": [
        {
          "output_type": "execute_result",
          "data": {
            "text/plain": [
              "[('полиция', 5827),\n",
              " ('год', 5212),\n",
              " ('москва', 4160),\n",
              " ('мвд', 4154),\n",
              " ('россия', 3976)]"
            ]
          },
          "metadata": {
            "tags": []
          },
          "execution_count": 163
        }
      ]
    },
    {
      "cell_type": "code",
      "metadata": {
        "id": "wwpnTd1Jc6ib",
        "colab_type": "code",
        "outputId": "456a24de-0378-4987-80fc-83a8c38e3a86",
        "colab": {
          "base_uri": "https://localhost:8080/",
          "height": 105
        }
      },
      "source": [
        "russianpost = []\n",
        "for text in df[df['source'] == 'russianpost']['lemmatized']:\n",
        "    for word in text:\n",
        "        w = morph.parse(word)[0]\n",
        "        if w.tag.POS == 'NOUN':\n",
        "            russianpost.append(word)\n",
        "\n",
        "c = Counter(russianpost)\n",
        "c.most_common(5)"
      ],
      "execution_count": 0,
      "outputs": [
        {
          "output_type": "execute_result",
          "data": {
            "text/plain": [
              "[('почта', 3143),\n",
              " ('россия', 2585),\n",
              " ('год', 2075),\n",
              " ('отделение', 1583),\n",
              " ('письмо', 1452)]"
            ]
          },
          "metadata": {
            "tags": []
          },
          "execution_count": 164
        }
      ]
    },
    {
      "cell_type": "markdown",
      "metadata": {
        "colab_type": "text",
        "id": "fTJPlulvQSqQ"
      },
      "source": [
        "Разделите коллекцию текстов на обучающую и тестовую части. "
      ]
    },
    {
      "cell_type": "code",
      "metadata": {
        "id": "6xhEoX79dJMX",
        "colab_type": "code",
        "outputId": "105c02b5-4553-4d28-9698-47d4ab49ac55",
        "colab": {
          "base_uri": "https://localhost:8080/",
          "height": 197
        }
      },
      "source": [
        "df['final'] = df['text'].apply(lambda x: ' '.join(x))\n",
        "df['lemmatized'] = df['lemmatized'].apply(lambda x: ' '.join(x))\n",
        "df.drop('count', axis=1, inplace=True)\n",
        "df.drop('symbols', axis=1, inplace=True)\n",
        "df = shuffle(df)\n",
        "train, test = train_test_split(df, test_size=0.2)\n",
        "train.head() #перемешивание данных и разбиение на тренировочную и тестовую части"
      ],
      "execution_count": 0,
      "outputs": [
        {
          "output_type": "execute_result",
          "data": {
            "text/html": [
              "<div>\n",
              "<style scoped>\n",
              "    .dataframe tbody tr th:only-of-type {\n",
              "        vertical-align: middle;\n",
              "    }\n",
              "\n",
              "    .dataframe tbody tr th {\n",
              "        vertical-align: top;\n",
              "    }\n",
              "\n",
              "    .dataframe thead th {\n",
              "        text-align: right;\n",
              "    }\n",
              "</style>\n",
              "<table border=\"1\" class=\"dataframe\">\n",
              "  <thead>\n",
              "    <tr style=\"text-align: right;\">\n",
              "      <th></th>\n",
              "      <th>text</th>\n",
              "      <th>source</th>\n",
              "      <th>lemmatized</th>\n",
              "      <th>final</th>\n",
              "    </tr>\n",
              "  </thead>\n",
              "  <tbody>\n",
              "    <tr>\n",
              "      <th>2849</th>\n",
              "      <td>[Марш, мотострелковых, подразделений, ЗВО, в, ...</td>\n",
              "      <td>mil</td>\n",
              "      <td>марш мотострелковый подразделение зво в белгор...</td>\n",
              "      <td>Марш мотострелковых подразделений ЗВО в Белгор...</td>\n",
              "    </tr>\n",
              "    <tr>\n",
              "      <th>10308</th>\n",
              "      <td>[Полицейские, задержали, подозреваемых, в, хул...</td>\n",
              "      <td>mospolice</td>\n",
              "      <td>полицейский задержать подозревать в хулиганств...</td>\n",
              "      <td>Полицейские задержали подозреваемых в хулиганс...</td>\n",
              "    </tr>\n",
              "    <tr>\n",
              "      <th>2545</th>\n",
              "      <td>[Приоритетным, направлением, новой, государств...</td>\n",
              "      <td>mil</td>\n",
              "      <td>приоритетный направление новый государственный...</td>\n",
              "      <td>Приоритетным направлением новой государственно...</td>\n",
              "    </tr>\n",
              "    <tr>\n",
              "      <th>8326</th>\n",
              "      <td>[Информационное, сообщениеВ, целях, обеспечени...</td>\n",
              "      <td>russianpost</td>\n",
              "      <td>информационный сообщений цель обеспечение почт...</td>\n",
              "      <td>Информационное сообщениеВ целях обеспечения по...</td>\n",
              "    </tr>\n",
              "    <tr>\n",
              "      <th>5865</th>\n",
              "      <td>[Горноспасатели, задействованные, в, спасатель...</td>\n",
              "      <td>mchsgov</td>\n",
              "      <td>горноспасатель задействовать в спасательный оп...</td>\n",
              "      <td>Горноспасатели задействованные в спасательной ...</td>\n",
              "    </tr>\n",
              "  </tbody>\n",
              "</table>\n",
              "</div>"
            ],
            "text/plain": [
              "                                                    text  ...                                              final\n",
              "2849   [Марш, мотострелковых, подразделений, ЗВО, в, ...  ...  Марш мотострелковых подразделений ЗВО в Белгор...\n",
              "10308  [Полицейские, задержали, подозреваемых, в, хул...  ...  Полицейские задержали подозреваемых в хулиганс...\n",
              "2545   [Приоритетным, направлением, новой, государств...  ...  Приоритетным направлением новой государственно...\n",
              "8326   [Информационное, сообщениеВ, целях, обеспечени...  ...  Информационное сообщениеВ целях обеспечения по...\n",
              "5865   [Горноспасатели, задействованные, в, спасатель...  ...  Горноспасатели задействованные в спасательной ...\n",
              "\n",
              "[5 rows x 4 columns]"
            ]
          },
          "metadata": {
            "tags": []
          },
          "execution_count": 13
        }
      ]
    },
    {
      "cell_type": "markdown",
      "metadata": {
        "colab_type": "text",
        "id": "9yCVYfbpNhXd"
      },
      "source": [
        " ## Задание 2 [2 балла]. Классификация по правилам\n",
        " \n",
        " * Разработайте несколько правил вида \"Если встречается слово $w$, то текст относится к паблику $c$\"\n",
        " * Посчитайте, какую точность, полноту, $f$-меру и $accuracy$ вы получаете при классификации по правилам\n",
        " * Получилось ли у вас придумать правило, которое никогда не ошибается?"
      ]
    },
    {
      "cell_type": "code",
      "metadata": {
        "id": "kxiTS1bblXiE",
        "colab_type": "code",
        "colab": {}
      },
      "source": [
        "def classification(text):\n",
        "    mch = 'мчс'\n",
        "    mil = 'военный'\n",
        "    mospolice = 'полиция'\n",
        "    russianpost = 'почта'\n",
        "    if mch in text:\n",
        "        return 'mchsgov'\n",
        "    elif mospolice in text:\n",
        "        return 'mospolice'\n",
        "    elif mil in text:\n",
        "        return 'mil'\n",
        "    elif russianpost in text:\n",
        "        return 'russianpost'\n",
        "    else:\n",
        "        return 'mchsgov' "
      ],
      "execution_count": 0,
      "outputs": []
    },
    {
      "cell_type": "code",
      "metadata": {
        "id": "TOHNWnd2lyPq",
        "colab_type": "code",
        "colab": {}
      },
      "source": [
        "df['class'] = df.lemmatized.apply(classification)"
      ],
      "execution_count": 0,
      "outputs": []
    },
    {
      "cell_type": "code",
      "metadata": {
        "id": "kQXWIw8ul5oc",
        "colab_type": "code",
        "outputId": "3dfb1a94-c01e-4d9d-d50f-6c1c0b987470",
        "colab": {
          "base_uri": "https://localhost:8080/",
          "height": 176
        }
      },
      "source": [
        "print(\"Precision: {0:6.2f}\".format(precision_score(df['source'], df['class'], average='macro')))\n",
        "print(\"Recall: {0:6.2f}\".format(recall_score(df['source'], df['class'], average='macro')))\n",
        "print(\"F1-measure: {0:6.2f}\".format(f1_score(df['source'], df['class'], average='macro')))\n",
        "print(\"...\")\n",
        "print(\"Precision: {0:6.2f}\".format(precision_score(df['source'], df['class'], average='micro')))\n",
        "print(\"Recall: {0:6.2f}\".format(recall_score(df['source'], df['class'], average='micro')))\n",
        "print(\"F1-measure: {0:6.2f}\".format(f1_score(df['source'], df['class'], average='micro')))\n",
        "print(\"...\")\n",
        "print(\"Accuracy: {0:6.2f}\".format(accuracy_score(df['source'], df['class'])))"
      ],
      "execution_count": 0,
      "outputs": [
        {
          "output_type": "stream",
          "text": [
            "Precision:   0.83\n",
            "Recall:   0.69\n",
            "F1-measure:   0.68\n",
            "...\n",
            "Precision:   0.69\n",
            "Recall:   0.69\n",
            "F1-measure:   0.69\n",
            "...\n",
            "Accuracy:   0.69\n"
          ],
          "name": "stdout"
        }
      ]
    },
    {
      "cell_type": "markdown",
      "metadata": {
        "id": "nAQ1VN_H_nHB",
        "colab_type": "text"
      },
      "source": [
        "Классификатор по самому встечаемому слову, не покзал удовлетворительного качества, слишком простой"
      ]
    },
    {
      "cell_type": "markdown",
      "metadata": {
        "colab_type": "text",
        "id": "22tJKQnaOjie"
      },
      "source": [
        "## Задание 3 [3 балла]. Baseline\n",
        "Используйте стандартный ```sklearn.pipeline``` для классификации текстов: \n",
        "* векторизация \n",
        "* $tf-idf$ взвешивание \n",
        "* ваш любимый метод классификации.\n",
        "\n",
        "\n",
        "Оцените результаты классификации по стандартным мерам качества и проведите анализ ошибок. Для этого рекомендуем визуализировать матрицу ошибок (confusion matrix). "
      ]
    },
    {
      "cell_type": "code",
      "metadata": {
        "id": "SDoJjUunojzD",
        "colab_type": "code",
        "outputId": "84bbedf9-d64d-453e-bb20-623f61df261c",
        "colab": {
          "base_uri": "https://localhost:8080/",
          "height": 461
        }
      },
      "source": [
        "vectorizer = CountVectorizer(ngram_range=(1,1))  \n",
        "tfidf = TfidfTransformer()  \n",
        "classifier = RandomForestClassifier()  \n",
        "\n",
        "clf = Pipeline([\n",
        "    ('vect', vectorizer),\n",
        "    ('tf-idf', tfidf),\n",
        "    ('clf', classifier),\n",
        "])\n",
        "\n",
        "clf.fit(train.final, train.source)"
      ],
      "execution_count": 0,
      "outputs": [
        {
          "output_type": "stream",
          "text": [
            "/usr/local/lib/python3.6/dist-packages/sklearn/ensemble/forest.py:245: FutureWarning: The default value of n_estimators will change from 10 in version 0.20 to 100 in 0.22.\n",
            "  \"10 in version 0.20 to 100 in 0.22.\", FutureWarning)\n"
          ],
          "name": "stderr"
        },
        {
          "output_type": "execute_result",
          "data": {
            "text/plain": [
              "Pipeline(memory=None,\n",
              "         steps=[('vect',\n",
              "                 CountVectorizer(analyzer='word', binary=False,\n",
              "                                 decode_error='strict',\n",
              "                                 dtype=<class 'numpy.int64'>, encoding='utf-8',\n",
              "                                 input='content', lowercase=True, max_df=1.0,\n",
              "                                 max_features=None, min_df=1,\n",
              "                                 ngram_range=(1, 1), preprocessor=None,\n",
              "                                 stop_words=None, strip_accents=None,\n",
              "                                 token_pattern='(?u)\\\\b\\\\w\\\\w+\\\\b',\n",
              "                                 tokenizer=None, vocabulary=Non...\n",
              "                 RandomForestClassifier(bootstrap=True, class_weight=None,\n",
              "                                        criterion='gini', max_depth=None,\n",
              "                                        max_features='auto',\n",
              "                                        max_leaf_nodes=None,\n",
              "                                        min_impurity_decrease=0.0,\n",
              "                                        min_impurity_split=None,\n",
              "                                        min_samples_leaf=1, min_samples_split=2,\n",
              "                                        min_weight_fraction_leaf=0.0,\n",
              "                                        n_estimators=10, n_jobs=None,\n",
              "                                        oob_score=False, random_state=None,\n",
              "                                        verbose=0, warm_start=False))],\n",
              "         verbose=False)"
            ]
          },
          "metadata": {
            "tags": []
          },
          "execution_count": 81
        }
      ]
    },
    {
      "cell_type": "code",
      "metadata": {
        "id": "X0AWW9bzoj4C",
        "colab_type": "code",
        "outputId": "cc59c916-cb4c-41a1-fcf7-dfe3569d7792",
        "colab": {
          "base_uri": "https://localhost:8080/",
          "height": 123
        }
      },
      "source": [
        "test['tags_1'] = clf.predict(test['final'])"
      ],
      "execution_count": 0,
      "outputs": [
        {
          "output_type": "stream",
          "text": [
            "/usr/local/lib/python3.6/dist-packages/ipykernel_launcher.py:1: SettingWithCopyWarning: \n",
            "A value is trying to be set on a copy of a slice from a DataFrame.\n",
            "Try using .loc[row_indexer,col_indexer] = value instead\n",
            "\n",
            "See the caveats in the documentation: http://pandas.pydata.org/pandas-docs/stable/indexing.html#indexing-view-versus-copy\n",
            "  \"\"\"Entry point for launching an IPython kernel.\n"
          ],
          "name": "stderr"
        }
      ]
    },
    {
      "cell_type": "code",
      "metadata": {
        "id": "DjEi3_LirRJS",
        "colab_type": "code",
        "outputId": "8a4083a7-e0e7-4393-d434-1c4ddd377edc",
        "colab": {
          "base_uri": "https://localhost:8080/",
          "height": 176
        }
      },
      "source": [
        "print(\"Precision: {0:6.2f}\".format(precision_score(test['source'], test['tags_1'], average='macro')))\n",
        "print(\"Recall: {0:6.2f}\".format(recall_score(test['source'], test['tags_1'], average='macro')))\n",
        "print(\"F1-measure: {0:6.2f}\".format(f1_score(test['source'], test['tags_1'], average='macro')))\n",
        "print(\"...\")\n",
        "print(\"Precision: {0:6.2f}\".format(precision_score(test['source'], test['tags_1'], average='micro')))\n",
        "print(\"Recall: {0:6.2f}\".format(recall_score(test['source'], test['tags_1'], average='micro')))\n",
        "print(\"F1-measure: {0:6.2f}\".format(f1_score(test['source'], test['tags_1'], average='micro')))\n",
        "print(\"...\")\n",
        "print(\"Accuracy: {0:6.2f}\".format(accuracy_score(test['source'], test['tags_1'])))"
      ],
      "execution_count": 0,
      "outputs": [
        {
          "output_type": "stream",
          "text": [
            "Precision:   0.95\n",
            "Recall:   0.95\n",
            "F1-measure:   0.95\n",
            "...\n",
            "Precision:   0.95\n",
            "Recall:   0.95\n",
            "F1-measure:   0.95\n",
            "...\n",
            "Accuracy:   0.95\n"
          ],
          "name": "stdout"
        }
      ]
    },
    {
      "cell_type": "markdown",
      "metadata": {
        "id": "d3gYIdcEAfXO",
        "colab_type": "text"
      },
      "source": [
        "Результаты значительно превзошли классификатор, основанный н аправилах, визуализация представлена ниже:"
      ]
    },
    {
      "cell_type": "code",
      "metadata": {
        "id": "EL52EtNk0IER",
        "colab_type": "code",
        "outputId": "e93ddf2f-19fd-4259-a172-1fd4a55b7d16",
        "colab": {
          "base_uri": "https://localhost:8080/",
          "height": 606
        }
      },
      "source": [
        "import matplotlib.pyplot as plt\n",
        "import seaborn as sns\n",
        "import numpy as np\n",
        "plt.figure(figsize = (10,10))\n",
        "sns.heatmap(confusion_matrix(test['source'], test['tags_1']), annot=True, fmt=\"d\", cbar=False, xticklabels=clf.classes_, yticklabels=clf.classes_, cmap=\"PuBuGn\")\n",
        "plt.title(\"Confusion matrix\")\n",
        "plt.show()"
      ],
      "execution_count": 0,
      "outputs": [
        {
          "output_type": "display_data",
          "data": {
            "image/png": "[encoded data removed]",
            "text/plain": [
              "<Figure size 720x720 with 1 Axes>"
            ]
          },
          "metadata": {
            "tags": []
          }
        }
      ]
    },
    {
      "cell_type": "markdown",
      "metadata": {
        "colab_type": "text",
        "id": "I4m1rDQ3PAqO"
      },
      "source": [
        "## Задание 4 [2 балла]. Снижение размерности\n",
        "Добавьте в ваш ```sklearn.pipeline```  методы снижения размерности:  PCA / LSI / LSA / LDA / другое. Какие методы классификации разумно использовать после снижения размерности? Как изменились результаты классификации после добавления нового шага?"
      ]
    },
    {
      "cell_type": "code",
      "metadata": {
        "id": "h-72QysI4LTJ",
        "colab_type": "code",
        "colab": {}
      },
      "source": [
        "from sklearn.preprocessing import Normalizer, StandardScaler\n",
        "from sklearn.ensemble import GradientBoostingClassifier"
      ],
      "execution_count": 0,
      "outputs": []
    },
    {
      "cell_type": "code",
      "metadata": {
        "id": "t4DXuaU7zSRr",
        "colab_type": "code",
        "outputId": "c605fa3c-2c9b-4720-e1d2-02397f007ec7",
        "colab": {
          "base_uri": "https://localhost:8080/",
          "height": 478
        }
      },
      "source": [
        "vectorizer = CountVectorizer(ngram_range=(1,3), analyzer='word')\n",
        "tfidf = TfidfTransformer()\n",
        "lsa = TruncatedSVD(n_components=100)\n",
        "normalizer = StandardScaler()\n",
        "classifier = GradientBoostingClassifier()\n",
        "\n",
        "clf = Pipeline([\n",
        "    ('vect', vectorizer),\n",
        "    ('tf-idf', tfidf),\n",
        "    ('red_dim', lsa),\n",
        "    ('norm', normalizer),\n",
        "    ('class', classifier),\n",
        "])\n",
        "\n",
        "clf.fit(train.final, train.source)"
      ],
      "execution_count": 0,
      "outputs": [
        {
          "output_type": "execute_result",
          "data": {
            "text/plain": [
              "Pipeline(memory=None,\n",
              "         steps=[('vect',\n",
              "                 CountVectorizer(analyzer='word', binary=False,\n",
              "                                 decode_error='strict',\n",
              "                                 dtype=<class 'numpy.int64'>, encoding='utf-8',\n",
              "                                 input='content', lowercase=True, max_df=1.0,\n",
              "                                 max_features=None, min_df=1,\n",
              "                                 ngram_range=(1, 3), preprocessor=None,\n",
              "                                 stop_words=None, strip_accents=None,\n",
              "                                 token_pattern='(?u)\\\\b\\\\w\\\\w+\\\\b',\n",
              "                                 tokenizer=None, vocabulary=Non...\n",
              "                                            learning_rate=0.1, loss='deviance',\n",
              "                                            max_depth=3, max_features=None,\n",
              "                                            max_leaf_nodes=None,\n",
              "                                            min_impurity_decrease=0.0,\n",
              "                                            min_impurity_split=None,\n",
              "                                            min_samples_leaf=1,\n",
              "                                            min_samples_split=2,\n",
              "                                            min_weight_fraction_leaf=0.0,\n",
              "                                            n_estimators=100,\n",
              "                                            n_iter_no_change=None,\n",
              "                                            presort='auto', random_state=None,\n",
              "                                            subsample=1.0, tol=0.0001,\n",
              "                                            validation_fraction=0.1, verbose=0,\n",
              "                                            warm_start=False))],\n",
              "         verbose=False)"
            ]
          },
          "metadata": {
            "tags": []
          },
          "execution_count": 163
        }
      ]
    },
    {
      "cell_type": "code",
      "metadata": {
        "id": "xVbpDQqV3AFc",
        "colab_type": "code",
        "colab": {}
      },
      "source": [
        "test['tags_2'] = clf.predict(test['final'])"
      ],
      "execution_count": 0,
      "outputs": []
    },
    {
      "cell_type": "code",
      "metadata": {
        "id": "yHTwhB2W3Sf5",
        "colab_type": "code",
        "outputId": "de4f34f1-5bd3-4e22-90bf-24b3c49ac009",
        "colab": {
          "base_uri": "https://localhost:8080/",
          "height": 176
        }
      },
      "source": [
        "print(\"Precision: {0:6.2f}\".format(precision_score(test['source'], test['tags_2'], average='macro')))\n",
        "print(\"Recall: {0:6.2f}\".format(recall_score(test['source'], test['tags_2'], average='macro')))\n",
        "print(\"F1-measure: {0:6.2f}\".format(f1_score(test['source'], test['tags_2'], average='macro')))\n",
        "print(\"...\")\n",
        "print(\"Precision: {0:6.2f}\".format(precision_score(test['source'], test['tags_2'], average='micro')))\n",
        "print(\"Recall: {0:6.2f}\".format(recall_score(test['source'], test['tags_2'], average='micro')))\n",
        "print(\"F1-measure: {0:6.2f}\".format(f1_score(test['source'], test['tags_2'], average='micro')))\n",
        "print(\"...\")\n",
        "print(\"Accuracy: {0:6.2f}\".format(accuracy_score(test['source'], test['tags_2'])))"
      ],
      "execution_count": 0,
      "outputs": [
        {
          "output_type": "stream",
          "text": [
            "Precision:   0.96\n",
            "Recall:   0.96\n",
            "F1-measure:   0.96\n",
            "...\n",
            "Precision:   0.96\n",
            "Recall:   0.96\n",
            "F1-measure:   0.96\n",
            "...\n",
            "Accuracy:   0.96\n"
          ],
          "name": "stdout"
        }
      ]
    },
    {
      "cell_type": "markdown",
      "metadata": {
        "id": "by1D9AgjBknh",
        "colab_type": "text"
      },
      "source": [
        "После добавления снижения размерноси был также добавлен шаг с нормализацией, метод классификации - по прежнему градиентный бустинг, показатели точности, полноты, F-меры повысились на 0.01, итог-качество немного улучшилось"
      ]
    },
    {
      "cell_type": "markdown",
      "metadata": {
        "colab_type": "text",
        "id": "7vVPaaVwPVwg"
      },
      "source": [
        "## Задание 5 [1 балл]. Лемматизация\n",
        "Посмотрите, как влияет лемматизация на качество классификации. Как изменится качество классификации, если вы используете ```CountVectorizer``` на словах или $n$-граммах на лемматизированных текстах?"
      ]
    },
    {
      "cell_type": "code",
      "metadata": {
        "id": "MMIkstur7uXm",
        "colab_type": "code",
        "outputId": "407a07cf-8e7f-4335-90f8-0cccdebb6ee7",
        "colab": {
          "base_uri": "https://localhost:8080/",
          "height": 230
        }
      },
      "source": [
        "df['lemmatized'] = df['lemmatized'].apply(lambda x: ' '.join(x))\n",
        "train['lemmatized'] = train['lemmatized'].apply(lambda x: ' '.join(x))\n",
        "test['lemmatized'] = test['lemmatized'].apply(lambda x: ' '.join(x))"
      ],
      "execution_count": 0,
      "outputs": [
        {
          "output_type": "stream",
          "text": [
            "/usr/local/lib/python3.6/dist-packages/ipykernel_launcher.py:2: SettingWithCopyWarning: \n",
            "A value is trying to be set on a copy of a slice from a DataFrame.\n",
            "Try using .loc[row_indexer,col_indexer] = value instead\n",
            "\n",
            "See the caveats in the documentation: http://pandas.pydata.org/pandas-docs/stable/indexing.html#indexing-view-versus-copy\n",
            "  \n",
            "/usr/local/lib/python3.6/dist-packages/ipykernel_launcher.py:3: SettingWithCopyWarning: \n",
            "A value is trying to be set on a copy of a slice from a DataFrame.\n",
            "Try using .loc[row_indexer,col_indexer] = value instead\n",
            "\n",
            "See the caveats in the documentation: http://pandas.pydata.org/pandas-docs/stable/indexing.html#indexing-view-versus-copy\n",
            "  This is separate from the ipykernel package so we can avoid doing imports until\n"
          ],
          "name": "stderr"
        }
      ]
    },
    {
      "cell_type": "code",
      "metadata": {
        "id": "GXzjKqjC7ucK",
        "colab_type": "code",
        "outputId": "d5a672e7-86d7-4207-b42d-ae22784ab8f2",
        "colab": {
          "base_uri": "https://localhost:8080/",
          "height": 478
        }
      },
      "source": [
        "vectorizer = CountVectorizer(ngram_range=(1,3), analyzer='word')\n",
        "tfidf = TfidfTransformer()\n",
        "lsa = TruncatedSVD(n_components=100)\n",
        "normalizer = StandardScaler()\n",
        "classifier = GradientBoostingClassifier()\n",
        "\n",
        "clf = Pipeline([\n",
        "    ('vect', vectorizer),\n",
        "    ('tf-idf', tfidf),\n",
        "    ('red_dim', lsa),\n",
        "    ('norm', normalizer),\n",
        "    ('class', classifier),\n",
        "])\n",
        "\n",
        "clf.fit(train.lemmatized, train.source)"
      ],
      "execution_count": 0,
      "outputs": [
        {
          "output_type": "execute_result",
          "data": {
            "text/plain": [
              "Pipeline(memory=None,\n",
              "         steps=[('vect',\n",
              "                 CountVectorizer(analyzer='word', binary=False,\n",
              "                                 decode_error='strict',\n",
              "                                 dtype=<class 'numpy.int64'>, encoding='utf-8',\n",
              "                                 input='content', lowercase=True, max_df=1.0,\n",
              "                                 max_features=None, min_df=1,\n",
              "                                 ngram_range=(1, 3), preprocessor=None,\n",
              "                                 stop_words=None, strip_accents=None,\n",
              "                                 token_pattern='(?u)\\\\b\\\\w\\\\w+\\\\b',\n",
              "                                 tokenizer=None, vocabulary=Non...\n",
              "                                            learning_rate=0.1, loss='deviance',\n",
              "                                            max_depth=3, max_features=None,\n",
              "                                            max_leaf_nodes=None,\n",
              "                                            min_impurity_decrease=0.0,\n",
              "                                            min_impurity_split=None,\n",
              "                                            min_samples_leaf=1,\n",
              "                                            min_samples_split=2,\n",
              "                                            min_weight_fraction_leaf=0.0,\n",
              "                                            n_estimators=100,\n",
              "                                            n_iter_no_change=None,\n",
              "                                            presort='auto', random_state=None,\n",
              "                                            subsample=1.0, tol=0.0001,\n",
              "                                            validation_fraction=0.1, verbose=0,\n",
              "                                            warm_start=False))],\n",
              "         verbose=False)"
            ]
          },
          "metadata": {
            "tags": []
          },
          "execution_count": 167
        }
      ]
    },
    {
      "cell_type": "code",
      "metadata": {
        "id": "yWSy94jj9R0y",
        "colab_type": "code",
        "colab": {}
      },
      "source": [
        "test['tags_3'] = clf.predict(test['lemmatized'])"
      ],
      "execution_count": 0,
      "outputs": []
    },
    {
      "cell_type": "code",
      "metadata": {
        "id": "-8B3T4S17uVG",
        "colab_type": "code",
        "outputId": "f02aba4f-5d58-429a-bffb-1f0ba6f5b3e0",
        "colab": {
          "base_uri": "https://localhost:8080/",
          "height": 176
        }
      },
      "source": [
        "print(\"Precision: {0:6.2f}\".format(precision_score(test['source'], test['tags_3'], average='macro')))\n",
        "print(\"Recall: {0:6.2f}\".format(recall_score(test['source'], test['tags_3'], average='macro')))\n",
        "print(\"F1-measure: {0:6.2f}\".format(f1_score(test['source'], test['tags_3'], average='macro')))\n",
        "print(\"...\")\n",
        "print(\"Precision: {0:6.2f}\".format(precision_score(test['source'], test['tags_3'], average='micro')))\n",
        "print(\"Recall: {0:6.2f}\".format(recall_score(test['source'], test['tags_3'], average='micro')))\n",
        "print(\"F1-measure: {0:6.2f}\".format(f1_score(test['source'], test['tags_3'], average='micro')))\n",
        "print(\"...\")\n",
        "print(\"Accuracy: {0:6.2f}\".format(accuracy_score(test['source'], test['tags_3'])))"
      ],
      "execution_count": 0,
      "outputs": [
        {
          "output_type": "stream",
          "text": [
            "Precision:   0.97\n",
            "Recall:   0.97\n",
            "F1-measure:   0.97\n",
            "...\n",
            "Precision:   0.97\n",
            "Recall:   0.97\n",
            "F1-measure:   0.97\n",
            "...\n",
            "Accuracy:   0.97\n"
          ],
          "name": "stdout"
        }
      ]
    },
    {
      "cell_type": "code",
      "metadata": {
        "id": "YeHlH9YB90rF",
        "colab_type": "code",
        "outputId": "1df10cc6-72ad-4690-d07d-f7f91688fae5",
        "colab": {
          "base_uri": "https://localhost:8080/",
          "height": 606
        }
      },
      "source": [
        "plt.figure(figsize = (10,10))\n",
        "sns.heatmap(confusion_matrix(test['source'], test['tags_1']), annot=True, fmt=\"d\", cbar=False, xticklabels=clf.classes_, yticklabels=clf.classes_, cmap=\"PuBuGn\")\n",
        "plt.title(\"Confusion matrix\")\n",
        "plt.show()"
      ],
      "execution_count": 0,
      "outputs": [
        {
          "output_type": "display_data",
          "data": {
            "image/png": "[encoded data removed]",
            "text/plain": [
              "<Figure size 720x720 with 1 Axes>"
            ]
          },
          "metadata": {
            "tags": []
          }
        }
      ]
    },
    {
      "cell_type": "markdown",
      "metadata": {
        "id": "A-xoYOuIDW8B",
        "colab_type": "text"
      },
      "source": [
        "Добавление лемматизации улучшило качество еще на 0.01, качество было хуже до момента добавления n-грамм"
      ]
    },
    {
      "cell_type": "markdown",
      "metadata": {
        "colab_type": "text",
        "id": "cdakRHahQp-l"
      },
      "source": [
        "## Задание 6 [3 балла]. Continious bag of words\n",
        "Для baseline решения мы использовали обычное представление текста в виде мешка слов. Попробуйте использовать другие модели представления текста – например, в виде непрерывного мешка слов, то есть, в виде набора эмбеддингов. Для того, чтобы получить вектор текста попробуйте:\n",
        "* усреднить все эмбеддинги слов, входящих в этот текст\n",
        "* усреднить все эмбеддинги слов, входящих в этот текст с $tf-idf$ весами\n",
        "* использовать любую модель эмбеддинга документа.\n",
        "\n",
        "Используйте любую модель эмбеддингов по вашему вкусу. \n",
        "\n",
        "\n",
        "Оцените результаты классификации по стандартным мерам качества и проведите анализ ошибок. Для этого рекомендуем визуализировать матрицу ошибок (confusion matrix). "
      ]
    },
    {
      "cell_type": "code",
      "metadata": {
        "id": "9BF1tK1w4v_x",
        "colab_type": "code",
        "colab": {}
      },
      "source": [
        "from gensim.corpora import *\n",
        "from gensim.models import  *\n",
        "from gensim.models.doc2vec import TaggedDocument"
      ],
      "execution_count": 0,
      "outputs": []
    },
    {
      "cell_type": "code",
      "metadata": {
        "id": "Supt_Oq2-Tfg",
        "colab_type": "code",
        "colab": {}
      },
      "source": [
        "train_tagged = train.apply(\n",
        "    lambda x: TaggedDocument(words=x['lemmatized'].split(), tags=[x.source]), axis=1)\n",
        "test_tagged = test.apply(\n",
        "    lambda x: TaggedDocument(words=x['lemmatized'].split(), tags=[x.source]), axis=1)"
      ],
      "execution_count": 0,
      "outputs": []
    },
    {
      "cell_type": "markdown",
      "metadata": {
        "id": "nUyVILps7gBs",
        "colab_type": "text"
      },
      "source": [
        "Distributed Bag of Words"
      ]
    },
    {
      "cell_type": "code",
      "metadata": {
        "id": "zDOAkeok-Tii",
        "colab_type": "code",
        "colab": {}
      },
      "source": [
        "model_d2v = Doc2Vec(dm=0, vector_size=300)\n",
        "model_d2v.build_vocab([x for x in train_tagged.values])\n",
        "model_d2v.train(shuffle([x for x in train_tagged.values]), total_examples=len(train_tagged.values), epochs=30)"
      ],
      "execution_count": 0,
      "outputs": []
    },
    {
      "cell_type": "code",
      "metadata": {
        "id": "rosx6Zr65KSz",
        "colab_type": "code",
        "colab": {}
      },
      "source": [
        "def vec_for_learning(model, tagged_docs):\n",
        "    sents = tagged_docs.values\n",
        "    targ, reg = zip(*[(doc.tags[0], model.infer_vector(doc.words)) for doc in sents])\n",
        "    return targ, reg"
      ],
      "execution_count": 0,
      "outputs": []
    },
    {
      "cell_type": "code",
      "metadata": {
        "id": "SgGUiAQd5dQ9",
        "colab_type": "code",
        "colab": {}
      },
      "source": [
        "y_train, X_train = vec_for_learning(model_d2v, train_tagged)\n",
        "y_test, X_test = vec_for_learning(model_d2v, test_tagged)"
      ],
      "execution_count": 0,
      "outputs": []
    },
    {
      "cell_type": "code",
      "metadata": {
        "id": "8SoXCXSP5dOK",
        "colab_type": "code",
        "colab": {}
      },
      "source": [
        "from sklearn.ensemble import GradientBoostingClassifier\n",
        "clf = GradientBoostingClassifier()\n",
        "clf.fit(X_train, y_train)\n",
        "y_pred = clf.predict(X_test)"
      ],
      "execution_count": 0,
      "outputs": []
    },
    {
      "cell_type": "code",
      "metadata": {
        "id": "psRLFwNe5rwF",
        "colab_type": "code",
        "outputId": "0bce5752-d415-4991-a789-b9a1e8dcedc2",
        "colab": {
          "base_uri": "https://localhost:8080/",
          "height": 34
        }
      },
      "source": [
        "print(\"Accuracy: {0:6.2f}\".format(accuracy_score(y_test, y_pred)))"
      ],
      "execution_count": 0,
      "outputs": [
        {
          "output_type": "stream",
          "text": [
            "Accuracy:   0.97\n"
          ],
          "name": "stdout"
        }
      ]
    },
    {
      "cell_type": "code",
      "metadata": {
        "id": "riH0iz6D5toU",
        "colab_type": "code",
        "outputId": "bfcbf0f0-1657-4194-e332-1f3834177de0",
        "colab": {
          "base_uri": "https://localhost:8080/",
          "height": 606
        }
      },
      "source": [
        "plt.figure(figsize = (10,10))\n",
        "sns.heatmap(confusion_matrix(y_test, y_pred), annot=True, fmt=\"d\", cbar=False, xticklabels=clf.classes_, yticklabels=clf.classes_, cmap=\"PuBuGn\")\n",
        "plt.title(\"Confusion matrix\")\n",
        "plt.show()"
      ],
      "execution_count": 0,
      "outputs": [
        {
          "output_type": "display_data",
          "data": {
            "image/png": "[encoded data removed]",
            "text/plain": [
              "<Figure size 720x720 with 1 Axes>"
            ]
          },
          "metadata": {
            "tags": []
          }
        }
      ]
    },
    {
      "cell_type": "markdown",
      "metadata": {
        "id": "vdYomv_TD7X4",
        "colab_type": "text"
      },
      "source": [
        "Качество такое же, как в случае с добавлением лемматизации и n-грамм"
      ]
    },
    {
      "cell_type": "markdown",
      "metadata": {
        "id": "czkcOC-EEkWH",
        "colab_type": "text"
      },
      "source": [
        "Word2Vec с усреднением ембеддингов"
      ]
    },
    {
      "cell_type": "code",
      "metadata": {
        "id": "Gtc5hKCf7MBl",
        "colab_type": "code",
        "colab": {}
      },
      "source": [
        "model = Word2Vec(train.lemmatized, size=300)\n",
        "w2v = dict(zip(model.wv.index2word, model.wv.vectors))"
      ],
      "execution_count": 0,
      "outputs": []
    },
    {
      "cell_type": "code",
      "metadata": {
        "id": "HUqSXboB7L-y",
        "colab_type": "code",
        "colab": {}
      },
      "source": [
        "class MeanEmbeddingVectorizer(object):\n",
        "    def __init__(self, word2vec):\n",
        "        self.word2vec = word2vec\n",
        "\n",
        "    def fit(self, X, y):\n",
        "        return self\n",
        "\n",
        "    def transform(self, X):\n",
        "        return np.array([\n",
        "            np.mean([self.word2vec[w] for w in words if w in self.word2vec], axis = 0)\n",
        "            for words in X\n",
        "        ])"
      ],
      "execution_count": 0,
      "outputs": []
    },
    {
      "cell_type": "code",
      "metadata": {
        "id": "_njTdPqg7L8W",
        "colab_type": "code",
        "outputId": "470a3c19-dafa-4d5d-e3fe-8f77ea6547d6",
        "colab": {
          "base_uri": "https://localhost:8080/",
          "height": 372
        }
      },
      "source": [
        "clf = Pipeline([\n",
        "    (\"word2vec vectorizer\", MeanEmbeddingVectorizer(w2v)),\n",
        "    (\"clasifier\", GradientBoostingClassifier())])\n",
        "\n",
        "clf.fit(train.lemmatized, train.source)"
      ],
      "execution_count": 0,
      "outputs": [
        {
          "output_type": "execute_result",
          "data": {
            "text/plain": [
              "Pipeline(memory=None,\n",
              "         steps=[('word2vec vectorizer',\n",
              "                 <__main__.MeanEmbeddingVectorizer object at 0x7fbe526275f8>),\n",
              "                ('clasifier',\n",
              "                 GradientBoostingClassifier(criterion='friedman_mse', init=None,\n",
              "                                            learning_rate=0.1, loss='deviance',\n",
              "                                            max_depth=3, max_features=None,\n",
              "                                            max_leaf_nodes=None,\n",
              "                                            min_impurity_decrease=0.0,\n",
              "                                            min_impurity_split=None,\n",
              "                                            min_samples_leaf=1,\n",
              "                                            min_samples_split=2,\n",
              "                                            min_weight_fraction_leaf=0.0,\n",
              "                                            n_estimators=100,\n",
              "                                            n_iter_no_change=None,\n",
              "                                            presort='auto', random_state=None,\n",
              "                                            subsample=1.0, tol=0.0001,\n",
              "                                            validation_fraction=0.1, verbose=0,\n",
              "                                            warm_start=False))],\n",
              "         verbose=False)"
            ]
          },
          "metadata": {
            "tags": []
          },
          "execution_count": 153
        }
      ]
    },
    {
      "cell_type": "code",
      "metadata": {
        "id": "iFqZ2r9Z88XT",
        "colab_type": "code",
        "outputId": "2be4889d-2373-4092-999f-9824c49bba60",
        "colab": {
          "base_uri": "https://localhost:8080/",
          "height": 34
        }
      },
      "source": [
        "print(\"Accuracy: {0:6.2f}\".format(accuracy_score(y_test, y_pred)))"
      ],
      "execution_count": 0,
      "outputs": [
        {
          "output_type": "stream",
          "text": [
            "Accuracy:   0.97\n"
          ],
          "name": "stdout"
        }
      ]
    },
    {
      "cell_type": "markdown",
      "metadata": {
        "id": "G40kYEsy9bFM",
        "colab_type": "text"
      },
      "source": [
        "tf-idf с весами"
      ]
    },
    {
      "cell_type": "code",
      "metadata": {
        "id": "Dm7OexBB9_t0",
        "colab_type": "code",
        "colab": {}
      },
      "source": [
        "from collections import defaultdict"
      ],
      "execution_count": 0,
      "outputs": []
    },
    {
      "cell_type": "code",
      "metadata": {
        "id": "FZAlgxhS9WVs",
        "colab_type": "code",
        "colab": {}
      },
      "source": [
        "class TfidfEmbeddingVectorizer(object):\n",
        "    def __init__(self, word2vec):\n",
        "        self.word2vec = word2vec\n",
        "        self.word2weight = None\n",
        "\n",
        "    def fit(self, X, y):\n",
        "        tfidf = TfidfVectorizer(analyzer=lambda x: x)\n",
        "        tfidf.fit(X)\n",
        "        max_idf = max(tfidf.idf_)\n",
        "        self.word2weight = defaultdict(\n",
        "            lambda: max_idf,\n",
        "            [(w, tfidf.idf_[i]) for w, i in tfidf.vocabulary_.items()])\n",
        "\n",
        "        return self\n",
        "\n",
        "    def transform(self, X):\n",
        "        return np.array([\n",
        "                np.mean([self.word2vec[w] * self.word2weight[w]\n",
        "                         for w in words if w in self.word2vec], axis=0)\n",
        "                for words in X\n",
        "            ])"
      ],
      "execution_count": 0,
      "outputs": []
    },
    {
      "cell_type": "code",
      "metadata": {
        "id": "xrsNZ8NI5tlF",
        "colab_type": "code",
        "outputId": "8c7283d3-28fa-4f4e-c8fe-d7f22a0e25aa",
        "colab": {
          "base_uri": "https://localhost:8080/",
          "height": 372
        }
      },
      "source": [
        "clf = Pipeline([\n",
        "    (\"word2vec vectorizer\", TfidfEmbeddingVectorizer(w2v)),\n",
        "    (\"clasifier\", GradientBoostingClassifier())])\n",
        "\n",
        "clf.fit(train.lemmatized, train.source)"
      ],
      "execution_count": 0,
      "outputs": [
        {
          "output_type": "execute_result",
          "data": {
            "text/plain": [
              "Pipeline(memory=None,\n",
              "         steps=[('word2vec vectorizer',\n",
              "                 <__main__.TfidfEmbeddingVectorizer object at 0x7fbe524c17f0>),\n",
              "                ('clasifier',\n",
              "                 GradientBoostingClassifier(criterion='friedman_mse', init=None,\n",
              "                                            learning_rate=0.1, loss='deviance',\n",
              "                                            max_depth=3, max_features=None,\n",
              "                                            max_leaf_nodes=None,\n",
              "                                            min_impurity_decrease=0.0,\n",
              "                                            min_impurity_split=None,\n",
              "                                            min_samples_leaf=1,\n",
              "                                            min_samples_split=2,\n",
              "                                            min_weight_fraction_leaf=0.0,\n",
              "                                            n_estimators=100,\n",
              "                                            n_iter_no_change=None,\n",
              "                                            presort='auto', random_state=None,\n",
              "                                            subsample=1.0, tol=0.0001,\n",
              "                                            validation_fraction=0.1, verbose=0,\n",
              "                                            warm_start=False))],\n",
              "         verbose=False)"
            ]
          },
          "metadata": {
            "tags": []
          },
          "execution_count": 160
        }
      ]
    },
    {
      "cell_type": "code",
      "metadata": {
        "id": "1WK2C0sn-LrH",
        "colab_type": "code",
        "outputId": "ab810acf-ac03-4329-ffaf-bad799ab4044",
        "colab": {
          "base_uri": "https://localhost:8080/",
          "height": 34
        }
      },
      "source": [
        "print(\"Accuracy: {0:6.2f}\".format(accuracy_score(y_test, y_pred)))"
      ],
      "execution_count": 0,
      "outputs": [
        {
          "output_type": "stream",
          "text": [
            "Accuracy:   0.97\n"
          ],
          "name": "stdout"
        }
      ]
    },
    {
      "cell_type": "markdown",
      "metadata": {
        "id": "BfzBvhh-E20w",
        "colab_type": "text"
      },
      "source": [
        "Взвешивание особо не помогло"
      ]
    },
    {
      "cell_type": "markdown",
      "metadata": {
        "colab_type": "text",
        "id": "uyVQ5Gm7Qzcz"
      },
      "source": [
        "## Задание 7 [2 балла]. fastText\n",
        "\n",
        "Используйте ```fastText``` в режиме классификации. Оцените результаты классификации по стандартным мерам качества и проведите анализ ошибок. Для этого рекомендуем визуализировать матрицу ошибок (confusion matrix). "
      ]
    },
    {
      "cell_type": "code",
      "metadata": {
        "id": "KOASpKIc-grQ",
        "colab_type": "code",
        "outputId": "6f9faad9-c5aa-4a05-e107-3b5717fde79a",
        "colab": {
          "base_uri": "https://localhost:8080/",
          "height": 212
        }
      },
      "source": [
        "#!pip install fasttext"
      ],
      "execution_count": 0,
      "outputs": [
        {
          "output_type": "stream",
          "text": [
            "Collecting fasttext\n",
            "\u001b[?25l  Downloading https://files.pythonhosted.org/packages/a4/86/ff826211bc9e28d4c371668b30b4b2c38a09127e5e73017b1c0cd52f9dfa/fasttext-0.8.3.tar.gz (73kB)\n",
            "\u001b[K     |████████████████████████████████| 81kB 5.2MB/s \n",
            "\u001b[?25hRequirement already satisfied: numpy>=1 in /usr/local/lib/python3.6/dist-packages (from fasttext) (1.16.4)\n",
            "Requirement already satisfied: future in /usr/local/lib/python3.6/dist-packages (from fasttext) (0.16.0)\n",
            "Building wheels for collected packages: fasttext\n",
            "  Building wheel for fasttext (setup.py) ... \u001b[?25l\u001b[?25hdone\n",
            "  Stored in directory: /root/.cache/pip/wheels/73/8e/5d/ecb50b90adaab5868ae1d8df180f31e55e85c2f055aaf2fb35\n",
            "Successfully built fasttext\n",
            "Installing collected packages: fasttext\n",
            "Successfully installed fasttext-0.8.3\n"
          ],
          "name": "stdout"
        }
      ]
    },
    {
      "cell_type": "code",
      "metadata": {
        "id": "2wJxS64E-prS",
        "colab_type": "code",
        "colab": {}
      },
      "source": [
        "import fasttext\n",
        "with open('fasttext', 'w') as f:\n",
        "    for i in train.index:\n",
        "        text = str(train.final[i])\n",
        "        tag = str(train.source[i])\n",
        "        f.write(text + ' ' + '+++' + tag + '\\n')"
      ],
      "execution_count": 0,
      "outputs": []
    },
    {
      "cell_type": "code",
      "metadata": {
        "id": "0wjj-Lyc-puQ",
        "colab_type": "code",
        "colab": {}
      },
      "source": [
        "fasttext_clas = fasttext.supervised('fasttext', 'model', label_prefix='+++')\n",
        "fasttext = fasttext_clas.predict([text for text in test.final])"
      ],
      "execution_count": 0,
      "outputs": []
    },
    {
      "cell_type": "code",
      "metadata": {
        "id": "zMmCGi6TAxy_",
        "colab_type": "code",
        "outputId": "b59be18b-1ee0-4079-a2db-f3a2e99dbe4f",
        "colab": {
          "base_uri": "https://localhost:8080/",
          "height": 176
        }
      },
      "source": [
        "# макро-усреднение\n",
        "print(\"Precision: {0:6.2f}\".format(precision_score(test['source'], fasttext, average='macro')))\n",
        "print(\"Recall: {0:6.2f}\".format(recall_score(test['source'], fasttext, average='macro')))\n",
        "print(\"F1-measure: {0:6.2f}\".format(f1_score(test['source'], fasttext, average='macro')))\n",
        "\n",
        "print(\"...\")\n",
        "# микро-усреднение\n",
        "print(\"Precision: {0:6.2f}\".format(precision_score(test['source'], fasttext, average='micro')))\n",
        "print(\"Recall: {0:6.2f}\".format(recall_score(test['source'], fasttext, average='micro')))\n",
        "print(\"F1-measure: {0:6.2f}\".format(f1_score(test['source'], fasttext, average='micro')))\n",
        "\n",
        "print(\"...\")\n",
        "# accuracy\n",
        "print(\"Accuracy: {0:6.2f}\".format(accuracy_score(test['source'], fasttext)))"
      ],
      "execution_count": 0,
      "outputs": [
        {
          "output_type": "stream",
          "text": [
            "Precision:   0.96\n",
            "Recall:   0.96\n",
            "F1-measure:   0.96\n",
            "...\n",
            "Precision:   0.96\n",
            "Recall:   0.96\n",
            "F1-measure:   0.96\n",
            "...\n",
            "Accuracy:   0.96\n"
          ],
          "name": "stdout"
        }
      ]
    },
    {
      "cell_type": "code",
      "metadata": {
        "id": "7A0e_5kUA0ld",
        "colab_type": "code",
        "outputId": "d7cb37c6-7b06-448e-e66d-220c9630ddaf",
        "colab": {
          "base_uri": "https://localhost:8080/",
          "height": 606
        }
      },
      "source": [
        "l = ['mchsgov', 'russianpost', 'mil', 'mospolice']\n",
        "plt.figure(figsize = (10,10))\n",
        "sns.heatmap(confusion_matrix(test.source, fasttext), annot=True, fmt=\"d\", cbar=False, xticklabels=l, yticklabels=l, cmap=\"PuBuGn\")\n",
        "plt.title(\"Confusion matrix\")\n",
        "plt.show()"
      ],
      "execution_count": 0,
      "outputs": [
        {
          "output_type": "display_data",
          "data": {
            "image/png": "[encoded data removed]",
            "text/plain": [
              "<Figure size 720x720 with 1 Axes>"
            ]
          },
          "metadata": {
            "tags": []
          }
        }
      ]
    },
    {
      "cell_type": "markdown",
      "metadata": {
        "id": "uDwTUaj_FFAk",
        "colab_type": "text"
      },
      "source": [
        "fasttext показал по всем метрикам 0.96, чуть хуже, чем было достигнуто предыдущими операциями"
      ]
    },
    {
      "cell_type": "markdown",
      "metadata": {
        "id": "bQKAPgr544Hf",
        "colab_type": "text"
      },
      "source": [
        "## Задание 8 [4 балла]. CNN\n",
        "\n",
        "Реализуйте модель Kim et al (2014) для решения задачи классификации с помощью CNN. Оцените результаты классификации по стандартным мерам качества и проведите анализ ошибок. Для этого рекомендуем визуализировать матрицу ошибок (confusion matrix).\n",
        "Ссылка: Kim Y. Convolutional Neural Networks for Sentence Classification. 2014"
      ]
    },
    {
      "cell_type": "code",
      "metadata": {
        "id": "PcVdYKyHYgyY",
        "colab_type": "code",
        "colab": {}
      },
      "source": [
        "from keras.preprocessing.text import Tokenizer\n",
        "from keras.preprocessing.sequence import pad_sequences\n",
        "from keras.utils import np_utils\n",
        "from sklearn.preprocessing import LabelBinarizer, LabelEncoder\n",
        "from keras.preprocessing.text import Tokenizer\n",
        "from keras.layers import Embedding, Input, Conv1D, MaxPooling1D, Flatten, Dense, Dropout\n",
        "from keras.models import Model, Sequential"
      ],
      "execution_count": 0,
      "outputs": []
    },
    {
      "cell_type": "code",
      "metadata": {
        "id": "XdhQbbMlFgfH",
        "colab_type": "code",
        "colab": {}
      },
      "source": [
        "TEXT_LENGTH = 36898\n",
        "VOCABULARY_SIZE = 250000\n",
        "EMBEDDING_DIM = 300\n",
        "DIMS = 250\n",
        "MAX_FEATURES = 5000\n",
        "batch_size = 64\n",
        "\n",
        "nb_filter = 250\n",
        "filter_length = 3\n",
        "hidden_dims = 250\n",
        "nb_epoch = 10"
      ],
      "execution_count": 0,
      "outputs": []
    },
    {
      "cell_type": "code",
      "metadata": {
        "id": "dmllciLy0oE-",
        "colab_type": "code",
        "colab": {}
      },
      "source": [
        "tokenizer = Tokenizer(num_words=MAX_FEATURES)\n",
        "tokenizer.fit_on_texts(train.lemmatized)\n",
        "tokenizer"
      ],
      "execution_count": 0,
      "outputs": []
    },
    {
      "cell_type": "code",
      "metadata": {
        "id": "zqJzzvZP0oJQ",
        "colab_type": "code",
        "colab": {}
      },
      "source": [
        "sequences = tokenizer.texts_to_sequences(train.lemmatized)\n",
        "X_train = tokenizer.sequences_to_matrix(sequences, mode='count')\n",
        "sequences = tokenizer.texts_to_sequences(test.lemmatized)\n",
        "X_test = tokenizer.sequences_to_matrix(sequences, mode='count')\n",
        "print('First seq:',sequences[0])\n",
        "print('First doc:',X_train[0])"
      ],
      "execution_count": 0,
      "outputs": []
    },
    {
      "cell_type": "code",
      "metadata": {
        "id": "3-GVMggWSUJ6",
        "colab_type": "code",
        "outputId": "d12fa01b-6c79-4993-f421-5e3cf921a411",
        "colab": {
          "base_uri": "https://localhost:8080/",
          "height": 34
        }
      },
      "source": [
        "le = LabelEncoder()\n",
        "le.fit(train.source.unique())\n",
        "y_train = np_utils.to_categorical(le.transform(train.source), 4)\n",
        "y_test = np_utils.to_categorical(le.transform(test.source), 4)\n",
        "y_true = le.transform(test.source)\n",
        "print(y_train[0])"
      ],
      "execution_count": 0,
      "outputs": [
        {
          "output_type": "stream",
          "text": [
            "[0. 1. 0. 0.]\n"
          ],
          "name": "stdout"
        }
      ]
    },
    {
      "cell_type": "code",
      "metadata": {
        "id": "OZlNTqbZH5ZP",
        "colab_type": "code",
        "outputId": "4e727b5e-56c4-41d0-d8df-1c92d2dffbaa",
        "colab": {
          "base_uri": "https://localhost:8080/",
          "height": 407
        }
      },
      "source": [
        "model = Sequential()\n",
        "model.add(Embedding(VOCABULARY_SIZE,\n",
        "                            EMBEDDING_DIM,\n",
        "                            input_length=TEXT_LENGTH,\n",
        "                            trainable=True))\n",
        "model.add(Conv1D(128, 5, activation='relu'))\n",
        "model.add(MaxPooling1D())\n",
        "model.add(Dropout(0.2))\n",
        "model.add(Flatten())\n",
        "model.add(Dense(4, activation = 'softmax'))\n",
        "model.compile(optimizer='adam', loss='binary_crossentropy', metrics=['acc'])\n",
        "model.compile(loss='categorical_crossentropy', optimizer='adam', metrics=['accuracy'])\n",
        "model.fit(X_train, y_train, validation_data=(X_test, y_test), epochs=10, batch_size=64)"
      ],
      "execution_count": 0,
      "outputs": [
        {
          "output_type": "stream",
          "text": [
            "Train on 9220 samples, validate on 2306 samples\n",
            "Epoch 1/10\n",
            "9220/9220 [==============================] - 17s 2ms/step - loss: 0.4827 - acc: 0.8198 - val_loss: 0.1708 - val_acc: 0.9454\n",
            "Epoch 2/10\n",
            "9220/9220 [==============================] - 14s 2ms/step - loss: 0.0896 - acc: 0.9768 - val_loss: 0.1259 - val_acc: 0.9644\n",
            "Epoch 3/10\n",
            "9220/9220 [==============================] - 14s 2ms/step - loss: 0.0401 - acc: 0.9910 - val_loss: 0.1237 - val_acc: 0.9701\n",
            "Epoch 4/10\n",
            "9220/9220 [==============================] - 14s 2ms/step - loss: 0.0234 - acc: 0.9945 - val_loss: 0.1402 - val_acc: 0.9666\n",
            "Epoch 5/10\n",
            "9220/9220 [==============================] - 14s 2ms/step - loss: 0.0160 - acc: 0.9958 - val_loss: 0.1607 - val_acc: 0.9662\n",
            "Epoch 6/10\n",
            "9220/9220 [==============================] - 14s 2ms/step - loss: 0.0147 - acc: 0.9961 - val_loss: 0.1674 - val_acc: 0.9644\n",
            "Epoch 7/10\n",
            "9220/9220 [==============================] - 14s 2ms/step - loss: 0.0105 - acc: 0.9973 - val_loss: 0.1785 - val_acc: 0.9640\n",
            "Epoch 8/10\n",
            "9220/9220 [==============================] - 14s 2ms/step - loss: 0.0076 - acc: 0.9984 - val_loss: 0.1825 - val_acc: 0.9649\n",
            "Epoch 9/10\n",
            "9220/9220 [==============================] - 14s 2ms/step - loss: 0.0071 - acc: 0.9982 - val_loss: 0.2023 - val_acc: 0.9614\n",
            "Epoch 10/10\n",
            "9220/9220 [==============================] - 14s 2ms/step - loss: 0.0065 - acc: 0.9985 - val_loss: 0.2154 - val_acc: 0.9579\n"
          ],
          "name": "stdout"
        },
        {
          "output_type": "execute_result",
          "data": {
            "text/plain": [
              "<keras.callbacks.History at 0x7fbe7c9332e8>"
            ]
          },
          "metadata": {
            "tags": []
          },
          "execution_count": 126
        }
      ]
    },
    {
      "cell_type": "code",
      "metadata": {
        "id": "itN5HUf_ZNhq",
        "colab_type": "code",
        "outputId": "0d41e8e7-7f01-415e-c3e8-e45e881acdc4",
        "colab": {
          "base_uri": "https://localhost:8080/",
          "height": 476
        }
      },
      "source": [
        "y_pred = model.predict_classes(X_test)\n",
        "y_pred = le.inverse_transform(y_pred)\n",
        "print(classification_report(y_true, y_pred))\n",
        "labels = test.source.unique()\n",
        "#y_true = le.inverse_transform(y_true)\n",
        "#y_pred = le.inverse_transform(y_pred)\n",
        "sns.heatmap(data=confusion_matrix(y_true, y_pred, labels = labels), annot=True, fmt=\"d\", cbar=False, xticklabels=labels, yticklabels=labels)\n",
        "plt.title(\"Confusion matrix\")\n",
        "plt.show()"
      ],
      "execution_count": 0,
      "outputs": [
        {
          "output_type": "stream",
          "text": [
            "              precision    recall  f1-score   support\n",
            "\n",
            "     mchsgov       0.96      0.95      0.95       605\n",
            "         mil       0.99      0.97      0.98       600\n",
            "   mospolice       0.98      0.96      0.97       574\n",
            " russianpost       0.90      0.96      0.93       527\n",
            "\n",
            "    accuracy                           0.96      2306\n",
            "   macro avg       0.96      0.96      0.96      2306\n",
            "weighted avg       0.96      0.96      0.96      2306\n",
            "\n"
          ],
          "name": "stdout"
        },
        {
          "output_type": "display_data",
          "data": {
            "image/png": "[encoded data removed]",
            "text/plain": [
              "<Figure size 432x288 with 1 Axes>"
            ]
          },
          "metadata": {
            "tags": []
          }
        }
      ]
    },
    {
      "cell_type": "markdown",
      "metadata": {
        "id": "8We-7R07FrMo",
        "colab_type": "text"
      },
      "source": [
        "сверточная нейронная сеть показала приблизительно такие же показатели по всем метрикам"
      ]
    },
    {
      "cell_type": "markdown",
      "metadata": {
        "id": "aYTTuB_344Hg",
        "colab_type": "text"
      },
      "source": [
        "## Задание 9 [4 + 2 балла]. RNN\n",
        "\n",
        "(4 балла)Используйте ```RNN``` (BLSTM с какими-то признаками и пулинг поверх) для решения задачи текстовой классификации. Оцените результаты классификации по стандартным мерам качества и проведите анализ ошибок. Для этого рекомендуем визуализировать матрицу ошибок (confusion matrix).\n",
        "\n",
        "За дополнительные 2 балла добавьте в модель символьные признаки - CharCNN или CharRNN"
      ]
    },
    {
      "cell_type": "code",
      "metadata": {
        "id": "b7Ho1925e3WD",
        "colab_type": "code",
        "colab": {}
      },
      "source": [
        "TEXT_LENGTH = 36898\n",
        "VOCABULARY_SIZE = 250000\n",
        "EMBEDDING_DIM = 300\n",
        "DIMS = 250\n",
        "MAX_FEATURES = 5000\n",
        "batch_size = 64\n",
        "\n",
        "nb_filter = 250\n",
        "filter_length = 3\n",
        "hidden_dims = 250\n",
        "nb_epoch = 5"
      ],
      "execution_count": 0,
      "outputs": []
    },
    {
      "cell_type": "code",
      "metadata": {
        "id": "_CjoYR6CfAhw",
        "colab_type": "code",
        "outputId": "2518aed3-e239-456e-b3d2-5c669e1607c0",
        "colab": {
          "base_uri": "https://localhost:8080/",
          "height": 34
        }
      },
      "source": [
        "tokenizer = Tokenizer(num_words=MAX_FEATURES)\n",
        "tokenizer.fit_on_texts(train.lemmatized)\n",
        "tokenizer"
      ],
      "execution_count": 0,
      "outputs": [
        {
          "output_type": "execute_result",
          "data": {
            "text/plain": [
              "<keras_preprocessing.text.Tokenizer at 0x7fc15237b400>"
            ]
          },
          "metadata": {
            "tags": []
          },
          "execution_count": 81
        }
      ]
    },
    {
      "cell_type": "code",
      "metadata": {
        "id": "rg3a0grffIYP",
        "colab_type": "code",
        "colab": {}
      },
      "source": [
        "sequences = tokenizer.texts_to_sequences(train.lemmatized)\n",
        "X_train = tokenizer.sequences_to_matrix(sequences, mode='count')\n",
        "sequences = tokenizer.texts_to_sequences(test.lemmatized)\n",
        "X_test = tokenizer.sequences_to_matrix(sequences, mode='count')"
      ],
      "execution_count": 0,
      "outputs": []
    },
    {
      "cell_type": "code",
      "metadata": {
        "id": "kFH6AONXfVHy",
        "colab_type": "code",
        "outputId": "1d3ac033-52e2-4495-d54a-ac9c69073b94",
        "colab": {
          "base_uri": "https://localhost:8080/",
          "height": 52
        }
      },
      "source": [
        "print('First seq:',sequences[0])\n",
        "print('First doc:',X_train[0])"
      ],
      "execution_count": 0,
      "outputs": [
        {
          "output_type": "stream",
          "text": [
            "First seq: [2263, 12, 3644, 754, 2127, 3160, 3644, 5, 1295, 2710, 246, 1418, 3201, 77, 412, 3350, 169, 458]\n",
            "First doc: [0. 1. 0. ... 0. 0. 0.]\n"
          ],
          "name": "stdout"
        }
      ]
    },
    {
      "cell_type": "code",
      "metadata": {
        "id": "frvYkOlTfaKA",
        "colab_type": "code",
        "outputId": "51efee38-f279-45dd-f1e2-96d3efff7f68",
        "colab": {
          "base_uri": "https://localhost:8080/",
          "height": 34
        }
      },
      "source": [
        "le = LabelEncoder()\n",
        "le.fit(train.source.unique())\n",
        "y_train = np_utils.to_categorical(le.transform(train.source), 4)\n",
        "y_test = np_utils.to_categorical(le.transform(test.source), 4)\n",
        "y_true = le.transform(test.source)\n",
        "print(y_train[0])"
      ],
      "execution_count": 0,
      "outputs": [
        {
          "output_type": "stream",
          "text": [
            "[0. 1. 0. 0.]\n"
          ],
          "name": "stdout"
        }
      ]
    },
    {
      "cell_type": "code",
      "metadata": {
        "id": "pwoBJD4XdqkN",
        "colab_type": "code",
        "outputId": "9213ffe1-f23b-4db3-b3ee-759b5b227cac",
        "colab": {
          "base_uri": "https://localhost:8080/",
          "height": 283
        }
      },
      "source": [
        "model = Sequential()\n",
        "model.add(Dense(128, input_shape=(MAX_FEATURES,), activation = 'relu'))\n",
        "model.add(Dropout(0.1))\n",
        "model.add(Dense(4, activation = 'softmax'))\n",
        "model.compile(loss='categorical_crossentropy', optimizer='adam', metrics=['accuracy'])\n",
        "model.fit(X_train, y_train, epochs=nb_epoch, batch_size=batch_size,  validation_split=0.1)"
      ],
      "execution_count": 0,
      "outputs": [
        {
          "output_type": "stream",
          "text": [
            "WARNING:tensorflow:From /usr/local/lib/python3.6/dist-packages/tensorflow/python/ops/math_ops.py:3066: to_int32 (from tensorflow.python.ops.math_ops) is deprecated and will be removed in a future version.\n",
            "Instructions for updating:\n",
            "Use tf.cast instead.\n",
            "Train on 8298 samples, validate on 922 samples\n",
            "Epoch 1/5\n",
            "8298/8298 [==============================] - 1s 133us/step - loss: 0.3154 - acc: 0.9463 - val_loss: 0.1401 - val_acc: 0.9696\n",
            "Epoch 2/5\n",
            "8298/8298 [==============================] - 1s 77us/step - loss: 0.0871 - acc: 0.9843 - val_loss: 0.1127 - val_acc: 0.9729\n",
            "Epoch 3/5\n",
            "8298/8298 [==============================] - 1s 77us/step - loss: 0.0506 - acc: 0.9902 - val_loss: 0.1101 - val_acc: 0.9751\n",
            "Epoch 4/5\n",
            "8298/8298 [==============================] - 1s 75us/step - loss: 0.0351 - acc: 0.9937 - val_loss: 0.1115 - val_acc: 0.9729\n",
            "Epoch 5/5\n",
            "8298/8298 [==============================] - 1s 76us/step - loss: 0.0261 - acc: 0.9952 - val_loss: 0.1099 - val_acc: 0.9740\n"
          ],
          "name": "stdout"
        },
        {
          "output_type": "execute_result",
          "data": {
            "text/plain": [
              "<keras.callbacks.History at 0x7fbf8a9def60>"
            ]
          },
          "metadata": {
            "tags": []
          },
          "execution_count": 87
        }
      ]
    },
    {
      "cell_type": "code",
      "metadata": {
        "id": "Ppgxr2b3dq3C",
        "colab_type": "code",
        "outputId": "6e66c7f1-3456-4186-e673-213ab2fec9a3",
        "colab": {
          "base_uri": "https://localhost:8080/",
          "height": 476
        }
      },
      "source": [
        "y_pred = model.predict_classes(X_test)\n",
        "print(classification_report(y_true, y_pred))\n",
        "labels = test.source.unique()\n",
        "y_true = le.inverse_transform(y_true)\n",
        "y_pred = le.inverse_transform(y_pred)\n",
        "sns.heatmap(data=confusion_matrix(y_true, y_pred, labels = labels), annot=True, fmt=\"d\", cbar=False, xticklabels=labels, yticklabels=labels)\n",
        "plt.title(\"Confusion matrix\")\n",
        "plt.show()"
      ],
      "execution_count": 0,
      "outputs": [
        {
          "output_type": "stream",
          "text": [
            "              precision    recall  f1-score   support\n",
            "\n",
            "           0       0.97      0.98      0.97       605\n",
            "           1       1.00      0.98      0.99       600\n",
            "           2       0.97      0.99      0.98       574\n",
            "           3       0.96      0.96      0.96       527\n",
            "\n",
            "    accuracy                           0.98      2306\n",
            "   macro avg       0.98      0.98      0.98      2306\n",
            "weighted avg       0.98      0.98      0.98      2306\n",
            "\n"
          ],
          "name": "stdout"
        },
        {
          "output_type": "display_data",
          "data": {
            "image/png": "[encoded data removed]",
            "text/plain": [
              "<Figure size 432x288 with 1 Axes>"
            ]
          },
          "metadata": {
            "tags": []
          }
        }
      ]
    },
    {
      "cell_type": "markdown",
      "metadata": {
        "id": "-uD02qrPGaAL",
        "colab_type": "text"
      },
      "source": [
        "0.98! довольно неплохо, попробуем LSTM"
      ]
    },
    {
      "cell_type": "markdown",
      "metadata": {
        "id": "eUpogKPll9mt",
        "colab_type": "text"
      },
      "source": [
        "LSTM"
      ]
    },
    {
      "cell_type": "code",
      "metadata": {
        "id": "LnLR3iD2l8AS",
        "colab_type": "code",
        "colab": {}
      },
      "source": [
        "from keras.layers import LSTM\n",
        "from keras.layers.embeddings import Embedding\n",
        "from keras.preprocessing import sequence"
      ],
      "execution_count": 0,
      "outputs": []
    },
    {
      "cell_type": "code",
      "metadata": {
        "id": "tS06Li1smohj",
        "colab_type": "code",
        "outputId": "e6853ef1-a38a-4f1d-e175-1fa2c23c50f5",
        "colab": {
          "base_uri": "https://localhost:8080/",
          "height": 34
        }
      },
      "source": [
        "print('максимальная длина в словах - ',df['count'].max())\n",
        "TEXT_LENGTH = 1619"
      ],
      "execution_count": 0,
      "outputs": [
        {
          "output_type": "stream",
          "text": [
            "максимальная длина в словах -  1619\n"
          ],
          "name": "stdout"
        }
      ]
    },
    {
      "cell_type": "code",
      "metadata": {
        "id": "ycWi3E25l8E7",
        "colab_type": "code",
        "colab": {}
      },
      "source": [
        "from keras.preprocessing import sequence\n",
        "sequences = tokenizer.texts_to_sequences(train.lemmatized)\n",
        "X_train = sequence.pad_sequences(sequences, maxlen=TEXT_LENGTH)\n",
        "sequences = tokenizer.texts_to_sequences(test.lemmatized)\n",
        "X_test = sequence.pad_sequences(sequences, maxlen=TEXT_LENGTH)"
      ],
      "execution_count": 0,
      "outputs": []
    },
    {
      "cell_type": "code",
      "metadata": {
        "id": "ZJez_skdpj1h",
        "colab_type": "code",
        "colab": {}
      },
      "source": [
        "max_review_length = max([len(el) for el in X_train])\n",
        "top_words = 3000"
      ],
      "execution_count": 0,
      "outputs": []
    },
    {
      "cell_type": "code",
      "metadata": {
        "id": "xQUF2fYCp4YR",
        "colab_type": "code",
        "outputId": "2912ca47-ff7d-46a7-d16b-13172a7f8fa7",
        "colab": {
          "base_uri": "https://localhost:8080/",
          "height": 407
        }
      },
      "source": [
        "embedding_vecor_length = 32\n",
        "model = Sequential()\n",
        "model.add(Embedding(top_words, embedding_vecor_length, input_length=max_review_length))\n",
        "model.add(LSTM(100))\n",
        "model.add(Dense(4, activation='sigmoid'))\n",
        "model.compile(loss='binary_crossentropy', optimizer='adam', metrics=['accuracy'])\n",
        "print(model.summary())\n",
        "model.fit(X_train, y_train, validation_data=(X_test, y_test), epochs=3, batch_size=64)"
      ],
      "execution_count": 0,
      "outputs": [
        {
          "output_type": "stream",
          "text": [
            "_________________________________________________________________\n",
            "Layer (type)                 Output Shape              Param #   \n",
            "=================================================================\n",
            "embedding_9 (Embedding)      (None, 1619, 32)          96000     \n",
            "_________________________________________________________________\n",
            "lstm_4 (LSTM)                (None, 100)               53200     \n",
            "_________________________________________________________________\n",
            "dense_19 (Dense)             (None, 4)                 404       \n",
            "=================================================================\n",
            "Total params: 149,604\n",
            "Trainable params: 149,604\n",
            "Non-trainable params: 0\n",
            "_________________________________________________________________\n",
            "None\n",
            "Train on 9220 samples, validate on 2306 samples\n",
            "Epoch 1/3\n",
            "9220/9220 [==============================] - 347s 38ms/step - loss: 0.3871 - acc: 0.8347 - val_loss: 0.1951 - val_acc: 0.9533\n",
            "Epoch 2/3\n",
            "9220/9220 [==============================] - 346s 38ms/step - loss: 0.1472 - acc: 0.9544 - val_loss: 0.0764 - val_acc: 0.9750\n",
            "Epoch 3/3\n",
            "9220/9220 [==============================] - 346s 37ms/step - loss: 0.0616 - acc: 0.9842 - val_loss: 0.0564 - val_acc: 0.9869\n"
          ],
          "name": "stdout"
        },
        {
          "output_type": "execute_result",
          "data": {
            "text/plain": [
              "<keras.callbacks.History at 0x7fbe7d4a4cc0>"
            ]
          },
          "metadata": {
            "tags": []
          },
          "execution_count": 119
        }
      ]
    },
    {
      "cell_type": "code",
      "metadata": {
        "id": "uyXeH4wixPFg",
        "colab_type": "code",
        "outputId": "19e934d3-5c2c-4425-cb10-4eafa90d7f5b",
        "colab": {
          "base_uri": "https://localhost:8080/",
          "height": 476
        }
      },
      "source": [
        "y_pred = model.predict_classes(X_test)\n",
        "y_pred = le.inverse_transform(y_pred)\n",
        "print(classification_report(y_true, y_pred))\n",
        "labels = test.source.unique()\n",
        "sns.heatmap(data=confusion_matrix(y_true, y_pred, labels = labels), annot=True, fmt=\"d\", cbar=False, xticklabels=labels, yticklabels=labels)\n",
        "plt.title(\"Confusion matrix\")\n",
        "plt.show()"
      ],
      "execution_count": 0,
      "outputs": [
        {
          "output_type": "stream",
          "text": [
            "              precision    recall  f1-score   support\n",
            "\n",
            "     mchsgov       0.97      0.97      0.97       605\n",
            "         mil       0.99      0.98      0.98       600\n",
            "   mospolice       0.97      0.99      0.98       574\n",
            " russianpost       0.96      0.95      0.96       527\n",
            "\n",
            "    accuracy                           0.97      2306\n",
            "   macro avg       0.97      0.97      0.97      2306\n",
            "weighted avg       0.97      0.97      0.97      2306\n",
            "\n"
          ],
          "name": "stdout"
        },
        {
          "output_type": "display_data",
          "data": {
            "image/png": "[encoded data removed]",
            "text/plain": [
              "<Figure size 432x288 with 1 Axes>"
            ]
          },
          "metadata": {
            "tags": []
          }
        }
      ]
    },
    {
      "cell_type": "markdown",
      "metadata": {
        "id": "Bq4FxhGfG2pC",
        "colab_type": "text"
      },
      "source": [
        "0.97, приблизительно также"
      ]
    },
    {
      "cell_type": "markdown",
      "metadata": {
        "id": "HfgyOhT7xhO9",
        "colab_type": "text"
      },
      "source": [
        " добавим сверточный слой + пулинг"
      ]
    },
    {
      "cell_type": "code",
      "metadata": {
        "id": "8-1v1J_-xa95",
        "colab_type": "code",
        "outputId": "e7d04be7-d4ff-4c39-8fb6-8ed636133c72",
        "colab": {
          "base_uri": "https://localhost:8080/",
          "height": 461
        }
      },
      "source": [
        "model = Sequential()\n",
        "model.add(Embedding(top_words, embedding_vecor_length, input_length=max_review_length))\n",
        "model.add(Conv1D(filters=32, kernel_size=3, padding='same', activation='relu'))\n",
        "model.add(MaxPooling1D(pool_size=2))\n",
        "model.add(LSTM(100))\n",
        "model.add(Dense(4, activation='sigmoid'))\n",
        "model.compile(loss='binary_crossentropy', optimizer='adam', metrics=['accuracy'])\n",
        "print(model.summary())\n",
        "model.fit(X_train, y_train, epochs=3, batch_size=64)"
      ],
      "execution_count": 0,
      "outputs": [
        {
          "output_type": "stream",
          "text": [
            "_________________________________________________________________\n",
            "Layer (type)                 Output Shape              Param #   \n",
            "=================================================================\n",
            "embedding_12 (Embedding)     (None, 1619, 32)          96000     \n",
            "_________________________________________________________________\n",
            "conv1d_8 (Conv1D)            (None, 1619, 32)          3104      \n",
            "_________________________________________________________________\n",
            "max_pooling1d_8 (MaxPooling1 (None, 809, 32)           0         \n",
            "_________________________________________________________________\n",
            "lstm_6 (LSTM)                (None, 100)               53200     \n",
            "_________________________________________________________________\n",
            "dense_22 (Dense)             (None, 4)                 404       \n",
            "=================================================================\n",
            "Total params: 152,708\n",
            "Trainable params: 152,708\n",
            "Non-trainable params: 0\n",
            "_________________________________________________________________\n",
            "None\n",
            "Epoch 1/3\n",
            "9220/9220 [==============================] - 163s 18ms/step - loss: 0.3769 - acc: 0.8411\n",
            "Epoch 2/3\n",
            "9220/9220 [==============================] - 161s 17ms/step - loss: 0.0869 - acc: 0.9770\n",
            "Epoch 3/3\n",
            "9220/9220 [==============================] - 162s 18ms/step - loss: 0.0507 - acc: 0.9867\n"
          ],
          "name": "stdout"
        },
        {
          "output_type": "execute_result",
          "data": {
            "text/plain": [
              "<keras.callbacks.History at 0x7fbe5bf57518>"
            ]
          },
          "metadata": {
            "tags": []
          },
          "execution_count": 130
        }
      ]
    },
    {
      "cell_type": "code",
      "metadata": {
        "id": "wY6uhLj8x8J6",
        "colab_type": "code",
        "outputId": "da6c7735-124f-4179-802b-2726ac56009d",
        "colab": {
          "base_uri": "https://localhost:8080/",
          "height": 476
        }
      },
      "source": [
        "y_pred = model.predict_classes(X_test)\n",
        "y_pred = le.inverse_transform(y_pred)\n",
        "print(classification_report(y_true, y_pred))\n",
        "labels = test.source.unique()\n",
        "sns.heatmap(data=confusion_matrix(y_true, y_pred, labels = labels), annot=True, fmt=\"d\", cbar=False, xticklabels=labels, yticklabels=labels)\n",
        "plt.title(\"Confusion matrix\")\n",
        "plt.show()"
      ],
      "execution_count": 0,
      "outputs": [
        {
          "output_type": "stream",
          "text": [
            "              precision    recall  f1-score   support\n",
            "\n",
            "     mchsgov       0.96      0.97      0.96       605\n",
            "         mil       0.99      0.97      0.98       600\n",
            "   mospolice       0.97      1.00      0.99       574\n",
            " russianpost       0.97      0.95      0.96       527\n",
            "\n",
            "    accuracy                           0.97      2306\n",
            "   macro avg       0.97      0.97      0.97      2306\n",
            "weighted avg       0.97      0.97      0.97      2306\n",
            "\n"
          ],
          "name": "stdout"
        },
        {
          "output_type": "display_data",
          "data": {
            "image/png": "[encoded data removed]",
            "text/plain": [
              "<Figure size 432x288 with 1 Axes>"
            ]
          },
          "metadata": {
            "tags": []
          }
        }
      ]
    },
    {
      "cell_type": "markdown",
      "metadata": {
        "id": "QB-wD_jRHC82",
        "colab_type": "text"
      },
      "source": [
        "добавление сверточного слоя и пулинга не сильно помогло, качество примерно такое же"
      ]
    },
    {
      "cell_type": "markdown",
      "metadata": {
        "id": "agzuBAI344Hh",
        "colab_type": "text"
      },
      "source": [
        "## Задание 10 [8 баллов]. ULMFit\n",
        "\n",
        "Используйте ```ULMFit``` для решения задачи классификации. Оцените результаты классификации по стандартным мерам качества и проведите анализ ошибок. Для этого рекомендуем визуализировать матрицу ошибок (confusion matrix). "
      ]
    },
    {
      "cell_type": "code",
      "metadata": {
        "id": "S3-rxUzA2FN9",
        "colab_type": "code",
        "colab": {}
      },
      "source": [
        "!pip install torch_nightly -f https://download.pytorch.org/whl/nightly/cu92/torch_nightly.html\n",
        "!pip install fastai"
      ],
      "execution_count": 0,
      "outputs": []
    },
    {
      "cell_type": "code",
      "metadata": {
        "id": "_PMF27lz2FLE",
        "colab_type": "code",
        "colab": {}
      },
      "source": [
        "import fastai\n",
        "from fastai import *\n",
        "from fastai.text import * \n",
        "from functools import partial\n",
        "import io\n",
        "import os"
      ],
      "execution_count": 0,
      "outputs": []
    },
    {
      "cell_type": "code",
      "metadata": {
        "id": "Lc6RSquM2PPj",
        "colab_type": "code",
        "outputId": "02cde47f-1849-4659-a7c6-6f90ce789a0a",
        "colab": {
          "base_uri": "https://localhost:8080/",
          "height": 514
        }
      },
      "source": [
        "data_lm = TextLMDataBunch.from_df(train_df = X_train, valid_df = X_test, path = '')\n",
        "data_clas = TextClasDataBunch.from_df(path = \"\", train_df = train.lemmatized, valid_df = test.lemmatized, vocab=data_lm.train_ds.vocab, bs=32)"
      ],
      "execution_count": 0,
      "outputs": [
        {
          "output_type": "error",
          "ename": "AttributeError",
          "evalue": "ignored",
          "traceback": [
            "\u001b[0;31m---------------------------------------------------------------------------\u001b[0m",
            "\u001b[0;31mAttributeError\u001b[0m                            Traceback (most recent call last)",
            "\u001b[0;32m<ipython-input-178-0766d753001c>\u001b[0m in \u001b[0;36m<module>\u001b[0;34m()\u001b[0m\n\u001b[0;32m----> 1\u001b[0;31m \u001b[0mdata_lm\u001b[0m \u001b[0;34m=\u001b[0m \u001b[0mTextLMDataBunch\u001b[0m\u001b[0;34m.\u001b[0m\u001b[0mfrom_df\u001b[0m\u001b[0;34m(\u001b[0m\u001b[0mtrain_df\u001b[0m \u001b[0;34m=\u001b[0m \u001b[0mX_train\u001b[0m\u001b[0;34m,\u001b[0m \u001b[0mvalid_df\u001b[0m \u001b[0;34m=\u001b[0m \u001b[0mX_test\u001b[0m\u001b[0;34m,\u001b[0m \u001b[0mpath\u001b[0m \u001b[0;34m=\u001b[0m \u001b[0;34m''\u001b[0m\u001b[0;34m)\u001b[0m\u001b[0;34m\u001b[0m\u001b[0;34m\u001b[0m\u001b[0m\n\u001b[0m\u001b[1;32m      2\u001b[0m \u001b[0;34m\u001b[0m\u001b[0m\n\u001b[1;32m      3\u001b[0m \u001b[0;31m# Classifier model data\u001b[0m\u001b[0;34m\u001b[0m\u001b[0;34m\u001b[0m\u001b[0;34m\u001b[0m\u001b[0m\n\u001b[1;32m      4\u001b[0m \u001b[0mdata_clas\u001b[0m \u001b[0;34m=\u001b[0m \u001b[0mTextClasDataBunch\u001b[0m\u001b[0;34m.\u001b[0m\u001b[0mfrom_df\u001b[0m\u001b[0;34m(\u001b[0m\u001b[0mpath\u001b[0m \u001b[0;34m=\u001b[0m \u001b[0;34m\"\"\u001b[0m\u001b[0;34m,\u001b[0m \u001b[0mtrain_df\u001b[0m \u001b[0;34m=\u001b[0m \u001b[0mtrain\u001b[0m\u001b[0;34m.\u001b[0m\u001b[0mlemmatized\u001b[0m\u001b[0;34m,\u001b[0m \u001b[0mvalid_df\u001b[0m \u001b[0;34m=\u001b[0m \u001b[0mtest\u001b[0m\u001b[0;34m.\u001b[0m\u001b[0mlemmatized\u001b[0m\u001b[0;34m,\u001b[0m \u001b[0mvocab\u001b[0m\u001b[0;34m=\u001b[0m\u001b[0mdata_lm\u001b[0m\u001b[0;34m.\u001b[0m\u001b[0mtrain_ds\u001b[0m\u001b[0;34m.\u001b[0m\u001b[0mvocab\u001b[0m\u001b[0;34m,\u001b[0m \u001b[0mbs\u001b[0m\u001b[0;34m=\u001b[0m\u001b[0;36m32\u001b[0m\u001b[0;34m)\u001b[0m\u001b[0;34m\u001b[0m\u001b[0;34m\u001b[0m\u001b[0m\n",
            "\u001b[0;32m/usr/local/lib/python3.6/dist-packages/fastai/text/data.py\u001b[0m in \u001b[0;36mfrom_df\u001b[0;34m(cls, path, train_df, valid_df, test_df, tokenizer, vocab, classes, text_cols, label_cols, label_delim, chunksize, max_vocab, min_freq, mark_fields, include_bos, include_eos, **kwargs)\u001b[0m\n\u001b[1;32m    197\u001b[0m                                    include_bos=include_bos, include_eos=include_eos)\n\u001b[1;32m    198\u001b[0m         \u001b[0;32mif\u001b[0m \u001b[0mclasses\u001b[0m \u001b[0;32mis\u001b[0m \u001b[0;32mNone\u001b[0m \u001b[0;32mand\u001b[0m \u001b[0mis_listy\u001b[0m\u001b[0;34m(\u001b[0m\u001b[0mlabel_cols\u001b[0m\u001b[0;34m)\u001b[0m \u001b[0;32mand\u001b[0m \u001b[0mlen\u001b[0m\u001b[0;34m(\u001b[0m\u001b[0mlabel_cols\u001b[0m\u001b[0;34m)\u001b[0m \u001b[0;34m>\u001b[0m \u001b[0;36m1\u001b[0m\u001b[0;34m:\u001b[0m \u001b[0mclasses\u001b[0m \u001b[0;34m=\u001b[0m \u001b[0mlabel_cols\u001b[0m\u001b[0;34m\u001b[0m\u001b[0;34m\u001b[0m\u001b[0m\n\u001b[0;32m--> 199\u001b[0;31m         src = ItemLists(path, TextList.from_df(train_df, path, cols=text_cols, processor=processor),\n\u001b[0m\u001b[1;32m    200\u001b[0m                         TextList.from_df(valid_df, path, cols=text_cols, processor=processor))\n\u001b[1;32m    201\u001b[0m         \u001b[0;32mif\u001b[0m \u001b[0mcls\u001b[0m\u001b[0;34m==\u001b[0m\u001b[0mTextLMDataBunch\u001b[0m\u001b[0;34m:\u001b[0m \u001b[0msrc\u001b[0m \u001b[0;34m=\u001b[0m \u001b[0msrc\u001b[0m\u001b[0;34m.\u001b[0m\u001b[0mlabel_for_lm\u001b[0m\u001b[0;34m(\u001b[0m\u001b[0;34m)\u001b[0m\u001b[0;34m\u001b[0m\u001b[0;34m\u001b[0m\u001b[0m\n",
            "\u001b[0;32m/usr/local/lib/python3.6/dist-packages/fastai/data_block.py\u001b[0m in \u001b[0;36mfrom_df\u001b[0;34m(cls, df, path, cols, processor, **kwargs)\u001b[0m\n\u001b[1;32m    121\u001b[0m     \u001b[0;32mdef\u001b[0m \u001b[0mfrom_df\u001b[0m\u001b[0;34m(\u001b[0m\u001b[0mcls\u001b[0m\u001b[0;34m,\u001b[0m \u001b[0mdf\u001b[0m\u001b[0;34m:\u001b[0m\u001b[0mDataFrame\u001b[0m\u001b[0;34m,\u001b[0m \u001b[0mpath\u001b[0m\u001b[0;34m:\u001b[0m\u001b[0mPathOrStr\u001b[0m\u001b[0;34m=\u001b[0m\u001b[0;34m'.'\u001b[0m\u001b[0;34m,\u001b[0m \u001b[0mcols\u001b[0m\u001b[0;34m:\u001b[0m\u001b[0mIntsOrStrs\u001b[0m\u001b[0;34m=\u001b[0m\u001b[0;36m0\u001b[0m\u001b[0;34m,\u001b[0m \u001b[0mprocessor\u001b[0m\u001b[0;34m:\u001b[0m\u001b[0mPreProcessors\u001b[0m\u001b[0;34m=\u001b[0m\u001b[0;32mNone\u001b[0m\u001b[0;34m,\u001b[0m \u001b[0;34m**\u001b[0m\u001b[0mkwargs\u001b[0m\u001b[0;34m)\u001b[0m\u001b[0;34m->\u001b[0m\u001b[0;34m'ItemList'\u001b[0m\u001b[0;34m:\u001b[0m\u001b[0;34m\u001b[0m\u001b[0;34m\u001b[0m\u001b[0m\n\u001b[1;32m    122\u001b[0m         \u001b[0;34m\"Create an `ItemList` in `path` from the inputs in the `cols` of `df`.\"\u001b[0m\u001b[0;34m\u001b[0m\u001b[0;34m\u001b[0m\u001b[0m\n\u001b[0;32m--> 123\u001b[0;31m         \u001b[0minputs\u001b[0m \u001b[0;34m=\u001b[0m \u001b[0mdf\u001b[0m\u001b[0;34m.\u001b[0m\u001b[0miloc\u001b[0m\u001b[0;34m[\u001b[0m\u001b[0;34m:\u001b[0m\u001b[0;34m,\u001b[0m\u001b[0mdf_names_to_idx\u001b[0m\u001b[0;34m(\u001b[0m\u001b[0mcols\u001b[0m\u001b[0;34m,\u001b[0m \u001b[0mdf\u001b[0m\u001b[0;34m)\u001b[0m\u001b[0;34m]\u001b[0m\u001b[0;34m\u001b[0m\u001b[0;34m\u001b[0m\u001b[0m\n\u001b[0m\u001b[1;32m    124\u001b[0m         \u001b[0;32massert\u001b[0m \u001b[0minputs\u001b[0m\u001b[0;34m.\u001b[0m\u001b[0misna\u001b[0m\u001b[0;34m(\u001b[0m\u001b[0;34m)\u001b[0m\u001b[0;34m.\u001b[0m\u001b[0msum\u001b[0m\u001b[0;34m(\u001b[0m\u001b[0;34m)\u001b[0m\u001b[0;34m.\u001b[0m\u001b[0msum\u001b[0m\u001b[0;34m(\u001b[0m\u001b[0;34m)\u001b[0m \u001b[0;34m==\u001b[0m \u001b[0;36m0\u001b[0m\u001b[0;34m,\u001b[0m \u001b[0;34mf\"You have NaN values in column(s) {cols} of your dataframe, please fix it.\"\u001b[0m\u001b[0;34m\u001b[0m\u001b[0;34m\u001b[0m\u001b[0m\n\u001b[1;32m    125\u001b[0m         \u001b[0mres\u001b[0m \u001b[0;34m=\u001b[0m \u001b[0mcls\u001b[0m\u001b[0;34m(\u001b[0m\u001b[0mitems\u001b[0m\u001b[0;34m=\u001b[0m\u001b[0m_maybe_squeeze\u001b[0m\u001b[0;34m(\u001b[0m\u001b[0minputs\u001b[0m\u001b[0;34m.\u001b[0m\u001b[0mvalues\u001b[0m\u001b[0;34m)\u001b[0m\u001b[0;34m,\u001b[0m \u001b[0mpath\u001b[0m\u001b[0;34m=\u001b[0m\u001b[0mpath\u001b[0m\u001b[0;34m,\u001b[0m \u001b[0minner_df\u001b[0m\u001b[0;34m=\u001b[0m\u001b[0mdf\u001b[0m\u001b[0;34m,\u001b[0m \u001b[0mprocessor\u001b[0m\u001b[0;34m=\u001b[0m\u001b[0mprocessor\u001b[0m\u001b[0;34m,\u001b[0m \u001b[0;34m**\u001b[0m\u001b[0mkwargs\u001b[0m\u001b[0;34m)\u001b[0m\u001b[0;34m\u001b[0m\u001b[0;34m\u001b[0m\u001b[0m\n",
            "\u001b[0;31mAttributeError\u001b[0m: 'tuple' object has no attribute 'iloc'"
          ]
        }
      ]
    },
    {
      "cell_type": "markdown",
      "metadata": {
        "id": "Et-XP6wFLHW6",
        "colab_type": "text"
      },
      "source": [
        ""
      ]
    },
    {
      "cell_type": "code",
      "metadata": {
        "id": "M9XY8bz72PXZ",
        "colab_type": "code",
        "colab": {}
      },
      "source": [
        ""
      ],
      "execution_count": 0,
      "outputs": []
    },
    {
      "cell_type": "markdown",
      "metadata": {
        "colab_type": "text",
        "id": "_8fKqCD6Q5tW"
      },
      "source": [
        "## Конец\n",
        "Выполните какие-то из предыдущих заданий. Для всех заданий, кроме задания 1 требуется вычислить метрику accuracy метода.\n",
        "\n",
        "Подведите итоги и проведите сравнение всех использованных методов. Какой из них показался вам лучше и почему?\n",
        "\n",
        "**NB!** Задание обязательное вне зависимости от того, сколько из предыдущих пунктов вы выполнили, и дополнительных баллов не дает.\n",
        "\n",
        "\n",
        "Для получения полной оценки за NLP-часть достаточно набрать **20 баллов**."
      ]
    },
    {
      "cell_type": "markdown",
      "metadata": {
        "id": "txEz-KmMJ7J_",
        "colab_type": "text"
      },
      "source": [
        "Показались лучше нейросети, так как ими было достигнуто лучшее качество, но все остальные методы, кроме правил, достигли качества >0.95, что также весьма неплохо"
      ]
    },
    {
      "cell_type": "markdown",
      "metadata": {
        "colab_type": "text",
        "id": "4FkOuR_NiXeT"
      },
      "source": [
        "# Правила сдачи \n",
        "\n",
        "1. Домашняя работа должна быть выполнена в ipynb-тетрадке.\n",
        "2. Сделанную тетрадку нужно отправить ассистенту (ссылка на контакты будет в вики).\n",
        "3. Задание выполняется индивидуально.\n",
        "4. Все вычисления должны быть снабжены пояснениями!\n",
        "5. Дедлайн – 10 июня в 10.00.\n"
      ]
    },
    {
      "cell_type": "code",
      "metadata": {
        "id": "y66140c844Hk",
        "colab_type": "code",
        "colab": {}
      },
      "source": [
        ""
      ],
      "execution_count": 0,
      "outputs": []
    }
  ]
}